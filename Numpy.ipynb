{
  "cells": [
    {
      "metadata": {},
      "id": "b6c55a1c",
      "cell_type": "markdown",
      "source": "# Numpy\n\n- NumPy is a general-purpose array-processing package.\n- Numpy was created to work with multidmensional arrays.\n- It is the fundamental package for scientific computing with Python.\n- It is open-source library."
    },
    {
      "metadata": {},
      "id": "aa77efd3",
      "cell_type": "markdown",
      "source": "# Why Use NumPy?\n- In Python we have lists that serve the purpose of arrays, but they are slow to process.\n\n- NumPy aims to provide an array object that is up to 50x faster than traditional Python lists.\n\n- The array object in NumPy is called ndarray, it provides a lot of supporting functions that make working with ndarray very easy.\n\n- Arrays are very frequently used in data science, where speed and resources are very important."
    },
    {
      "metadata": {
        "trusted": false
      },
      "id": "d1adccfe",
      "cell_type": "code",
      "source": "#Importing necessary library\n\n!pip install numpy",
      "execution_count": 1,
      "outputs": [
        {
          "name": "stdout",
          "output_type": "stream",
          "text": "Requirement already satisfied: numpy in c:\\users\\aishwarya\\anaconda3\\lib\\site-packages (1.21.5)\n"
        }
      ]
    },
    {
      "metadata": {
        "trusted": false
      },
      "id": "193d2e8e",
      "cell_type": "code",
      "source": "import numpy as np",
      "execution_count": 1,
      "outputs": []
    },
    {
      "metadata": {
        "trusted": false
      },
      "id": "171b2621",
      "cell_type": "code",
      "source": "#Array Creation",
      "execution_count": 2,
      "outputs": []
    },
    {
      "metadata": {
        "trusted": false
      },
      "id": "dea61256",
      "cell_type": "code",
      "source": "a = np.array([1,2,3,4,5])\nprint(a)\ntype(a)\na.ndim",
      "execution_count": 11,
      "outputs": [
        {
          "name": "stdout",
          "output_type": "stream",
          "text": "[1 2 3 4 5]\n"
        },
        {
          "data": {
            "text/plain": "1"
          },
          "execution_count": 11,
          "metadata": {},
          "output_type": "execute_result"
        }
      ]
    },
    {
      "metadata": {
        "trusted": false
      },
      "id": "ed58490f",
      "cell_type": "code",
      "source": "#Zero dimensional array",
      "execution_count": 10,
      "outputs": []
    },
    {
      "metadata": {
        "trusted": false
      },
      "id": "f6b5d851",
      "cell_type": "code",
      "source": "z = np.array(10)\nprint(z.ndim)\ntype(z)",
      "execution_count": 18,
      "outputs": [
        {
          "name": "stdout",
          "output_type": "stream",
          "text": "0\n"
        },
        {
          "data": {
            "text/plain": "numpy.ndarray"
          },
          "execution_count": 18,
          "metadata": {},
          "output_type": "execute_result"
        }
      ]
    },
    {
      "metadata": {
        "trusted": false
      },
      "id": "33d89455",
      "cell_type": "code",
      "source": "#One dimensional array",
      "execution_count": 11,
      "outputs": []
    },
    {
      "metadata": {
        "trusted": false
      },
      "id": "cd6a7ec5",
      "cell_type": "code",
      "source": "a = np.array([1,2,3,4,5])\na.ndim",
      "execution_count": 17,
      "outputs": [
        {
          "data": {
            "text/plain": "1"
          },
          "execution_count": 17,
          "metadata": {},
          "output_type": "execute_result"
        }
      ]
    },
    {
      "metadata": {
        "trusted": false
      },
      "id": "63162fb5",
      "cell_type": "code",
      "source": "#Two dimensional array",
      "execution_count": 12,
      "outputs": []
    },
    {
      "metadata": {
        "trusted": false
      },
      "id": "f3bf75e0",
      "cell_type": "code",
      "source": "t = np.array([[1,2,3,4,5]])\nprint(t)\nprint(t.ndim)",
      "execution_count": 19,
      "outputs": [
        {
          "name": "stdout",
          "output_type": "stream",
          "text": "[[1 2 3 4 5]]\n2\n"
        }
      ]
    },
    {
      "metadata": {
        "trusted": false
      },
      "id": "0905f753",
      "cell_type": "code",
      "source": "#Three dimensional array",
      "execution_count": 13,
      "outputs": []
    },
    {
      "metadata": {
        "trusted": false
      },
      "id": "8fc45c90",
      "cell_type": "code",
      "source": "b = np.array([[[1,2,3,4,5]]])\nprint(b)\nprint(b.ndim)",
      "execution_count": 20,
      "outputs": [
        {
          "name": "stdout",
          "output_type": "stream",
          "text": "[[[1 2 3 4 5]]]\n3\n"
        }
      ]
    },
    {
      "metadata": {
        "trusted": false
      },
      "id": "b14366dc",
      "cell_type": "code",
      "source": "#Change the data type of the array elements.",
      "execution_count": 9,
      "outputs": []
    },
    {
      "metadata": {
        "trusted": false
      },
      "id": "afbbe1ba",
      "cell_type": "code",
      "source": "a = np.array([[1.0,2.0,3.0,4.0,5.0]], dtype = 'int' )\na",
      "execution_count": 23,
      "outputs": [
        {
          "data": {
            "text/plain": "array([[1, 2, 3, 4, 5]])"
          },
          "execution_count": 23,
          "metadata": {},
          "output_type": "execute_result"
        }
      ]
    },
    {
      "metadata": {},
      "id": "2ff2c8a5",
      "cell_type": "markdown",
      "source": "# Other ways of creating an array\n1. arange\n2. linspace\n3. zeros\n4. ones"
    },
    {
      "metadata": {
        "trusted": false
      },
      "id": "5e2d8474",
      "cell_type": "code",
      "source": "a = np.arange(500,1000)\na",
      "execution_count": 27,
      "outputs": [
        {
          "data": {
            "text/plain": "array([500, 501, 502, 503, 504, 505, 506, 507, 508, 509, 510, 511, 512,\n       513, 514, 515, 516, 517, 518, 519, 520, 521, 522, 523, 524, 525,\n       526, 527, 528, 529, 530, 531, 532, 533, 534, 535, 536, 537, 538,\n       539, 540, 541, 542, 543, 544, 545, 546, 547, 548, 549, 550, 551,\n       552, 553, 554, 555, 556, 557, 558, 559, 560, 561, 562, 563, 564,\n       565, 566, 567, 568, 569, 570, 571, 572, 573, 574, 575, 576, 577,\n       578, 579, 580, 581, 582, 583, 584, 585, 586, 587, 588, 589, 590,\n       591, 592, 593, 594, 595, 596, 597, 598, 599, 600, 601, 602, 603,\n       604, 605, 606, 607, 608, 609, 610, 611, 612, 613, 614, 615, 616,\n       617, 618, 619, 620, 621, 622, 623, 624, 625, 626, 627, 628, 629,\n       630, 631, 632, 633, 634, 635, 636, 637, 638, 639, 640, 641, 642,\n       643, 644, 645, 646, 647, 648, 649, 650, 651, 652, 653, 654, 655,\n       656, 657, 658, 659, 660, 661, 662, 663, 664, 665, 666, 667, 668,\n       669, 670, 671, 672, 673, 674, 675, 676, 677, 678, 679, 680, 681,\n       682, 683, 684, 685, 686, 687, 688, 689, 690, 691, 692, 693, 694,\n       695, 696, 697, 698, 699, 700, 701, 702, 703, 704, 705, 706, 707,\n       708, 709, 710, 711, 712, 713, 714, 715, 716, 717, 718, 719, 720,\n       721, 722, 723, 724, 725, 726, 727, 728, 729, 730, 731, 732, 733,\n       734, 735, 736, 737, 738, 739, 740, 741, 742, 743, 744, 745, 746,\n       747, 748, 749, 750, 751, 752, 753, 754, 755, 756, 757, 758, 759,\n       760, 761, 762, 763, 764, 765, 766, 767, 768, 769, 770, 771, 772,\n       773, 774, 775, 776, 777, 778, 779, 780, 781, 782, 783, 784, 785,\n       786, 787, 788, 789, 790, 791, 792, 793, 794, 795, 796, 797, 798,\n       799, 800, 801, 802, 803, 804, 805, 806, 807, 808, 809, 810, 811,\n       812, 813, 814, 815, 816, 817, 818, 819, 820, 821, 822, 823, 824,\n       825, 826, 827, 828, 829, 830, 831, 832, 833, 834, 835, 836, 837,\n       838, 839, 840, 841, 842, 843, 844, 845, 846, 847, 848, 849, 850,\n       851, 852, 853, 854, 855, 856, 857, 858, 859, 860, 861, 862, 863,\n       864, 865, 866, 867, 868, 869, 870, 871, 872, 873, 874, 875, 876,\n       877, 878, 879, 880, 881, 882, 883, 884, 885, 886, 887, 888, 889,\n       890, 891, 892, 893, 894, 895, 896, 897, 898, 899, 900, 901, 902,\n       903, 904, 905, 906, 907, 908, 909, 910, 911, 912, 913, 914, 915,\n       916, 917, 918, 919, 920, 921, 922, 923, 924, 925, 926, 927, 928,\n       929, 930, 931, 932, 933, 934, 935, 936, 937, 938, 939, 940, 941,\n       942, 943, 944, 945, 946, 947, 948, 949, 950, 951, 952, 953, 954,\n       955, 956, 957, 958, 959, 960, 961, 962, 963, 964, 965, 966, 967,\n       968, 969, 970, 971, 972, 973, 974, 975, 976, 977, 978, 979, 980,\n       981, 982, 983, 984, 985, 986, 987, 988, 989, 990, 991, 992, 993,\n       994, 995, 996, 997, 998, 999])"
          },
          "execution_count": 27,
          "metadata": {},
          "output_type": "execute_result"
        }
      ]
    },
    {
      "metadata": {
        "trusted": false
      },
      "id": "12271dea",
      "cell_type": "code",
      "source": "l = np.linspace(1,20,25, retstep=True)\nl",
      "execution_count": 30,
      "outputs": [
        {
          "data": {
            "text/plain": "(array([ 1.        ,  1.79166667,  2.58333333,  3.375     ,  4.16666667,\n         4.95833333,  5.75      ,  6.54166667,  7.33333333,  8.125     ,\n         8.91666667,  9.70833333, 10.5       , 11.29166667, 12.08333333,\n        12.875     , 13.66666667, 14.45833333, 15.25      , 16.04166667,\n        16.83333333, 17.625     , 18.41666667, 19.20833333, 20.        ]),\n 0.7916666666666666)"
          },
          "execution_count": 30,
          "metadata": {},
          "output_type": "execute_result"
        }
      ]
    },
    {
      "metadata": {
        "trusted": false
      },
      "id": "a805f60a",
      "cell_type": "code",
      "source": "z = np.zeros([2,2])\n\nz",
      "execution_count": 33,
      "outputs": [
        {
          "data": {
            "text/plain": "array([[0., 0.],\n       [0., 0.]])"
          },
          "execution_count": 33,
          "metadata": {},
          "output_type": "execute_result"
        }
      ]
    },
    {
      "metadata": {
        "trusted": false
      },
      "id": "f2879158",
      "cell_type": "code",
      "source": "o = np.ones([2,2])\no",
      "execution_count": 35,
      "outputs": [
        {
          "data": {
            "text/plain": "array([[1., 1.],\n       [1., 1.]])"
          },
          "execution_count": 35,
          "metadata": {},
          "output_type": "execute_result"
        }
      ]
    },
    {
      "metadata": {},
      "id": "fb232506",
      "cell_type": "markdown",
      "source": "# Slicing and Indexing of arrays"
    },
    {
      "metadata": {
        "trusted": false
      },
      "id": "31ec533c",
      "cell_type": "code",
      "source": "a = np.array([[1,2,3],[7,8,9]])\na",
      "execution_count": 8,
      "outputs": [
        {
          "data": {
            "text/plain": "array([[1, 2, 3],\n       [7, 8, 9]])"
          },
          "execution_count": 8,
          "metadata": {},
          "output_type": "execute_result"
        }
      ]
    },
    {
      "metadata": {
        "trusted": false
      },
      "id": "47fe8a48",
      "cell_type": "code",
      "source": "a[0,0]",
      "execution_count": 38,
      "outputs": [
        {
          "data": {
            "text/plain": "1"
          },
          "execution_count": 38,
          "metadata": {},
          "output_type": "execute_result"
        }
      ]
    },
    {
      "metadata": {
        "trusted": false
      },
      "id": "4fa2ded3",
      "cell_type": "code",
      "source": "a[1,2]",
      "execution_count": 39,
      "outputs": [
        {
          "data": {
            "text/plain": "9"
          },
          "execution_count": 39,
          "metadata": {},
          "output_type": "execute_result"
        }
      ]
    },
    {
      "metadata": {
        "trusted": false
      },
      "id": "12788d97",
      "cell_type": "code",
      "source": "a[:,1:]",
      "execution_count": 40,
      "outputs": [
        {
          "data": {
            "text/plain": "array([[2, 3],\n       [8, 9]])"
          },
          "execution_count": 40,
          "metadata": {},
          "output_type": "execute_result"
        }
      ]
    },
    {
      "metadata": {
        "trusted": false
      },
      "id": "a9e56f2a",
      "cell_type": "code",
      "source": "a[0,1:]",
      "execution_count": 41,
      "outputs": [
        {
          "data": {
            "text/plain": "array([2, 3])"
          },
          "execution_count": 41,
          "metadata": {},
          "output_type": "execute_result"
        }
      ]
    },
    {
      "metadata": {
        "trusted": false
      },
      "id": "86f5eb99",
      "cell_type": "code",
      "source": "a",
      "execution_count": 4,
      "outputs": [
        {
          "data": {
            "text/plain": "array([[1, 2, 3],\n       [7, 8, 9]])"
          },
          "execution_count": 4,
          "metadata": {},
          "output_type": "execute_result"
        }
      ]
    },
    {
      "metadata": {
        "trusted": false
      },
      "id": "1f0a7d0f",
      "cell_type": "code",
      "source": "a[[0,0],[1,2]]",
      "execution_count": 9,
      "outputs": [
        {
          "data": {
            "text/plain": "array([2, 3])"
          },
          "execution_count": 9,
          "metadata": {},
          "output_type": "execute_result"
        }
      ]
    },
    {
      "metadata": {
        "trusted": false
      },
      "id": "492aa7e9",
      "cell_type": "code",
      "source": "a[[0,1],[0,2]]",
      "execution_count": 10,
      "outputs": [
        {
          "data": {
            "text/plain": "array([1, 9])"
          },
          "execution_count": 10,
          "metadata": {},
          "output_type": "execute_result"
        }
      ]
    },
    {
      "metadata": {},
      "id": "3bdf9c2b",
      "cell_type": "markdown",
      "source": "# Aggregate Functions\n\n- The Python numpy aggregate functions are sum, min, max, mean, average, product, median, standard deviation, variance,  percentile, and corrcoef."
    },
    {
      "metadata": {
        "trusted": false
      },
      "id": "d8150b59",
      "cell_type": "code",
      "source": "a = np.array([1,2,3,4,5])",
      "execution_count": 11,
      "outputs": []
    },
    {
      "metadata": {
        "trusted": false
      },
      "id": "a9754cdd",
      "cell_type": "code",
      "source": "a.sum()",
      "execution_count": 12,
      "outputs": [
        {
          "data": {
            "text/plain": "15"
          },
          "execution_count": 12,
          "metadata": {},
          "output_type": "execute_result"
        }
      ]
    },
    {
      "metadata": {
        "trusted": false
      },
      "id": "af157b67",
      "cell_type": "code",
      "source": "a.min()",
      "execution_count": 14,
      "outputs": [
        {
          "data": {
            "text/plain": "1"
          },
          "execution_count": 14,
          "metadata": {},
          "output_type": "execute_result"
        }
      ]
    },
    {
      "metadata": {
        "trusted": false
      },
      "id": "a8659f80",
      "cell_type": "code",
      "source": "a.max()",
      "execution_count": 15,
      "outputs": [
        {
          "data": {
            "text/plain": "5"
          },
          "execution_count": 15,
          "metadata": {},
          "output_type": "execute_result"
        }
      ]
    },
    {
      "metadata": {
        "trusted": false
      },
      "id": "bbff223c",
      "cell_type": "code",
      "source": "a.mean()",
      "execution_count": 17,
      "outputs": [
        {
          "data": {
            "text/plain": "3.0"
          },
          "execution_count": 17,
          "metadata": {},
          "output_type": "execute_result"
        }
      ]
    },
    {
      "metadata": {
        "trusted": false
      },
      "id": "901a98ac",
      "cell_type": "code",
      "source": "a.std()",
      "execution_count": 18,
      "outputs": [
        {
          "data": {
            "text/plain": "1.4142135623730951"
          },
          "execution_count": 18,
          "metadata": {},
          "output_type": "execute_result"
        }
      ]
    },
    {
      "metadata": {},
      "id": "f5a64e45",
      "cell_type": "markdown",
      "source": "# Stacking \n- Stacking is used to join 2 different arrays.\n- Vertical stacking\n- Horizontal stacking"
    },
    {
      "metadata": {
        "trusted": false
      },
      "id": "2cc2ea35",
      "cell_type": "code",
      "source": "a = np.array([1,2,3])\nb = np.array([4,5,6])",
      "execution_count": 23,
      "outputs": []
    },
    {
      "metadata": {
        "trusted": false
      },
      "id": "7af3fa15",
      "cell_type": "code",
      "source": "c = np.vstack([a,b])\nc",
      "execution_count": 22,
      "outputs": [
        {
          "data": {
            "text/plain": "array([[1, 2, 3],\n       [4, 5, 6]])"
          },
          "execution_count": 22,
          "metadata": {},
          "output_type": "execute_result"
        }
      ]
    },
    {
      "metadata": {
        "trusted": false
      },
      "id": "fda110d8",
      "cell_type": "code",
      "source": "d = np.hstack([a,b])",
      "execution_count": 24,
      "outputs": []
    },
    {
      "metadata": {
        "trusted": false
      },
      "id": "f04c6183",
      "cell_type": "code",
      "source": "d",
      "execution_count": 25,
      "outputs": [
        {
          "data": {
            "text/plain": "array([1, 2, 3, 4, 5, 6])"
          },
          "execution_count": 25,
          "metadata": {},
          "output_type": "execute_result"
        }
      ]
    },
    {
      "metadata": {
        "trusted": false
      },
      "id": "350258a4",
      "cell_type": "code",
      "source": "",
      "execution_count": null,
      "outputs": []
    }
  ],
  "metadata": {
    "kernelspec": {
      "name": "python3",
      "display_name": "Python 3 (ipykernel)",
      "language": "python"
    },
    "language_info": {
      "name": "python",
      "version": "3.9.13",
      "mimetype": "text/x-python",
      "codemirror_mode": {
        "name": "ipython",
        "version": 3
      },
      "pygments_lexer": "ipython3",
      "nbconvert_exporter": "python",
      "file_extension": ".py"
    },
    "gist": {
      "id": "",
      "data": {
        "description": "ExcelR/Numpy.ipynb",
        "public": true
      }
    }
  },
  "nbformat": 4,
  "nbformat_minor": 5
}