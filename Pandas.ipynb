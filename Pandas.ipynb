{
  "cells": [
    {
      "metadata": {},
      "id": "c7ec3db5",
      "cell_type": "markdown",
      "source": "# Pandas\n\n- Pandas is an open-source library that is made mainly for working with relational or labeled data both easily and intuitively. \n- It provides various data structures and operations for manipulating numerical data and time series. \n- This library is built on top of the NumPy library. \n- Pandas is fast and it has high performance & productivity for users.\n- Pandas generally provide two data structures for manipulating data, They are: \n   - Series\n   - DataFrame"
    },
    {
      "metadata": {
        "trusted": false
      },
      "id": "e58c21e1",
      "cell_type": "code",
      "source": "#Importing necessary libraries",
      "execution_count": 79,
      "outputs": []
    },
    {
      "metadata": {
        "trusted": false
      },
      "id": "513dfcba",
      "cell_type": "code",
      "source": "import pandas as pd",
      "execution_count": 2,
      "outputs": []
    },
    {
      "metadata": {
        "trusted": false
      },
      "id": "24a7cb23",
      "cell_type": "code",
      "source": "import warnings\nwarnings.filterwarnings('ignore')",
      "execution_count": 101,
      "outputs": []
    },
    {
      "metadata": {},
      "id": "68ad4cb8",
      "cell_type": "markdown",
      "source": "# Series\n- Series is a one-dimensional labeled array and capable of holding data of any type (integer, string, float, python objects, etc.)"
    },
    {
      "metadata": {
        "trusted": false
      },
      "id": "29ec6495",
      "cell_type": "code",
      "source": "#Series creation.",
      "execution_count": 80,
      "outputs": []
    },
    {
      "metadata": {
        "trusted": false
      },
      "id": "cc28eca8",
      "cell_type": "code",
      "source": "lst = [10,10.5,'Python']\ntype(lst)",
      "execution_count": 103,
      "outputs": [
        {
          "data": {
            "text/plain": "list"
          },
          "execution_count": 103,
          "metadata": {},
          "output_type": "execute_result"
        }
      ]
    },
    {
      "metadata": {
        "trusted": false
      },
      "id": "8a9351ff",
      "cell_type": "code",
      "source": "s = pd.Series(lst)",
      "execution_count": 105,
      "outputs": []
    },
    {
      "metadata": {
        "trusted": false
      },
      "id": "c97a5ed4",
      "cell_type": "code",
      "source": "s",
      "execution_count": 106,
      "outputs": [
        {
          "data": {
            "text/plain": "0        10\n1      10.5\n2    Python\ndtype: object"
          },
          "execution_count": 106,
          "metadata": {},
          "output_type": "execute_result"
        }
      ]
    },
    {
      "metadata": {
        "trusted": false
      },
      "id": "6bab1086",
      "cell_type": "code",
      "source": "type(s)",
      "execution_count": 107,
      "outputs": [
        {
          "data": {
            "text/plain": "pandas.core.series.Series"
          },
          "execution_count": 107,
          "metadata": {},
          "output_type": "execute_result"
        }
      ]
    },
    {
      "metadata": {
        "trusted": false
      },
      "id": "77d34b6b",
      "cell_type": "code",
      "source": "s1 = pd.Series(data = ['Python','Machine learning','DL'], index=['S1','S2','S3'], name='My series')\ns1",
      "execution_count": 109,
      "outputs": [
        {
          "data": {
            "text/plain": "S1              Python\nS2    Machine learning\nS3                  DL\nName: My series, dtype: object"
          },
          "execution_count": 109,
          "metadata": {},
          "output_type": "execute_result"
        }
      ]
    },
    {
      "metadata": {
        "trusted": false
      },
      "id": "f68043a9",
      "cell_type": "code",
      "source": "d = {1:'Python',2:'ML',3:\"DL\"}\ntype(d)",
      "execution_count": 111,
      "outputs": [
        {
          "data": {
            "text/plain": "dict"
          },
          "execution_count": 111,
          "metadata": {},
          "output_type": "execute_result"
        }
      ]
    },
    {
      "metadata": {
        "trusted": false
      },
      "id": "dad1583d",
      "cell_type": "code",
      "source": "s2 = pd.Series(d)",
      "execution_count": 112,
      "outputs": []
    },
    {
      "metadata": {
        "trusted": false
      },
      "id": "50f0df0c",
      "cell_type": "code",
      "source": "print(s2)\nprint(type(s2))",
      "execution_count": 113,
      "outputs": [
        {
          "name": "stdout",
          "output_type": "stream",
          "text": "1    Python\n2        ML\n3        DL\ndtype: object\n<class 'pandas.core.series.Series'>\n"
        }
      ]
    },
    {
      "metadata": {
        "trusted": false
      },
      "id": "2f21b30f",
      "cell_type": "code",
      "source": "#Accessing elements from a series using index labels.",
      "execution_count": 81,
      "outputs": []
    },
    {
      "metadata": {
        "trusted": false
      },
      "id": "828e5564",
      "cell_type": "code",
      "source": "s1['S1']",
      "execution_count": 115,
      "outputs": [
        {
          "data": {
            "text/plain": "'Python'"
          },
          "execution_count": 115,
          "metadata": {},
          "output_type": "execute_result"
        }
      ]
    },
    {
      "metadata": {
        "trusted": false
      },
      "id": "c169ddc3",
      "cell_type": "code",
      "source": "s1['S3']",
      "execution_count": 116,
      "outputs": [
        {
          "data": {
            "text/plain": "'DL'"
          },
          "execution_count": 116,
          "metadata": {},
          "output_type": "execute_result"
        }
      ]
    },
    {
      "metadata": {
        "trusted": false
      },
      "id": "652ad554",
      "cell_type": "code",
      "source": "#Series slicing",
      "execution_count": 27,
      "outputs": []
    },
    {
      "metadata": {
        "trusted": false
      },
      "id": "c43d1390",
      "cell_type": "code",
      "source": "s1",
      "execution_count": 121,
      "outputs": [
        {
          "data": {
            "text/plain": "S1              Python\nS2    Machine learning\nS3                  DL\nName: My series, dtype: object"
          },
          "execution_count": 121,
          "metadata": {},
          "output_type": "execute_result"
        }
      ]
    },
    {
      "metadata": {
        "trusted": false
      },
      "id": "9d9d62f4",
      "cell_type": "code",
      "source": "s1[1:3]",
      "execution_count": 123,
      "outputs": [
        {
          "data": {
            "text/plain": "S2    Machine learning\nS3                  DL\nName: My series, dtype: object"
          },
          "execution_count": 123,
          "metadata": {},
          "output_type": "execute_result"
        }
      ]
    },
    {
      "metadata": {},
      "id": "f1deee1d",
      "cell_type": "markdown",
      "source": "# DataFrame\n- A Pandas DataFrame is a 2 dimensional data structure, like a 2 dimensional array, or a table with rows and columns"
    },
    {
      "metadata": {},
      "id": "61a230ab",
      "cell_type": "markdown",
      "source": "**Ways to create pandas DataFrame.**\n1. By creating a nested lists and colname lists.\n2. By creating a dictionary"
    },
    {
      "metadata": {
        "trusted": false
      },
      "id": "499d1ecf",
      "cell_type": "code",
      "source": "lst = [['Python',100,'Pune'],['ML',90,'Mumbai'],['DL',96,'HYD']]\ncol = ['Subject','Marks','City']",
      "execution_count": 157,
      "outputs": []
    },
    {
      "metadata": {
        "trusted": false
      },
      "id": "b33f730b",
      "cell_type": "code",
      "source": "df1 = pd.DataFrame(data = lst,columns=col )\ndf1",
      "execution_count": 159,
      "outputs": [
        {
          "data": {
            "text/html": "<div>\n<style scoped>\n    .dataframe tbody tr th:only-of-type {\n        vertical-align: middle;\n    }\n\n    .dataframe tbody tr th {\n        vertical-align: top;\n    }\n\n    .dataframe thead th {\n        text-align: right;\n    }\n</style>\n<table border=\"1\" class=\"dataframe\">\n  <thead>\n    <tr style=\"text-align: right;\">\n      <th></th>\n      <th>Subject</th>\n      <th>Marks</th>\n      <th>City</th>\n    </tr>\n  </thead>\n  <tbody>\n    <tr>\n      <th>0</th>\n      <td>Python</td>\n      <td>100</td>\n      <td>Pune</td>\n    </tr>\n    <tr>\n      <th>1</th>\n      <td>ML</td>\n      <td>90</td>\n      <td>Mumbai</td>\n    </tr>\n    <tr>\n      <th>2</th>\n      <td>DL</td>\n      <td>96</td>\n      <td>HYD</td>\n    </tr>\n  </tbody>\n</table>\n</div>",
            "text/plain": "  Subject  Marks    City\n0  Python    100    Pune\n1      ML     90  Mumbai\n2      DL     96     HYD"
          },
          "execution_count": 159,
          "metadata": {},
          "output_type": "execute_result"
        }
      ]
    },
    {
      "metadata": {
        "trusted": false
      },
      "id": "344f40e4",
      "cell_type": "code",
      "source": "df = pd.DataFrame({\n    'Rank' : [1,2,3],\n    'Python' : [100,90,85],\n    'Machine learning' : [100,98,96]\n    \n})\ndf",
      "execution_count": 146,
      "outputs": [
        {
          "data": {
            "text/html": "<div>\n<style scoped>\n    .dataframe tbody tr th:only-of-type {\n        vertical-align: middle;\n    }\n\n    .dataframe tbody tr th {\n        vertical-align: top;\n    }\n\n    .dataframe thead th {\n        text-align: right;\n    }\n</style>\n<table border=\"1\" class=\"dataframe\">\n  <thead>\n    <tr style=\"text-align: right;\">\n      <th></th>\n      <th>Rank</th>\n      <th>Python</th>\n      <th>Machine learning</th>\n    </tr>\n  </thead>\n  <tbody>\n    <tr>\n      <th>0</th>\n      <td>1</td>\n      <td>100</td>\n      <td>100</td>\n    </tr>\n    <tr>\n      <th>1</th>\n      <td>2</td>\n      <td>90</td>\n      <td>98</td>\n    </tr>\n    <tr>\n      <th>2</th>\n      <td>3</td>\n      <td>85</td>\n      <td>96</td>\n    </tr>\n  </tbody>\n</table>\n</div>",
            "text/plain": "   Rank  Python  Machine learning\n0     1     100               100\n1     2      90                98\n2     3      85                96"
          },
          "execution_count": 146,
          "metadata": {},
          "output_type": "execute_result"
        }
      ]
    },
    {
      "metadata": {
        "trusted": false
      },
      "id": "588ece90",
      "cell_type": "code",
      "source": "#Check number of rows and columns in dataframe",
      "execution_count": 37,
      "outputs": []
    },
    {
      "metadata": {
        "trusted": false
      },
      "id": "ab5575a3",
      "cell_type": "code",
      "source": "df.shape",
      "execution_count": 135,
      "outputs": [
        {
          "data": {
            "text/plain": "(3, 3)"
          },
          "execution_count": 135,
          "metadata": {},
          "output_type": "execute_result"
        }
      ]
    },
    {
      "metadata": {
        "trusted": false
      },
      "id": "b4f55820",
      "cell_type": "code",
      "source": "#Dimesion of the dataframe",
      "execution_count": 38,
      "outputs": []
    },
    {
      "metadata": {
        "trusted": false
      },
      "id": "dd4e0882",
      "cell_type": "code",
      "source": "df.ndim",
      "execution_count": 132,
      "outputs": [
        {
          "data": {
            "text/plain": "2"
          },
          "execution_count": 132,
          "metadata": {},
          "output_type": "execute_result"
        }
      ]
    },
    {
      "metadata": {
        "trusted": false
      },
      "id": "89059824",
      "cell_type": "code",
      "source": "#Data type of each column",
      "execution_count": 40,
      "outputs": []
    },
    {
      "metadata": {
        "trusted": false
      },
      "id": "e2bdbabd",
      "cell_type": "code",
      "source": "df.dtypes",
      "execution_count": 137,
      "outputs": [
        {
          "data": {
            "text/plain": "Rank                int64\nPython              int64\nMachine learning    int64\ndtype: object"
          },
          "execution_count": 137,
          "metadata": {},
          "output_type": "execute_result"
        }
      ]
    },
    {
      "metadata": {
        "trusted": false
      },
      "id": "29d53cd6",
      "cell_type": "code",
      "source": "df",
      "execution_count": 141,
      "outputs": [
        {
          "data": {
            "text/html": "<div>\n<style scoped>\n    .dataframe tbody tr th:only-of-type {\n        vertical-align: middle;\n    }\n\n    .dataframe tbody tr th {\n        vertical-align: top;\n    }\n\n    .dataframe thead th {\n        text-align: right;\n    }\n</style>\n<table border=\"1\" class=\"dataframe\">\n  <thead>\n    <tr style=\"text-align: right;\">\n      <th></th>\n      <th>Subject</th>\n      <th>Marks</th>\n      <th>City</th>\n    </tr>\n  </thead>\n  <tbody>\n    <tr>\n      <th>0</th>\n      <td>Python</td>\n      <td>100</td>\n      <td>Pune</td>\n    </tr>\n    <tr>\n      <th>1</th>\n      <td>ML</td>\n      <td>90</td>\n      <td>Mumbai</td>\n    </tr>\n    <tr>\n      <th>2</th>\n      <td>DL</td>\n      <td>96</td>\n      <td>HYD</td>\n    </tr>\n  </tbody>\n</table>\n</div>",
            "text/plain": "  Subject  Marks    City\n0  Python    100    Pune\n1      ML     90  Mumbai\n2      DL     96     HYD"
          },
          "execution_count": 141,
          "metadata": {},
          "output_type": "execute_result"
        }
      ]
    },
    {
      "metadata": {
        "trusted": false
      },
      "id": "8e63cb92",
      "cell_type": "code",
      "source": "df.dtypes",
      "execution_count": 140,
      "outputs": [
        {
          "data": {
            "text/plain": "Subject    object\nMarks       int64\nCity       object\ndtype: object"
          },
          "execution_count": 140,
          "metadata": {},
          "output_type": "execute_result"
        }
      ]
    },
    {
      "metadata": {
        "trusted": false
      },
      "id": "64720a41",
      "cell_type": "code",
      "source": "df['Subject'].dtype",
      "execution_count": 142,
      "outputs": [
        {
          "data": {
            "text/plain": "dtype('O')"
          },
          "execution_count": 142,
          "metadata": {},
          "output_type": "execute_result"
        }
      ]
    },
    {
      "metadata": {
        "trusted": false
      },
      "id": "ed4e2643",
      "cell_type": "code",
      "source": "df.Subject",
      "execution_count": 144,
      "outputs": [
        {
          "data": {
            "text/plain": "0    Python\n1        ML\n2        DL\nName: Subject, dtype: object"
          },
          "execution_count": 144,
          "metadata": {},
          "output_type": "execute_result"
        }
      ]
    },
    {
      "metadata": {
        "trusted": false
      },
      "id": "1e8f3730",
      "cell_type": "code",
      "source": "df['Subject']",
      "execution_count": 145,
      "outputs": [
        {
          "data": {
            "text/plain": "0    Python\n1        ML\n2        DL\nName: Subject, dtype: object"
          },
          "execution_count": 145,
          "metadata": {},
          "output_type": "execute_result"
        }
      ]
    },
    {
      "metadata": {
        "trusted": false
      },
      "id": "88b2d016",
      "cell_type": "code",
      "source": "df",
      "execution_count": 147,
      "outputs": [
        {
          "data": {
            "text/html": "<div>\n<style scoped>\n    .dataframe tbody tr th:only-of-type {\n        vertical-align: middle;\n    }\n\n    .dataframe tbody tr th {\n        vertical-align: top;\n    }\n\n    .dataframe thead th {\n        text-align: right;\n    }\n</style>\n<table border=\"1\" class=\"dataframe\">\n  <thead>\n    <tr style=\"text-align: right;\">\n      <th></th>\n      <th>Rank</th>\n      <th>Python</th>\n      <th>Machine learning</th>\n    </tr>\n  </thead>\n  <tbody>\n    <tr>\n      <th>0</th>\n      <td>1</td>\n      <td>100</td>\n      <td>100</td>\n    </tr>\n    <tr>\n      <th>1</th>\n      <td>2</td>\n      <td>90</td>\n      <td>98</td>\n    </tr>\n    <tr>\n      <th>2</th>\n      <td>3</td>\n      <td>85</td>\n      <td>96</td>\n    </tr>\n  </tbody>\n</table>\n</div>",
            "text/plain": "   Rank  Python  Machine learning\n0     1     100               100\n1     2      90                98\n2     3      85                96"
          },
          "execution_count": 147,
          "metadata": {},
          "output_type": "execute_result"
        }
      ]
    },
    {
      "metadata": {
        "trusted": false
      },
      "id": "93922ac1",
      "cell_type": "code",
      "source": "df.Machine learning",
      "execution_count": 148,
      "outputs": [
        {
          "ename": "SyntaxError",
          "evalue": "invalid syntax (2320959638.py, line 1)",
          "output_type": "error",
          "traceback": [
            "\u001b[1;36m  File \u001b[1;32m\"C:\\Users\\Aishwarya\\AppData\\Local\\Temp\\ipykernel_155740\\2320959638.py\"\u001b[1;36m, line \u001b[1;32m1\u001b[0m\n\u001b[1;33m    df.Machine learning\u001b[0m\n\u001b[1;37m               ^\u001b[0m\n\u001b[1;31mSyntaxError\u001b[0m\u001b[1;31m:\u001b[0m invalid syntax\n"
          ]
        }
      ]
    },
    {
      "metadata": {
        "trusted": false
      },
      "id": "28592e93",
      "cell_type": "code",
      "source": "df[['Machine learning']]",
      "execution_count": 152,
      "outputs": [
        {
          "data": {
            "text/html": "<div>\n<style scoped>\n    .dataframe tbody tr th:only-of-type {\n        vertical-align: middle;\n    }\n\n    .dataframe tbody tr th {\n        vertical-align: top;\n    }\n\n    .dataframe thead th {\n        text-align: right;\n    }\n</style>\n<table border=\"1\" class=\"dataframe\">\n  <thead>\n    <tr style=\"text-align: right;\">\n      <th></th>\n      <th>Machine learning</th>\n    </tr>\n  </thead>\n  <tbody>\n    <tr>\n      <th>0</th>\n      <td>100</td>\n    </tr>\n    <tr>\n      <th>1</th>\n      <td>98</td>\n    </tr>\n    <tr>\n      <th>2</th>\n      <td>96</td>\n    </tr>\n  </tbody>\n</table>\n</div>",
            "text/plain": "   Machine learning\n0               100\n1                98\n2                96"
          },
          "execution_count": 152,
          "metadata": {},
          "output_type": "execute_result"
        }
      ]
    },
    {
      "metadata": {
        "trusted": false
      },
      "id": "538e2dff",
      "cell_type": "code",
      "source": "df[['Rank','Python']]",
      "execution_count": 153,
      "outputs": [
        {
          "data": {
            "text/html": "<div>\n<style scoped>\n    .dataframe tbody tr th:only-of-type {\n        vertical-align: middle;\n    }\n\n    .dataframe tbody tr th {\n        vertical-align: top;\n    }\n\n    .dataframe thead th {\n        text-align: right;\n    }\n</style>\n<table border=\"1\" class=\"dataframe\">\n  <thead>\n    <tr style=\"text-align: right;\">\n      <th></th>\n      <th>Rank</th>\n      <th>Python</th>\n    </tr>\n  </thead>\n  <tbody>\n    <tr>\n      <th>0</th>\n      <td>1</td>\n      <td>100</td>\n    </tr>\n    <tr>\n      <th>1</th>\n      <td>2</td>\n      <td>90</td>\n    </tr>\n    <tr>\n      <th>2</th>\n      <td>3</td>\n      <td>85</td>\n    </tr>\n  </tbody>\n</table>\n</div>",
            "text/plain": "   Rank  Python\n0     1     100\n1     2      90\n2     3      85"
          },
          "execution_count": 153,
          "metadata": {},
          "output_type": "execute_result"
        }
      ]
    },
    {
      "metadata": {
        "trusted": false
      },
      "id": "65eb7dff",
      "cell_type": "code",
      "source": "df[['Rank','Machine learning']]",
      "execution_count": 154,
      "outputs": [
        {
          "data": {
            "text/html": "<div>\n<style scoped>\n    .dataframe tbody tr th:only-of-type {\n        vertical-align: middle;\n    }\n\n    .dataframe tbody tr th {\n        vertical-align: top;\n    }\n\n    .dataframe thead th {\n        text-align: right;\n    }\n</style>\n<table border=\"1\" class=\"dataframe\">\n  <thead>\n    <tr style=\"text-align: right;\">\n      <th></th>\n      <th>Rank</th>\n      <th>Machine learning</th>\n    </tr>\n  </thead>\n  <tbody>\n    <tr>\n      <th>0</th>\n      <td>1</td>\n      <td>100</td>\n    </tr>\n    <tr>\n      <th>1</th>\n      <td>2</td>\n      <td>98</td>\n    </tr>\n    <tr>\n      <th>2</th>\n      <td>3</td>\n      <td>96</td>\n    </tr>\n  </tbody>\n</table>\n</div>",
            "text/plain": "   Rank  Machine learning\n0     1               100\n1     2                98\n2     3                96"
          },
          "execution_count": 154,
          "metadata": {},
          "output_type": "execute_result"
        }
      ]
    },
    {
      "metadata": {
        "trusted": false
      },
      "id": "3dec081f",
      "cell_type": "code",
      "source": "#Descriptive stats for df",
      "execution_count": 42,
      "outputs": []
    },
    {
      "metadata": {
        "trusted": false
      },
      "id": "6bad130a",
      "cell_type": "code",
      "source": "df.describe()",
      "execution_count": 156,
      "outputs": [
        {
          "data": {
            "text/html": "<div>\n<style scoped>\n    .dataframe tbody tr th:only-of-type {\n        vertical-align: middle;\n    }\n\n    .dataframe tbody tr th {\n        vertical-align: top;\n    }\n\n    .dataframe thead th {\n        text-align: right;\n    }\n</style>\n<table border=\"1\" class=\"dataframe\">\n  <thead>\n    <tr style=\"text-align: right;\">\n      <th></th>\n      <th>Rank</th>\n      <th>Python</th>\n      <th>Machine learning</th>\n    </tr>\n  </thead>\n  <tbody>\n    <tr>\n      <th>count</th>\n      <td>3.0</td>\n      <td>3.000000</td>\n      <td>3.0</td>\n    </tr>\n    <tr>\n      <th>mean</th>\n      <td>2.0</td>\n      <td>91.666667</td>\n      <td>98.0</td>\n    </tr>\n    <tr>\n      <th>std</th>\n      <td>1.0</td>\n      <td>7.637626</td>\n      <td>2.0</td>\n    </tr>\n    <tr>\n      <th>min</th>\n      <td>1.0</td>\n      <td>85.000000</td>\n      <td>96.0</td>\n    </tr>\n    <tr>\n      <th>25%</th>\n      <td>1.5</td>\n      <td>87.500000</td>\n      <td>97.0</td>\n    </tr>\n    <tr>\n      <th>50%</th>\n      <td>2.0</td>\n      <td>90.000000</td>\n      <td>98.0</td>\n    </tr>\n    <tr>\n      <th>75%</th>\n      <td>2.5</td>\n      <td>95.000000</td>\n      <td>99.0</td>\n    </tr>\n    <tr>\n      <th>max</th>\n      <td>3.0</td>\n      <td>100.000000</td>\n      <td>100.0</td>\n    </tr>\n  </tbody>\n</table>\n</div>",
            "text/plain": "       Rank      Python  Machine learning\ncount   3.0    3.000000               3.0\nmean    2.0   91.666667              98.0\nstd     1.0    7.637626               2.0\nmin     1.0   85.000000              96.0\n25%     1.5   87.500000              97.0\n50%     2.0   90.000000              98.0\n75%     2.5   95.000000              99.0\nmax     3.0  100.000000             100.0"
          },
          "execution_count": 156,
          "metadata": {},
          "output_type": "execute_result"
        }
      ]
    },
    {
      "metadata": {
        "trusted": false
      },
      "id": "06abe1e9",
      "cell_type": "code",
      "source": "df1",
      "execution_count": 160,
      "outputs": [
        {
          "data": {
            "text/html": "<div>\n<style scoped>\n    .dataframe tbody tr th:only-of-type {\n        vertical-align: middle;\n    }\n\n    .dataframe tbody tr th {\n        vertical-align: top;\n    }\n\n    .dataframe thead th {\n        text-align: right;\n    }\n</style>\n<table border=\"1\" class=\"dataframe\">\n  <thead>\n    <tr style=\"text-align: right;\">\n      <th></th>\n      <th>Subject</th>\n      <th>Marks</th>\n      <th>City</th>\n    </tr>\n  </thead>\n  <tbody>\n    <tr>\n      <th>0</th>\n      <td>Python</td>\n      <td>100</td>\n      <td>Pune</td>\n    </tr>\n    <tr>\n      <th>1</th>\n      <td>ML</td>\n      <td>90</td>\n      <td>Mumbai</td>\n    </tr>\n    <tr>\n      <th>2</th>\n      <td>DL</td>\n      <td>96</td>\n      <td>HYD</td>\n    </tr>\n  </tbody>\n</table>\n</div>",
            "text/plain": "  Subject  Marks    City\n0  Python    100    Pune\n1      ML     90  Mumbai\n2      DL     96     HYD"
          },
          "execution_count": 160,
          "metadata": {},
          "output_type": "execute_result"
        }
      ]
    },
    {
      "metadata": {
        "trusted": false
      },
      "id": "68f71e3f",
      "cell_type": "code",
      "source": "df1.describe(include='all').T",
      "execution_count": 165,
      "outputs": [
        {
          "data": {
            "text/html": "<div>\n<style scoped>\n    .dataframe tbody tr th:only-of-type {\n        vertical-align: middle;\n    }\n\n    .dataframe tbody tr th {\n        vertical-align: top;\n    }\n\n    .dataframe thead th {\n        text-align: right;\n    }\n</style>\n<table border=\"1\" class=\"dataframe\">\n  <thead>\n    <tr style=\"text-align: right;\">\n      <th></th>\n      <th>count</th>\n      <th>unique</th>\n      <th>top</th>\n      <th>freq</th>\n      <th>mean</th>\n      <th>std</th>\n      <th>min</th>\n      <th>25%</th>\n      <th>50%</th>\n      <th>75%</th>\n      <th>max</th>\n    </tr>\n  </thead>\n  <tbody>\n    <tr>\n      <th>Subject</th>\n      <td>3</td>\n      <td>3</td>\n      <td>Python</td>\n      <td>1</td>\n      <td>NaN</td>\n      <td>NaN</td>\n      <td>NaN</td>\n      <td>NaN</td>\n      <td>NaN</td>\n      <td>NaN</td>\n      <td>NaN</td>\n    </tr>\n    <tr>\n      <th>Marks</th>\n      <td>3.0</td>\n      <td>NaN</td>\n      <td>NaN</td>\n      <td>NaN</td>\n      <td>95.333333</td>\n      <td>5.033223</td>\n      <td>90.0</td>\n      <td>93.0</td>\n      <td>96.0</td>\n      <td>98.0</td>\n      <td>100.0</td>\n    </tr>\n    <tr>\n      <th>City</th>\n      <td>3</td>\n      <td>3</td>\n      <td>Pune</td>\n      <td>1</td>\n      <td>NaN</td>\n      <td>NaN</td>\n      <td>NaN</td>\n      <td>NaN</td>\n      <td>NaN</td>\n      <td>NaN</td>\n      <td>NaN</td>\n    </tr>\n  </tbody>\n</table>\n</div>",
            "text/plain": "        count unique     top freq       mean       std   min   25%   50%  \\\nSubject     3      3  Python    1        NaN       NaN   NaN   NaN   NaN   \nMarks     3.0    NaN     NaN  NaN  95.333333  5.033223  90.0  93.0  96.0   \nCity        3      3    Pune    1        NaN       NaN   NaN   NaN   NaN   \n\n          75%    max  \nSubject   NaN    NaN  \nMarks    98.0  100.0  \nCity      NaN    NaN  "
          },
          "execution_count": 165,
          "metadata": {},
          "output_type": "execute_result"
        }
      ]
    },
    {
      "metadata": {
        "trusted": false
      },
      "id": "b8d93b9c",
      "cell_type": "code",
      "source": "#Getting information about the dataframe.",
      "execution_count": 43,
      "outputs": []
    },
    {
      "metadata": {
        "trusted": false
      },
      "id": "8ceaf4fe",
      "cell_type": "code",
      "source": "df.info()",
      "execution_count": 166,
      "outputs": [
        {
          "name": "stdout",
          "output_type": "stream",
          "text": "<class 'pandas.core.frame.DataFrame'>\nRangeIndex: 3 entries, 0 to 2\nData columns (total 3 columns):\n #   Column            Non-Null Count  Dtype\n---  ------            --------------  -----\n 0   Rank              3 non-null      int64\n 1   Python            3 non-null      int64\n 2   Machine learning  3 non-null      int64\ndtypes: int64(3)\nmemory usage: 200.0 bytes\n"
        }
      ]
    },
    {
      "metadata": {
        "trusted": false
      },
      "id": "81f3fd36",
      "cell_type": "code",
      "source": "#Checking null values",
      "execution_count": 82,
      "outputs": []
    },
    {
      "metadata": {
        "trusted": false
      },
      "id": "b456d0b4",
      "cell_type": "code",
      "source": "df.isnull().sum()",
      "execution_count": 168,
      "outputs": [
        {
          "data": {
            "text/plain": "Rank                0\nPython              0\nMachine learning    0\ndtype: int64"
          },
          "execution_count": 168,
          "metadata": {},
          "output_type": "execute_result"
        }
      ]
    },
    {
      "metadata": {},
      "id": "cd0a063e",
      "cell_type": "markdown",
      "source": "# Importing External Dataset "
    },
    {
      "metadata": {
        "trusted": false
      },
      "id": "f6cfe63a",
      "cell_type": "code",
      "source": "#Load the csv file\nimport pandas as pd",
      "execution_count": 1,
      "outputs": []
    },
    {
      "metadata": {
        "trusted": false
      },
      "id": "0eb5c970",
      "cell_type": "code",
      "source": "df = pd.read_csv(\"Salaries.csv\")\ndf",
      "execution_count": 2,
      "outputs": [
        {
          "data": {
            "text/html": "<div>\n<style scoped>\n    .dataframe tbody tr th:only-of-type {\n        vertical-align: middle;\n    }\n\n    .dataframe tbody tr th {\n        vertical-align: top;\n    }\n\n    .dataframe thead th {\n        text-align: right;\n    }\n</style>\n<table border=\"1\" class=\"dataframe\">\n  <thead>\n    <tr style=\"text-align: right;\">\n      <th></th>\n      <th>rank</th>\n      <th>discipline</th>\n      <th>phd</th>\n      <th>service</th>\n      <th>sex</th>\n      <th>salary</th>\n    </tr>\n  </thead>\n  <tbody>\n    <tr>\n      <th>0</th>\n      <td>Prof</td>\n      <td>B</td>\n      <td>56</td>\n      <td>49</td>\n      <td>Male</td>\n      <td>186960</td>\n    </tr>\n    <tr>\n      <th>1</th>\n      <td>Prof</td>\n      <td>A</td>\n      <td>12</td>\n      <td>6</td>\n      <td>Male</td>\n      <td>93000</td>\n    </tr>\n    <tr>\n      <th>2</th>\n      <td>Prof</td>\n      <td>A</td>\n      <td>23</td>\n      <td>20</td>\n      <td>Male</td>\n      <td>110515</td>\n    </tr>\n    <tr>\n      <th>3</th>\n      <td>Prof</td>\n      <td>A</td>\n      <td>40</td>\n      <td>31</td>\n      <td>Male</td>\n      <td>131205</td>\n    </tr>\n    <tr>\n      <th>4</th>\n      <td>Prof</td>\n      <td>B</td>\n      <td>20</td>\n      <td>18</td>\n      <td>Male</td>\n      <td>104800</td>\n    </tr>\n    <tr>\n      <th>...</th>\n      <td>...</td>\n      <td>...</td>\n      <td>...</td>\n      <td>...</td>\n      <td>...</td>\n      <td>...</td>\n    </tr>\n    <tr>\n      <th>73</th>\n      <td>Prof</td>\n      <td>B</td>\n      <td>18</td>\n      <td>10</td>\n      <td>Female</td>\n      <td>105450</td>\n    </tr>\n    <tr>\n      <th>74</th>\n      <td>AssocProf</td>\n      <td>B</td>\n      <td>19</td>\n      <td>6</td>\n      <td>Female</td>\n      <td>104542</td>\n    </tr>\n    <tr>\n      <th>75</th>\n      <td>Prof</td>\n      <td>B</td>\n      <td>17</td>\n      <td>17</td>\n      <td>Female</td>\n      <td>124312</td>\n    </tr>\n    <tr>\n      <th>76</th>\n      <td>Prof</td>\n      <td>A</td>\n      <td>28</td>\n      <td>14</td>\n      <td>Female</td>\n      <td>109954</td>\n    </tr>\n    <tr>\n      <th>77</th>\n      <td>Prof</td>\n      <td>A</td>\n      <td>23</td>\n      <td>15</td>\n      <td>Female</td>\n      <td>109646</td>\n    </tr>\n  </tbody>\n</table>\n<p>78 rows × 6 columns</p>\n</div>",
            "text/plain": "         rank discipline  phd  service     sex  salary\n0        Prof          B   56       49    Male  186960\n1        Prof          A   12        6    Male   93000\n2        Prof          A   23       20    Male  110515\n3        Prof          A   40       31    Male  131205\n4        Prof          B   20       18    Male  104800\n..        ...        ...  ...      ...     ...     ...\n73       Prof          B   18       10  Female  105450\n74  AssocProf          B   19        6  Female  104542\n75       Prof          B   17       17  Female  124312\n76       Prof          A   28       14  Female  109954\n77       Prof          A   23       15  Female  109646\n\n[78 rows x 6 columns]"
          },
          "execution_count": 2,
          "metadata": {},
          "output_type": "execute_result"
        }
      ]
    },
    {
      "metadata": {
        "trusted": false
      },
      "id": "58d37fec",
      "cell_type": "code",
      "source": "#Reading first 5 records",
      "execution_count": 3,
      "outputs": []
    },
    {
      "metadata": {
        "trusted": false
      },
      "id": "eb4869e5",
      "cell_type": "code",
      "source": "df.head()",
      "execution_count": 4,
      "outputs": [
        {
          "data": {
            "text/html": "<div>\n<style scoped>\n    .dataframe tbody tr th:only-of-type {\n        vertical-align: middle;\n    }\n\n    .dataframe tbody tr th {\n        vertical-align: top;\n    }\n\n    .dataframe thead th {\n        text-align: right;\n    }\n</style>\n<table border=\"1\" class=\"dataframe\">\n  <thead>\n    <tr style=\"text-align: right;\">\n      <th></th>\n      <th>rank</th>\n      <th>discipline</th>\n      <th>phd</th>\n      <th>service</th>\n      <th>sex</th>\n      <th>salary</th>\n    </tr>\n  </thead>\n  <tbody>\n    <tr>\n      <th>0</th>\n      <td>Prof</td>\n      <td>B</td>\n      <td>56</td>\n      <td>49</td>\n      <td>Male</td>\n      <td>186960</td>\n    </tr>\n    <tr>\n      <th>1</th>\n      <td>Prof</td>\n      <td>A</td>\n      <td>12</td>\n      <td>6</td>\n      <td>Male</td>\n      <td>93000</td>\n    </tr>\n    <tr>\n      <th>2</th>\n      <td>Prof</td>\n      <td>A</td>\n      <td>23</td>\n      <td>20</td>\n      <td>Male</td>\n      <td>110515</td>\n    </tr>\n    <tr>\n      <th>3</th>\n      <td>Prof</td>\n      <td>A</td>\n      <td>40</td>\n      <td>31</td>\n      <td>Male</td>\n      <td>131205</td>\n    </tr>\n    <tr>\n      <th>4</th>\n      <td>Prof</td>\n      <td>B</td>\n      <td>20</td>\n      <td>18</td>\n      <td>Male</td>\n      <td>104800</td>\n    </tr>\n  </tbody>\n</table>\n</div>",
            "text/plain": "   rank discipline  phd  service   sex  salary\n0  Prof          B   56       49  Male  186960\n1  Prof          A   12        6  Male   93000\n2  Prof          A   23       20  Male  110515\n3  Prof          A   40       31  Male  131205\n4  Prof          B   20       18  Male  104800"
          },
          "execution_count": 4,
          "metadata": {},
          "output_type": "execute_result"
        }
      ]
    },
    {
      "metadata": {
        "trusted": false
      },
      "id": "174495f6",
      "cell_type": "code",
      "source": "#Reading last 5 records",
      "execution_count": 5,
      "outputs": []
    },
    {
      "metadata": {
        "trusted": false
      },
      "id": "018955c7",
      "cell_type": "code",
      "source": "df.tail()",
      "execution_count": 6,
      "outputs": [
        {
          "data": {
            "text/html": "<div>\n<style scoped>\n    .dataframe tbody tr th:only-of-type {\n        vertical-align: middle;\n    }\n\n    .dataframe tbody tr th {\n        vertical-align: top;\n    }\n\n    .dataframe thead th {\n        text-align: right;\n    }\n</style>\n<table border=\"1\" class=\"dataframe\">\n  <thead>\n    <tr style=\"text-align: right;\">\n      <th></th>\n      <th>rank</th>\n      <th>discipline</th>\n      <th>phd</th>\n      <th>service</th>\n      <th>sex</th>\n      <th>salary</th>\n    </tr>\n  </thead>\n  <tbody>\n    <tr>\n      <th>73</th>\n      <td>Prof</td>\n      <td>B</td>\n      <td>18</td>\n      <td>10</td>\n      <td>Female</td>\n      <td>105450</td>\n    </tr>\n    <tr>\n      <th>74</th>\n      <td>AssocProf</td>\n      <td>B</td>\n      <td>19</td>\n      <td>6</td>\n      <td>Female</td>\n      <td>104542</td>\n    </tr>\n    <tr>\n      <th>75</th>\n      <td>Prof</td>\n      <td>B</td>\n      <td>17</td>\n      <td>17</td>\n      <td>Female</td>\n      <td>124312</td>\n    </tr>\n    <tr>\n      <th>76</th>\n      <td>Prof</td>\n      <td>A</td>\n      <td>28</td>\n      <td>14</td>\n      <td>Female</td>\n      <td>109954</td>\n    </tr>\n    <tr>\n      <th>77</th>\n      <td>Prof</td>\n      <td>A</td>\n      <td>23</td>\n      <td>15</td>\n      <td>Female</td>\n      <td>109646</td>\n    </tr>\n  </tbody>\n</table>\n</div>",
            "text/plain": "         rank discipline  phd  service     sex  salary\n73       Prof          B   18       10  Female  105450\n74  AssocProf          B   19        6  Female  104542\n75       Prof          B   17       17  Female  124312\n76       Prof          A   28       14  Female  109954\n77       Prof          A   23       15  Female  109646"
          },
          "execution_count": 6,
          "metadata": {},
          "output_type": "execute_result"
        }
      ]
    },
    {
      "metadata": {
        "trusted": false
      },
      "id": "e8169ba4",
      "cell_type": "code",
      "source": "#Reading all the records.",
      "execution_count": 7,
      "outputs": []
    },
    {
      "metadata": {
        "trusted": false
      },
      "id": "f16c464f",
      "cell_type": "code",
      "source": "pd.set_option('display.max_rows',None)",
      "execution_count": 8,
      "outputs": []
    },
    {
      "metadata": {
        "trusted": false
      },
      "id": "5963028f",
      "cell_type": "code",
      "source": "df",
      "execution_count": 9,
      "outputs": [
        {
          "data": {
            "text/html": "<div>\n<style scoped>\n    .dataframe tbody tr th:only-of-type {\n        vertical-align: middle;\n    }\n\n    .dataframe tbody tr th {\n        vertical-align: top;\n    }\n\n    .dataframe thead th {\n        text-align: right;\n    }\n</style>\n<table border=\"1\" class=\"dataframe\">\n  <thead>\n    <tr style=\"text-align: right;\">\n      <th></th>\n      <th>rank</th>\n      <th>discipline</th>\n      <th>phd</th>\n      <th>service</th>\n      <th>sex</th>\n      <th>salary</th>\n    </tr>\n  </thead>\n  <tbody>\n    <tr>\n      <th>0</th>\n      <td>Prof</td>\n      <td>B</td>\n      <td>56</td>\n      <td>49</td>\n      <td>Male</td>\n      <td>186960</td>\n    </tr>\n    <tr>\n      <th>1</th>\n      <td>Prof</td>\n      <td>A</td>\n      <td>12</td>\n      <td>6</td>\n      <td>Male</td>\n      <td>93000</td>\n    </tr>\n    <tr>\n      <th>2</th>\n      <td>Prof</td>\n      <td>A</td>\n      <td>23</td>\n      <td>20</td>\n      <td>Male</td>\n      <td>110515</td>\n    </tr>\n    <tr>\n      <th>3</th>\n      <td>Prof</td>\n      <td>A</td>\n      <td>40</td>\n      <td>31</td>\n      <td>Male</td>\n      <td>131205</td>\n    </tr>\n    <tr>\n      <th>4</th>\n      <td>Prof</td>\n      <td>B</td>\n      <td>20</td>\n      <td>18</td>\n      <td>Male</td>\n      <td>104800</td>\n    </tr>\n    <tr>\n      <th>5</th>\n      <td>Prof</td>\n      <td>A</td>\n      <td>20</td>\n      <td>20</td>\n      <td>Male</td>\n      <td>122400</td>\n    </tr>\n    <tr>\n      <th>6</th>\n      <td>AssocProf</td>\n      <td>A</td>\n      <td>20</td>\n      <td>17</td>\n      <td>Male</td>\n      <td>81285</td>\n    </tr>\n    <tr>\n      <th>7</th>\n      <td>Prof</td>\n      <td>A</td>\n      <td>18</td>\n      <td>18</td>\n      <td>Male</td>\n      <td>126300</td>\n    </tr>\n    <tr>\n      <th>8</th>\n      <td>Prof</td>\n      <td>A</td>\n      <td>29</td>\n      <td>19</td>\n      <td>Male</td>\n      <td>94350</td>\n    </tr>\n    <tr>\n      <th>9</th>\n      <td>Prof</td>\n      <td>A</td>\n      <td>51</td>\n      <td>51</td>\n      <td>Male</td>\n      <td>57800</td>\n    </tr>\n    <tr>\n      <th>10</th>\n      <td>Prof</td>\n      <td>B</td>\n      <td>39</td>\n      <td>33</td>\n      <td>Male</td>\n      <td>128250</td>\n    </tr>\n    <tr>\n      <th>11</th>\n      <td>Prof</td>\n      <td>B</td>\n      <td>23</td>\n      <td>23</td>\n      <td>Male</td>\n      <td>134778</td>\n    </tr>\n    <tr>\n      <th>12</th>\n      <td>AsstProf</td>\n      <td>B</td>\n      <td>1</td>\n      <td>0</td>\n      <td>Male</td>\n      <td>88000</td>\n    </tr>\n    <tr>\n      <th>13</th>\n      <td>Prof</td>\n      <td>B</td>\n      <td>35</td>\n      <td>33</td>\n      <td>Male</td>\n      <td>162200</td>\n    </tr>\n    <tr>\n      <th>14</th>\n      <td>Prof</td>\n      <td>B</td>\n      <td>25</td>\n      <td>19</td>\n      <td>Male</td>\n      <td>153750</td>\n    </tr>\n    <tr>\n      <th>15</th>\n      <td>Prof</td>\n      <td>B</td>\n      <td>17</td>\n      <td>3</td>\n      <td>Male</td>\n      <td>150480</td>\n    </tr>\n    <tr>\n      <th>16</th>\n      <td>AsstProf</td>\n      <td>B</td>\n      <td>8</td>\n      <td>3</td>\n      <td>Male</td>\n      <td>75044</td>\n    </tr>\n    <tr>\n      <th>17</th>\n      <td>AsstProf</td>\n      <td>B</td>\n      <td>4</td>\n      <td>0</td>\n      <td>Male</td>\n      <td>92000</td>\n    </tr>\n    <tr>\n      <th>18</th>\n      <td>Prof</td>\n      <td>A</td>\n      <td>19</td>\n      <td>7</td>\n      <td>Male</td>\n      <td>107300</td>\n    </tr>\n    <tr>\n      <th>19</th>\n      <td>Prof</td>\n      <td>A</td>\n      <td>29</td>\n      <td>27</td>\n      <td>Male</td>\n      <td>150500</td>\n    </tr>\n    <tr>\n      <th>20</th>\n      <td>AsstProf</td>\n      <td>B</td>\n      <td>4</td>\n      <td>4</td>\n      <td>Male</td>\n      <td>92000</td>\n    </tr>\n    <tr>\n      <th>21</th>\n      <td>Prof</td>\n      <td>A</td>\n      <td>33</td>\n      <td>30</td>\n      <td>Male</td>\n      <td>103106</td>\n    </tr>\n    <tr>\n      <th>22</th>\n      <td>AsstProf</td>\n      <td>A</td>\n      <td>4</td>\n      <td>2</td>\n      <td>Male</td>\n      <td>73000</td>\n    </tr>\n    <tr>\n      <th>23</th>\n      <td>AsstProf</td>\n      <td>A</td>\n      <td>2</td>\n      <td>0</td>\n      <td>Male</td>\n      <td>85000</td>\n    </tr>\n    <tr>\n      <th>24</th>\n      <td>Prof</td>\n      <td>A</td>\n      <td>30</td>\n      <td>23</td>\n      <td>Male</td>\n      <td>91100</td>\n    </tr>\n    <tr>\n      <th>25</th>\n      <td>Prof</td>\n      <td>B</td>\n      <td>35</td>\n      <td>31</td>\n      <td>Male</td>\n      <td>99418</td>\n    </tr>\n    <tr>\n      <th>26</th>\n      <td>Prof</td>\n      <td>A</td>\n      <td>38</td>\n      <td>19</td>\n      <td>Male</td>\n      <td>148750</td>\n    </tr>\n    <tr>\n      <th>27</th>\n      <td>Prof</td>\n      <td>A</td>\n      <td>45</td>\n      <td>43</td>\n      <td>Male</td>\n      <td>155865</td>\n    </tr>\n    <tr>\n      <th>28</th>\n      <td>AsstProf</td>\n      <td>B</td>\n      <td>7</td>\n      <td>2</td>\n      <td>Male</td>\n      <td>91300</td>\n    </tr>\n    <tr>\n      <th>29</th>\n      <td>Prof</td>\n      <td>B</td>\n      <td>21</td>\n      <td>20</td>\n      <td>Male</td>\n      <td>123683</td>\n    </tr>\n    <tr>\n      <th>30</th>\n      <td>AssocProf</td>\n      <td>B</td>\n      <td>9</td>\n      <td>7</td>\n      <td>Male</td>\n      <td>107008</td>\n    </tr>\n    <tr>\n      <th>31</th>\n      <td>Prof</td>\n      <td>B</td>\n      <td>22</td>\n      <td>21</td>\n      <td>Male</td>\n      <td>155750</td>\n    </tr>\n    <tr>\n      <th>32</th>\n      <td>Prof</td>\n      <td>A</td>\n      <td>27</td>\n      <td>19</td>\n      <td>Male</td>\n      <td>103275</td>\n    </tr>\n    <tr>\n      <th>33</th>\n      <td>Prof</td>\n      <td>B</td>\n      <td>18</td>\n      <td>18</td>\n      <td>Male</td>\n      <td>120000</td>\n    </tr>\n    <tr>\n      <th>34</th>\n      <td>AssocProf</td>\n      <td>B</td>\n      <td>12</td>\n      <td>8</td>\n      <td>Male</td>\n      <td>119800</td>\n    </tr>\n    <tr>\n      <th>35</th>\n      <td>Prof</td>\n      <td>B</td>\n      <td>28</td>\n      <td>23</td>\n      <td>Male</td>\n      <td>126933</td>\n    </tr>\n    <tr>\n      <th>36</th>\n      <td>Prof</td>\n      <td>B</td>\n      <td>45</td>\n      <td>45</td>\n      <td>Male</td>\n      <td>146856</td>\n    </tr>\n    <tr>\n      <th>37</th>\n      <td>Prof</td>\n      <td>A</td>\n      <td>20</td>\n      <td>8</td>\n      <td>Male</td>\n      <td>102000</td>\n    </tr>\n    <tr>\n      <th>38</th>\n      <td>AsstProf</td>\n      <td>B</td>\n      <td>4</td>\n      <td>3</td>\n      <td>Male</td>\n      <td>91000</td>\n    </tr>\n    <tr>\n      <th>39</th>\n      <td>Prof</td>\n      <td>B</td>\n      <td>18</td>\n      <td>18</td>\n      <td>Female</td>\n      <td>129000</td>\n    </tr>\n    <tr>\n      <th>40</th>\n      <td>Prof</td>\n      <td>A</td>\n      <td>39</td>\n      <td>36</td>\n      <td>Female</td>\n      <td>137000</td>\n    </tr>\n    <tr>\n      <th>41</th>\n      <td>AssocProf</td>\n      <td>A</td>\n      <td>13</td>\n      <td>8</td>\n      <td>Female</td>\n      <td>74830</td>\n    </tr>\n    <tr>\n      <th>42</th>\n      <td>AsstProf</td>\n      <td>B</td>\n      <td>4</td>\n      <td>2</td>\n      <td>Female</td>\n      <td>80225</td>\n    </tr>\n    <tr>\n      <th>43</th>\n      <td>AsstProf</td>\n      <td>B</td>\n      <td>5</td>\n      <td>0</td>\n      <td>Female</td>\n      <td>77000</td>\n    </tr>\n    <tr>\n      <th>44</th>\n      <td>Prof</td>\n      <td>B</td>\n      <td>23</td>\n      <td>19</td>\n      <td>Female</td>\n      <td>151768</td>\n    </tr>\n    <tr>\n      <th>45</th>\n      <td>Prof</td>\n      <td>B</td>\n      <td>25</td>\n      <td>25</td>\n      <td>Female</td>\n      <td>140096</td>\n    </tr>\n    <tr>\n      <th>46</th>\n      <td>AsstProf</td>\n      <td>B</td>\n      <td>11</td>\n      <td>3</td>\n      <td>Female</td>\n      <td>74692</td>\n    </tr>\n    <tr>\n      <th>47</th>\n      <td>AssocProf</td>\n      <td>B</td>\n      <td>11</td>\n      <td>11</td>\n      <td>Female</td>\n      <td>103613</td>\n    </tr>\n    <tr>\n      <th>48</th>\n      <td>Prof</td>\n      <td>B</td>\n      <td>17</td>\n      <td>17</td>\n      <td>Female</td>\n      <td>111512</td>\n    </tr>\n    <tr>\n      <th>49</th>\n      <td>Prof</td>\n      <td>B</td>\n      <td>17</td>\n      <td>18</td>\n      <td>Female</td>\n      <td>122960</td>\n    </tr>\n    <tr>\n      <th>50</th>\n      <td>AsstProf</td>\n      <td>B</td>\n      <td>10</td>\n      <td>5</td>\n      <td>Female</td>\n      <td>97032</td>\n    </tr>\n    <tr>\n      <th>51</th>\n      <td>Prof</td>\n      <td>B</td>\n      <td>20</td>\n      <td>14</td>\n      <td>Female</td>\n      <td>127512</td>\n    </tr>\n    <tr>\n      <th>52</th>\n      <td>Prof</td>\n      <td>A</td>\n      <td>12</td>\n      <td>0</td>\n      <td>Female</td>\n      <td>105000</td>\n    </tr>\n    <tr>\n      <th>53</th>\n      <td>AsstProf</td>\n      <td>A</td>\n      <td>5</td>\n      <td>3</td>\n      <td>Female</td>\n      <td>73500</td>\n    </tr>\n    <tr>\n      <th>54</th>\n      <td>AssocProf</td>\n      <td>A</td>\n      <td>25</td>\n      <td>22</td>\n      <td>Female</td>\n      <td>62884</td>\n    </tr>\n    <tr>\n      <th>55</th>\n      <td>AsstProf</td>\n      <td>A</td>\n      <td>2</td>\n      <td>0</td>\n      <td>Female</td>\n      <td>72500</td>\n    </tr>\n    <tr>\n      <th>56</th>\n      <td>AssocProf</td>\n      <td>A</td>\n      <td>10</td>\n      <td>8</td>\n      <td>Female</td>\n      <td>77500</td>\n    </tr>\n    <tr>\n      <th>57</th>\n      <td>AsstProf</td>\n      <td>A</td>\n      <td>3</td>\n      <td>1</td>\n      <td>Female</td>\n      <td>72500</td>\n    </tr>\n    <tr>\n      <th>58</th>\n      <td>Prof</td>\n      <td>B</td>\n      <td>36</td>\n      <td>26</td>\n      <td>Female</td>\n      <td>144651</td>\n    </tr>\n    <tr>\n      <th>59</th>\n      <td>AssocProf</td>\n      <td>B</td>\n      <td>12</td>\n      <td>10</td>\n      <td>Female</td>\n      <td>103994</td>\n    </tr>\n    <tr>\n      <th>60</th>\n      <td>AsstProf</td>\n      <td>B</td>\n      <td>3</td>\n      <td>3</td>\n      <td>Female</td>\n      <td>92000</td>\n    </tr>\n    <tr>\n      <th>61</th>\n      <td>AssocProf</td>\n      <td>B</td>\n      <td>13</td>\n      <td>10</td>\n      <td>Female</td>\n      <td>103750</td>\n    </tr>\n    <tr>\n      <th>62</th>\n      <td>AssocProf</td>\n      <td>B</td>\n      <td>14</td>\n      <td>7</td>\n      <td>Female</td>\n      <td>109650</td>\n    </tr>\n    <tr>\n      <th>63</th>\n      <td>Prof</td>\n      <td>A</td>\n      <td>29</td>\n      <td>27</td>\n      <td>Female</td>\n      <td>91000</td>\n    </tr>\n    <tr>\n      <th>64</th>\n      <td>AssocProf</td>\n      <td>A</td>\n      <td>26</td>\n      <td>24</td>\n      <td>Female</td>\n      <td>73300</td>\n    </tr>\n    <tr>\n      <th>65</th>\n      <td>Prof</td>\n      <td>A</td>\n      <td>36</td>\n      <td>19</td>\n      <td>Female</td>\n      <td>117555</td>\n    </tr>\n    <tr>\n      <th>66</th>\n      <td>AsstProf</td>\n      <td>A</td>\n      <td>7</td>\n      <td>6</td>\n      <td>Female</td>\n      <td>63100</td>\n    </tr>\n    <tr>\n      <th>67</th>\n      <td>Prof</td>\n      <td>A</td>\n      <td>17</td>\n      <td>11</td>\n      <td>Female</td>\n      <td>90450</td>\n    </tr>\n    <tr>\n      <th>68</th>\n      <td>AsstProf</td>\n      <td>A</td>\n      <td>4</td>\n      <td>2</td>\n      <td>Female</td>\n      <td>77500</td>\n    </tr>\n    <tr>\n      <th>69</th>\n      <td>Prof</td>\n      <td>A</td>\n      <td>28</td>\n      <td>7</td>\n      <td>Female</td>\n      <td>116450</td>\n    </tr>\n    <tr>\n      <th>70</th>\n      <td>AsstProf</td>\n      <td>A</td>\n      <td>8</td>\n      <td>3</td>\n      <td>Female</td>\n      <td>78500</td>\n    </tr>\n    <tr>\n      <th>71</th>\n      <td>AssocProf</td>\n      <td>B</td>\n      <td>12</td>\n      <td>9</td>\n      <td>Female</td>\n      <td>71065</td>\n    </tr>\n    <tr>\n      <th>72</th>\n      <td>Prof</td>\n      <td>B</td>\n      <td>24</td>\n      <td>15</td>\n      <td>Female</td>\n      <td>161101</td>\n    </tr>\n    <tr>\n      <th>73</th>\n      <td>Prof</td>\n      <td>B</td>\n      <td>18</td>\n      <td>10</td>\n      <td>Female</td>\n      <td>105450</td>\n    </tr>\n    <tr>\n      <th>74</th>\n      <td>AssocProf</td>\n      <td>B</td>\n      <td>19</td>\n      <td>6</td>\n      <td>Female</td>\n      <td>104542</td>\n    </tr>\n    <tr>\n      <th>75</th>\n      <td>Prof</td>\n      <td>B</td>\n      <td>17</td>\n      <td>17</td>\n      <td>Female</td>\n      <td>124312</td>\n    </tr>\n    <tr>\n      <th>76</th>\n      <td>Prof</td>\n      <td>A</td>\n      <td>28</td>\n      <td>14</td>\n      <td>Female</td>\n      <td>109954</td>\n    </tr>\n    <tr>\n      <th>77</th>\n      <td>Prof</td>\n      <td>A</td>\n      <td>23</td>\n      <td>15</td>\n      <td>Female</td>\n      <td>109646</td>\n    </tr>\n  </tbody>\n</table>\n</div>",
            "text/plain": "         rank discipline  phd  service     sex  salary\n0        Prof          B   56       49    Male  186960\n1        Prof          A   12        6    Male   93000\n2        Prof          A   23       20    Male  110515\n3        Prof          A   40       31    Male  131205\n4        Prof          B   20       18    Male  104800\n5        Prof          A   20       20    Male  122400\n6   AssocProf          A   20       17    Male   81285\n7        Prof          A   18       18    Male  126300\n8        Prof          A   29       19    Male   94350\n9        Prof          A   51       51    Male   57800\n10       Prof          B   39       33    Male  128250\n11       Prof          B   23       23    Male  134778\n12   AsstProf          B    1        0    Male   88000\n13       Prof          B   35       33    Male  162200\n14       Prof          B   25       19    Male  153750\n15       Prof          B   17        3    Male  150480\n16   AsstProf          B    8        3    Male   75044\n17   AsstProf          B    4        0    Male   92000\n18       Prof          A   19        7    Male  107300\n19       Prof          A   29       27    Male  150500\n20   AsstProf          B    4        4    Male   92000\n21       Prof          A   33       30    Male  103106\n22   AsstProf          A    4        2    Male   73000\n23   AsstProf          A    2        0    Male   85000\n24       Prof          A   30       23    Male   91100\n25       Prof          B   35       31    Male   99418\n26       Prof          A   38       19    Male  148750\n27       Prof          A   45       43    Male  155865\n28   AsstProf          B    7        2    Male   91300\n29       Prof          B   21       20    Male  123683\n30  AssocProf          B    9        7    Male  107008\n31       Prof          B   22       21    Male  155750\n32       Prof          A   27       19    Male  103275\n33       Prof          B   18       18    Male  120000\n34  AssocProf          B   12        8    Male  119800\n35       Prof          B   28       23    Male  126933\n36       Prof          B   45       45    Male  146856\n37       Prof          A   20        8    Male  102000\n38   AsstProf          B    4        3    Male   91000\n39       Prof          B   18       18  Female  129000\n40       Prof          A   39       36  Female  137000\n41  AssocProf          A   13        8  Female   74830\n42   AsstProf          B    4        2  Female   80225\n43   AsstProf          B    5        0  Female   77000\n44       Prof          B   23       19  Female  151768\n45       Prof          B   25       25  Female  140096\n46   AsstProf          B   11        3  Female   74692\n47  AssocProf          B   11       11  Female  103613\n48       Prof          B   17       17  Female  111512\n49       Prof          B   17       18  Female  122960\n50   AsstProf          B   10        5  Female   97032\n51       Prof          B   20       14  Female  127512\n52       Prof          A   12        0  Female  105000\n53   AsstProf          A    5        3  Female   73500\n54  AssocProf          A   25       22  Female   62884\n55   AsstProf          A    2        0  Female   72500\n56  AssocProf          A   10        8  Female   77500\n57   AsstProf          A    3        1  Female   72500\n58       Prof          B   36       26  Female  144651\n59  AssocProf          B   12       10  Female  103994\n60   AsstProf          B    3        3  Female   92000\n61  AssocProf          B   13       10  Female  103750\n62  AssocProf          B   14        7  Female  109650\n63       Prof          A   29       27  Female   91000\n64  AssocProf          A   26       24  Female   73300\n65       Prof          A   36       19  Female  117555\n66   AsstProf          A    7        6  Female   63100\n67       Prof          A   17       11  Female   90450\n68   AsstProf          A    4        2  Female   77500\n69       Prof          A   28        7  Female  116450\n70   AsstProf          A    8        3  Female   78500\n71  AssocProf          B   12        9  Female   71065\n72       Prof          B   24       15  Female  161101\n73       Prof          B   18       10  Female  105450\n74  AssocProf          B   19        6  Female  104542\n75       Prof          B   17       17  Female  124312\n76       Prof          A   28       14  Female  109954\n77       Prof          A   23       15  Female  109646"
          },
          "execution_count": 9,
          "metadata": {},
          "output_type": "execute_result"
        }
      ]
    },
    {
      "metadata": {
        "trusted": false
      },
      "id": "188527ad",
      "cell_type": "code",
      "source": "df.head(2)",
      "execution_count": 10,
      "outputs": [
        {
          "data": {
            "text/html": "<div>\n<style scoped>\n    .dataframe tbody tr th:only-of-type {\n        vertical-align: middle;\n    }\n\n    .dataframe tbody tr th {\n        vertical-align: top;\n    }\n\n    .dataframe thead th {\n        text-align: right;\n    }\n</style>\n<table border=\"1\" class=\"dataframe\">\n  <thead>\n    <tr style=\"text-align: right;\">\n      <th></th>\n      <th>rank</th>\n      <th>discipline</th>\n      <th>phd</th>\n      <th>service</th>\n      <th>sex</th>\n      <th>salary</th>\n    </tr>\n  </thead>\n  <tbody>\n    <tr>\n      <th>0</th>\n      <td>Prof</td>\n      <td>B</td>\n      <td>56</td>\n      <td>49</td>\n      <td>Male</td>\n      <td>186960</td>\n    </tr>\n    <tr>\n      <th>1</th>\n      <td>Prof</td>\n      <td>A</td>\n      <td>12</td>\n      <td>6</td>\n      <td>Male</td>\n      <td>93000</td>\n    </tr>\n  </tbody>\n</table>\n</div>",
            "text/plain": "   rank discipline  phd  service   sex  salary\n0  Prof          B   56       49  Male  186960\n1  Prof          A   12        6  Male   93000"
          },
          "execution_count": 10,
          "metadata": {},
          "output_type": "execute_result"
        }
      ]
    },
    {
      "metadata": {
        "trusted": false
      },
      "id": "94bf49ac",
      "cell_type": "code",
      "source": "#Describe the data",
      "execution_count": 11,
      "outputs": []
    },
    {
      "metadata": {
        "trusted": false
      },
      "id": "e64e66b4",
      "cell_type": "code",
      "source": "df.describe()",
      "execution_count": 12,
      "outputs": [
        {
          "data": {
            "text/html": "<div>\n<style scoped>\n    .dataframe tbody tr th:only-of-type {\n        vertical-align: middle;\n    }\n\n    .dataframe tbody tr th {\n        vertical-align: top;\n    }\n\n    .dataframe thead th {\n        text-align: right;\n    }\n</style>\n<table border=\"1\" class=\"dataframe\">\n  <thead>\n    <tr style=\"text-align: right;\">\n      <th></th>\n      <th>phd</th>\n      <th>service</th>\n      <th>salary</th>\n    </tr>\n  </thead>\n  <tbody>\n    <tr>\n      <th>count</th>\n      <td>78.000000</td>\n      <td>78.000000</td>\n      <td>78.000000</td>\n    </tr>\n    <tr>\n      <th>mean</th>\n      <td>19.705128</td>\n      <td>15.051282</td>\n      <td>108023.782051</td>\n    </tr>\n    <tr>\n      <th>std</th>\n      <td>12.498425</td>\n      <td>12.139768</td>\n      <td>28293.661022</td>\n    </tr>\n    <tr>\n      <th>min</th>\n      <td>1.000000</td>\n      <td>0.000000</td>\n      <td>57800.000000</td>\n    </tr>\n    <tr>\n      <th>25%</th>\n      <td>10.250000</td>\n      <td>5.250000</td>\n      <td>88612.500000</td>\n    </tr>\n    <tr>\n      <th>50%</th>\n      <td>18.500000</td>\n      <td>14.500000</td>\n      <td>104671.000000</td>\n    </tr>\n    <tr>\n      <th>75%</th>\n      <td>27.750000</td>\n      <td>20.750000</td>\n      <td>126774.750000</td>\n    </tr>\n    <tr>\n      <th>max</th>\n      <td>56.000000</td>\n      <td>51.000000</td>\n      <td>186960.000000</td>\n    </tr>\n  </tbody>\n</table>\n</div>",
            "text/plain": "             phd    service         salary\ncount  78.000000  78.000000      78.000000\nmean   19.705128  15.051282  108023.782051\nstd    12.498425  12.139768   28293.661022\nmin     1.000000   0.000000   57800.000000\n25%    10.250000   5.250000   88612.500000\n50%    18.500000  14.500000  104671.000000\n75%    27.750000  20.750000  126774.750000\nmax    56.000000  51.000000  186960.000000"
          },
          "execution_count": 12,
          "metadata": {},
          "output_type": "execute_result"
        }
      ]
    },
    {
      "metadata": {
        "trusted": false
      },
      "id": "822a9a0a",
      "cell_type": "code",
      "source": "df.describe(include='O')",
      "execution_count": 13,
      "outputs": [
        {
          "data": {
            "text/html": "<div>\n<style scoped>\n    .dataframe tbody tr th:only-of-type {\n        vertical-align: middle;\n    }\n\n    .dataframe tbody tr th {\n        vertical-align: top;\n    }\n\n    .dataframe thead th {\n        text-align: right;\n    }\n</style>\n<table border=\"1\" class=\"dataframe\">\n  <thead>\n    <tr style=\"text-align: right;\">\n      <th></th>\n      <th>rank</th>\n      <th>discipline</th>\n      <th>sex</th>\n    </tr>\n  </thead>\n  <tbody>\n    <tr>\n      <th>count</th>\n      <td>78</td>\n      <td>78</td>\n      <td>78</td>\n    </tr>\n    <tr>\n      <th>unique</th>\n      <td>3</td>\n      <td>2</td>\n      <td>2</td>\n    </tr>\n    <tr>\n      <th>top</th>\n      <td>Prof</td>\n      <td>B</td>\n      <td>Male</td>\n    </tr>\n    <tr>\n      <th>freq</th>\n      <td>46</td>\n      <td>42</td>\n      <td>39</td>\n    </tr>\n  </tbody>\n</table>\n</div>",
            "text/plain": "        rank discipline   sex\ncount     78         78    78\nunique     3          2     2\ntop     Prof          B  Male\nfreq      46         42    39"
          },
          "execution_count": 13,
          "metadata": {},
          "output_type": "execute_result"
        }
      ]
    },
    {
      "metadata": {
        "trusted": false
      },
      "id": "e906d961",
      "cell_type": "code",
      "source": "#Extracting only column names",
      "execution_count": 14,
      "outputs": []
    },
    {
      "metadata": {
        "trusted": false
      },
      "id": "06a48ca2",
      "cell_type": "code",
      "source": "df.columns",
      "execution_count": 15,
      "outputs": [
        {
          "data": {
            "text/plain": "Index(['rank', 'discipline', 'phd', 'service', 'sex', 'salary'], dtype='object')"
          },
          "execution_count": 15,
          "metadata": {},
          "output_type": "execute_result"
        }
      ]
    },
    {
      "metadata": {
        "trusted": false
      },
      "id": "f273d558",
      "cell_type": "code",
      "source": "#Selecting single and multiple columns",
      "execution_count": 16,
      "outputs": []
    },
    {
      "metadata": {
        "trusted": false
      },
      "id": "21953c16",
      "cell_type": "code",
      "source": "df['rank']",
      "execution_count": 17,
      "outputs": [
        {
          "data": {
            "text/plain": "0          Prof\n1          Prof\n2          Prof\n3          Prof\n4          Prof\n5          Prof\n6     AssocProf\n7          Prof\n8          Prof\n9          Prof\n10         Prof\n11         Prof\n12     AsstProf\n13         Prof\n14         Prof\n15         Prof\n16     AsstProf\n17     AsstProf\n18         Prof\n19         Prof\n20     AsstProf\n21         Prof\n22     AsstProf\n23     AsstProf\n24         Prof\n25         Prof\n26         Prof\n27         Prof\n28     AsstProf\n29         Prof\n30    AssocProf\n31         Prof\n32         Prof\n33         Prof\n34    AssocProf\n35         Prof\n36         Prof\n37         Prof\n38     AsstProf\n39         Prof\n40         Prof\n41    AssocProf\n42     AsstProf\n43     AsstProf\n44         Prof\n45         Prof\n46     AsstProf\n47    AssocProf\n48         Prof\n49         Prof\n50     AsstProf\n51         Prof\n52         Prof\n53     AsstProf\n54    AssocProf\n55     AsstProf\n56    AssocProf\n57     AsstProf\n58         Prof\n59    AssocProf\n60     AsstProf\n61    AssocProf\n62    AssocProf\n63         Prof\n64    AssocProf\n65         Prof\n66     AsstProf\n67         Prof\n68     AsstProf\n69         Prof\n70     AsstProf\n71    AssocProf\n72         Prof\n73         Prof\n74    AssocProf\n75         Prof\n76         Prof\n77         Prof\nName: rank, dtype: object"
          },
          "execution_count": 17,
          "metadata": {},
          "output_type": "execute_result"
        }
      ]
    },
    {
      "metadata": {
        "trusted": false
      },
      "id": "e7a821e0",
      "cell_type": "code",
      "source": "df[['rank','salary']]",
      "execution_count": 18,
      "outputs": [
        {
          "data": {
            "text/html": "<div>\n<style scoped>\n    .dataframe tbody tr th:only-of-type {\n        vertical-align: middle;\n    }\n\n    .dataframe tbody tr th {\n        vertical-align: top;\n    }\n\n    .dataframe thead th {\n        text-align: right;\n    }\n</style>\n<table border=\"1\" class=\"dataframe\">\n  <thead>\n    <tr style=\"text-align: right;\">\n      <th></th>\n      <th>rank</th>\n      <th>salary</th>\n    </tr>\n  </thead>\n  <tbody>\n    <tr>\n      <th>0</th>\n      <td>Prof</td>\n      <td>186960</td>\n    </tr>\n    <tr>\n      <th>1</th>\n      <td>Prof</td>\n      <td>93000</td>\n    </tr>\n    <tr>\n      <th>2</th>\n      <td>Prof</td>\n      <td>110515</td>\n    </tr>\n    <tr>\n      <th>3</th>\n      <td>Prof</td>\n      <td>131205</td>\n    </tr>\n    <tr>\n      <th>4</th>\n      <td>Prof</td>\n      <td>104800</td>\n    </tr>\n    <tr>\n      <th>5</th>\n      <td>Prof</td>\n      <td>122400</td>\n    </tr>\n    <tr>\n      <th>6</th>\n      <td>AssocProf</td>\n      <td>81285</td>\n    </tr>\n    <tr>\n      <th>7</th>\n      <td>Prof</td>\n      <td>126300</td>\n    </tr>\n    <tr>\n      <th>8</th>\n      <td>Prof</td>\n      <td>94350</td>\n    </tr>\n    <tr>\n      <th>9</th>\n      <td>Prof</td>\n      <td>57800</td>\n    </tr>\n    <tr>\n      <th>10</th>\n      <td>Prof</td>\n      <td>128250</td>\n    </tr>\n    <tr>\n      <th>11</th>\n      <td>Prof</td>\n      <td>134778</td>\n    </tr>\n    <tr>\n      <th>12</th>\n      <td>AsstProf</td>\n      <td>88000</td>\n    </tr>\n    <tr>\n      <th>13</th>\n      <td>Prof</td>\n      <td>162200</td>\n    </tr>\n    <tr>\n      <th>14</th>\n      <td>Prof</td>\n      <td>153750</td>\n    </tr>\n    <tr>\n      <th>15</th>\n      <td>Prof</td>\n      <td>150480</td>\n    </tr>\n    <tr>\n      <th>16</th>\n      <td>AsstProf</td>\n      <td>75044</td>\n    </tr>\n    <tr>\n      <th>17</th>\n      <td>AsstProf</td>\n      <td>92000</td>\n    </tr>\n    <tr>\n      <th>18</th>\n      <td>Prof</td>\n      <td>107300</td>\n    </tr>\n    <tr>\n      <th>19</th>\n      <td>Prof</td>\n      <td>150500</td>\n    </tr>\n    <tr>\n      <th>20</th>\n      <td>AsstProf</td>\n      <td>92000</td>\n    </tr>\n    <tr>\n      <th>21</th>\n      <td>Prof</td>\n      <td>103106</td>\n    </tr>\n    <tr>\n      <th>22</th>\n      <td>AsstProf</td>\n      <td>73000</td>\n    </tr>\n    <tr>\n      <th>23</th>\n      <td>AsstProf</td>\n      <td>85000</td>\n    </tr>\n    <tr>\n      <th>24</th>\n      <td>Prof</td>\n      <td>91100</td>\n    </tr>\n    <tr>\n      <th>25</th>\n      <td>Prof</td>\n      <td>99418</td>\n    </tr>\n    <tr>\n      <th>26</th>\n      <td>Prof</td>\n      <td>148750</td>\n    </tr>\n    <tr>\n      <th>27</th>\n      <td>Prof</td>\n      <td>155865</td>\n    </tr>\n    <tr>\n      <th>28</th>\n      <td>AsstProf</td>\n      <td>91300</td>\n    </tr>\n    <tr>\n      <th>29</th>\n      <td>Prof</td>\n      <td>123683</td>\n    </tr>\n    <tr>\n      <th>30</th>\n      <td>AssocProf</td>\n      <td>107008</td>\n    </tr>\n    <tr>\n      <th>31</th>\n      <td>Prof</td>\n      <td>155750</td>\n    </tr>\n    <tr>\n      <th>32</th>\n      <td>Prof</td>\n      <td>103275</td>\n    </tr>\n    <tr>\n      <th>33</th>\n      <td>Prof</td>\n      <td>120000</td>\n    </tr>\n    <tr>\n      <th>34</th>\n      <td>AssocProf</td>\n      <td>119800</td>\n    </tr>\n    <tr>\n      <th>35</th>\n      <td>Prof</td>\n      <td>126933</td>\n    </tr>\n    <tr>\n      <th>36</th>\n      <td>Prof</td>\n      <td>146856</td>\n    </tr>\n    <tr>\n      <th>37</th>\n      <td>Prof</td>\n      <td>102000</td>\n    </tr>\n    <tr>\n      <th>38</th>\n      <td>AsstProf</td>\n      <td>91000</td>\n    </tr>\n    <tr>\n      <th>39</th>\n      <td>Prof</td>\n      <td>129000</td>\n    </tr>\n    <tr>\n      <th>40</th>\n      <td>Prof</td>\n      <td>137000</td>\n    </tr>\n    <tr>\n      <th>41</th>\n      <td>AssocProf</td>\n      <td>74830</td>\n    </tr>\n    <tr>\n      <th>42</th>\n      <td>AsstProf</td>\n      <td>80225</td>\n    </tr>\n    <tr>\n      <th>43</th>\n      <td>AsstProf</td>\n      <td>77000</td>\n    </tr>\n    <tr>\n      <th>44</th>\n      <td>Prof</td>\n      <td>151768</td>\n    </tr>\n    <tr>\n      <th>45</th>\n      <td>Prof</td>\n      <td>140096</td>\n    </tr>\n    <tr>\n      <th>46</th>\n      <td>AsstProf</td>\n      <td>74692</td>\n    </tr>\n    <tr>\n      <th>47</th>\n      <td>AssocProf</td>\n      <td>103613</td>\n    </tr>\n    <tr>\n      <th>48</th>\n      <td>Prof</td>\n      <td>111512</td>\n    </tr>\n    <tr>\n      <th>49</th>\n      <td>Prof</td>\n      <td>122960</td>\n    </tr>\n    <tr>\n      <th>50</th>\n      <td>AsstProf</td>\n      <td>97032</td>\n    </tr>\n    <tr>\n      <th>51</th>\n      <td>Prof</td>\n      <td>127512</td>\n    </tr>\n    <tr>\n      <th>52</th>\n      <td>Prof</td>\n      <td>105000</td>\n    </tr>\n    <tr>\n      <th>53</th>\n      <td>AsstProf</td>\n      <td>73500</td>\n    </tr>\n    <tr>\n      <th>54</th>\n      <td>AssocProf</td>\n      <td>62884</td>\n    </tr>\n    <tr>\n      <th>55</th>\n      <td>AsstProf</td>\n      <td>72500</td>\n    </tr>\n    <tr>\n      <th>56</th>\n      <td>AssocProf</td>\n      <td>77500</td>\n    </tr>\n    <tr>\n      <th>57</th>\n      <td>AsstProf</td>\n      <td>72500</td>\n    </tr>\n    <tr>\n      <th>58</th>\n      <td>Prof</td>\n      <td>144651</td>\n    </tr>\n    <tr>\n      <th>59</th>\n      <td>AssocProf</td>\n      <td>103994</td>\n    </tr>\n    <tr>\n      <th>60</th>\n      <td>AsstProf</td>\n      <td>92000</td>\n    </tr>\n    <tr>\n      <th>61</th>\n      <td>AssocProf</td>\n      <td>103750</td>\n    </tr>\n    <tr>\n      <th>62</th>\n      <td>AssocProf</td>\n      <td>109650</td>\n    </tr>\n    <tr>\n      <th>63</th>\n      <td>Prof</td>\n      <td>91000</td>\n    </tr>\n    <tr>\n      <th>64</th>\n      <td>AssocProf</td>\n      <td>73300</td>\n    </tr>\n    <tr>\n      <th>65</th>\n      <td>Prof</td>\n      <td>117555</td>\n    </tr>\n    <tr>\n      <th>66</th>\n      <td>AsstProf</td>\n      <td>63100</td>\n    </tr>\n    <tr>\n      <th>67</th>\n      <td>Prof</td>\n      <td>90450</td>\n    </tr>\n    <tr>\n      <th>68</th>\n      <td>AsstProf</td>\n      <td>77500</td>\n    </tr>\n    <tr>\n      <th>69</th>\n      <td>Prof</td>\n      <td>116450</td>\n    </tr>\n    <tr>\n      <th>70</th>\n      <td>AsstProf</td>\n      <td>78500</td>\n    </tr>\n    <tr>\n      <th>71</th>\n      <td>AssocProf</td>\n      <td>71065</td>\n    </tr>\n    <tr>\n      <th>72</th>\n      <td>Prof</td>\n      <td>161101</td>\n    </tr>\n    <tr>\n      <th>73</th>\n      <td>Prof</td>\n      <td>105450</td>\n    </tr>\n    <tr>\n      <th>74</th>\n      <td>AssocProf</td>\n      <td>104542</td>\n    </tr>\n    <tr>\n      <th>75</th>\n      <td>Prof</td>\n      <td>124312</td>\n    </tr>\n    <tr>\n      <th>76</th>\n      <td>Prof</td>\n      <td>109954</td>\n    </tr>\n    <tr>\n      <th>77</th>\n      <td>Prof</td>\n      <td>109646</td>\n    </tr>\n  </tbody>\n</table>\n</div>",
            "text/plain": "         rank  salary\n0        Prof  186960\n1        Prof   93000\n2        Prof  110515\n3        Prof  131205\n4        Prof  104800\n5        Prof  122400\n6   AssocProf   81285\n7        Prof  126300\n8        Prof   94350\n9        Prof   57800\n10       Prof  128250\n11       Prof  134778\n12   AsstProf   88000\n13       Prof  162200\n14       Prof  153750\n15       Prof  150480\n16   AsstProf   75044\n17   AsstProf   92000\n18       Prof  107300\n19       Prof  150500\n20   AsstProf   92000\n21       Prof  103106\n22   AsstProf   73000\n23   AsstProf   85000\n24       Prof   91100\n25       Prof   99418\n26       Prof  148750\n27       Prof  155865\n28   AsstProf   91300\n29       Prof  123683\n30  AssocProf  107008\n31       Prof  155750\n32       Prof  103275\n33       Prof  120000\n34  AssocProf  119800\n35       Prof  126933\n36       Prof  146856\n37       Prof  102000\n38   AsstProf   91000\n39       Prof  129000\n40       Prof  137000\n41  AssocProf   74830\n42   AsstProf   80225\n43   AsstProf   77000\n44       Prof  151768\n45       Prof  140096\n46   AsstProf   74692\n47  AssocProf  103613\n48       Prof  111512\n49       Prof  122960\n50   AsstProf   97032\n51       Prof  127512\n52       Prof  105000\n53   AsstProf   73500\n54  AssocProf   62884\n55   AsstProf   72500\n56  AssocProf   77500\n57   AsstProf   72500\n58       Prof  144651\n59  AssocProf  103994\n60   AsstProf   92000\n61  AssocProf  103750\n62  AssocProf  109650\n63       Prof   91000\n64  AssocProf   73300\n65       Prof  117555\n66   AsstProf   63100\n67       Prof   90450\n68   AsstProf   77500\n69       Prof  116450\n70   AsstProf   78500\n71  AssocProf   71065\n72       Prof  161101\n73       Prof  105450\n74  AssocProf  104542\n75       Prof  124312\n76       Prof  109954\n77       Prof  109646"
          },
          "execution_count": 18,
          "metadata": {},
          "output_type": "execute_result"
        }
      ]
    },
    {
      "metadata": {
        "trusted": false
      },
      "id": "da3cfb90",
      "cell_type": "code",
      "source": "df.head(2)",
      "execution_count": 29,
      "outputs": [
        {
          "data": {
            "text/html": "<div>\n<style scoped>\n    .dataframe tbody tr th:only-of-type {\n        vertical-align: middle;\n    }\n\n    .dataframe tbody tr th {\n        vertical-align: top;\n    }\n\n    .dataframe thead th {\n        text-align: right;\n    }\n</style>\n<table border=\"1\" class=\"dataframe\">\n  <thead>\n    <tr style=\"text-align: right;\">\n      <th></th>\n      <th>rank</th>\n      <th>discipline</th>\n      <th>phd</th>\n      <th>service</th>\n      <th>sex</th>\n      <th>salary</th>\n    </tr>\n  </thead>\n  <tbody>\n    <tr>\n      <th>0</th>\n      <td>Prof</td>\n      <td>B</td>\n      <td>56</td>\n      <td>49</td>\n      <td>Male</td>\n      <td>186960</td>\n    </tr>\n    <tr>\n      <th>1</th>\n      <td>Prof</td>\n      <td>A</td>\n      <td>12</td>\n      <td>6</td>\n      <td>Male</td>\n      <td>93000</td>\n    </tr>\n  </tbody>\n</table>\n</div>",
            "text/plain": "   rank discipline  phd  service   sex  salary\n0  Prof          B   56       49  Male  186960\n1  Prof          A   12        6  Male   93000"
          },
          "execution_count": 29,
          "metadata": {},
          "output_type": "execute_result"
        }
      ]
    },
    {
      "metadata": {
        "trusted": false
      },
      "id": "b9cdd9ed",
      "cell_type": "code",
      "source": "#Selecting columns with loc and iloc",
      "execution_count": 19,
      "outputs": []
    },
    {
      "metadata": {
        "trusted": false
      },
      "id": "029cfffb",
      "cell_type": "code",
      "source": "df.loc[ : ,'service']",
      "execution_count": 20,
      "outputs": [
        {
          "data": {
            "text/plain": "0     49\n1      6\n2     20\n3     31\n4     18\n5     20\n6     17\n7     18\n8     19\n9     51\n10    33\n11    23\n12     0\n13    33\n14    19\n15     3\n16     3\n17     0\n18     7\n19    27\n20     4\n21    30\n22     2\n23     0\n24    23\n25    31\n26    19\n27    43\n28     2\n29    20\n30     7\n31    21\n32    19\n33    18\n34     8\n35    23\n36    45\n37     8\n38     3\n39    18\n40    36\n41     8\n42     2\n43     0\n44    19\n45    25\n46     3\n47    11\n48    17\n49    18\n50     5\n51    14\n52     0\n53     3\n54    22\n55     0\n56     8\n57     1\n58    26\n59    10\n60     3\n61    10\n62     7\n63    27\n64    24\n65    19\n66     6\n67    11\n68     2\n69     7\n70     3\n71     9\n72    15\n73    10\n74     6\n75    17\n76    14\n77    15\nName: service, dtype: int64"
          },
          "execution_count": 20,
          "metadata": {},
          "output_type": "execute_result"
        }
      ]
    },
    {
      "metadata": {
        "trusted": false
      },
      "id": "60a48511",
      "cell_type": "code",
      "source": "df.head(2)",
      "execution_count": 21,
      "outputs": [
        {
          "data": {
            "text/html": "<div>\n<style scoped>\n    .dataframe tbody tr th:only-of-type {\n        vertical-align: middle;\n    }\n\n    .dataframe tbody tr th {\n        vertical-align: top;\n    }\n\n    .dataframe thead th {\n        text-align: right;\n    }\n</style>\n<table border=\"1\" class=\"dataframe\">\n  <thead>\n    <tr style=\"text-align: right;\">\n      <th></th>\n      <th>rank</th>\n      <th>discipline</th>\n      <th>phd</th>\n      <th>service</th>\n      <th>sex</th>\n      <th>salary</th>\n    </tr>\n  </thead>\n  <tbody>\n    <tr>\n      <th>0</th>\n      <td>Prof</td>\n      <td>B</td>\n      <td>56</td>\n      <td>49</td>\n      <td>Male</td>\n      <td>186960</td>\n    </tr>\n    <tr>\n      <th>1</th>\n      <td>Prof</td>\n      <td>A</td>\n      <td>12</td>\n      <td>6</td>\n      <td>Male</td>\n      <td>93000</td>\n    </tr>\n  </tbody>\n</table>\n</div>",
            "text/plain": "   rank discipline  phd  service   sex  salary\n0  Prof          B   56       49  Male  186960\n1  Prof          A   12        6  Male   93000"
          },
          "execution_count": 21,
          "metadata": {},
          "output_type": "execute_result"
        }
      ]
    },
    {
      "metadata": {
        "scrolled": true,
        "trusted": false
      },
      "id": "cbf147cf",
      "cell_type": "code",
      "source": "df.loc[:,'discipline':'service']#loc includes last index",
      "execution_count": 30,
      "outputs": [
        {
          "data": {
            "text/html": "<div>\n<style scoped>\n    .dataframe tbody tr th:only-of-type {\n        vertical-align: middle;\n    }\n\n    .dataframe tbody tr th {\n        vertical-align: top;\n    }\n\n    .dataframe thead th {\n        text-align: right;\n    }\n</style>\n<table border=\"1\" class=\"dataframe\">\n  <thead>\n    <tr style=\"text-align: right;\">\n      <th></th>\n      <th>discipline</th>\n      <th>phd</th>\n      <th>service</th>\n    </tr>\n  </thead>\n  <tbody>\n    <tr>\n      <th>0</th>\n      <td>B</td>\n      <td>56</td>\n      <td>49</td>\n    </tr>\n    <tr>\n      <th>1</th>\n      <td>A</td>\n      <td>12</td>\n      <td>6</td>\n    </tr>\n    <tr>\n      <th>2</th>\n      <td>A</td>\n      <td>23</td>\n      <td>20</td>\n    </tr>\n    <tr>\n      <th>3</th>\n      <td>A</td>\n      <td>40</td>\n      <td>31</td>\n    </tr>\n    <tr>\n      <th>4</th>\n      <td>B</td>\n      <td>20</td>\n      <td>18</td>\n    </tr>\n    <tr>\n      <th>5</th>\n      <td>A</td>\n      <td>20</td>\n      <td>20</td>\n    </tr>\n    <tr>\n      <th>6</th>\n      <td>A</td>\n      <td>20</td>\n      <td>17</td>\n    </tr>\n    <tr>\n      <th>7</th>\n      <td>A</td>\n      <td>18</td>\n      <td>18</td>\n    </tr>\n    <tr>\n      <th>8</th>\n      <td>A</td>\n      <td>29</td>\n      <td>19</td>\n    </tr>\n    <tr>\n      <th>9</th>\n      <td>A</td>\n      <td>51</td>\n      <td>51</td>\n    </tr>\n    <tr>\n      <th>10</th>\n      <td>B</td>\n      <td>39</td>\n      <td>33</td>\n    </tr>\n    <tr>\n      <th>11</th>\n      <td>B</td>\n      <td>23</td>\n      <td>23</td>\n    </tr>\n    <tr>\n      <th>12</th>\n      <td>B</td>\n      <td>1</td>\n      <td>0</td>\n    </tr>\n    <tr>\n      <th>13</th>\n      <td>B</td>\n      <td>35</td>\n      <td>33</td>\n    </tr>\n    <tr>\n      <th>14</th>\n      <td>B</td>\n      <td>25</td>\n      <td>19</td>\n    </tr>\n    <tr>\n      <th>15</th>\n      <td>B</td>\n      <td>17</td>\n      <td>3</td>\n    </tr>\n    <tr>\n      <th>16</th>\n      <td>B</td>\n      <td>8</td>\n      <td>3</td>\n    </tr>\n    <tr>\n      <th>17</th>\n      <td>B</td>\n      <td>4</td>\n      <td>0</td>\n    </tr>\n    <tr>\n      <th>18</th>\n      <td>A</td>\n      <td>19</td>\n      <td>7</td>\n    </tr>\n    <tr>\n      <th>19</th>\n      <td>A</td>\n      <td>29</td>\n      <td>27</td>\n    </tr>\n    <tr>\n      <th>20</th>\n      <td>B</td>\n      <td>4</td>\n      <td>4</td>\n    </tr>\n    <tr>\n      <th>21</th>\n      <td>A</td>\n      <td>33</td>\n      <td>30</td>\n    </tr>\n    <tr>\n      <th>22</th>\n      <td>A</td>\n      <td>4</td>\n      <td>2</td>\n    </tr>\n    <tr>\n      <th>23</th>\n      <td>A</td>\n      <td>2</td>\n      <td>0</td>\n    </tr>\n    <tr>\n      <th>24</th>\n      <td>A</td>\n      <td>30</td>\n      <td>23</td>\n    </tr>\n    <tr>\n      <th>25</th>\n      <td>B</td>\n      <td>35</td>\n      <td>31</td>\n    </tr>\n    <tr>\n      <th>26</th>\n      <td>A</td>\n      <td>38</td>\n      <td>19</td>\n    </tr>\n    <tr>\n      <th>27</th>\n      <td>A</td>\n      <td>45</td>\n      <td>43</td>\n    </tr>\n    <tr>\n      <th>28</th>\n      <td>B</td>\n      <td>7</td>\n      <td>2</td>\n    </tr>\n    <tr>\n      <th>29</th>\n      <td>B</td>\n      <td>21</td>\n      <td>20</td>\n    </tr>\n    <tr>\n      <th>30</th>\n      <td>B</td>\n      <td>9</td>\n      <td>7</td>\n    </tr>\n    <tr>\n      <th>31</th>\n      <td>B</td>\n      <td>22</td>\n      <td>21</td>\n    </tr>\n    <tr>\n      <th>32</th>\n      <td>A</td>\n      <td>27</td>\n      <td>19</td>\n    </tr>\n    <tr>\n      <th>33</th>\n      <td>B</td>\n      <td>18</td>\n      <td>18</td>\n    </tr>\n    <tr>\n      <th>34</th>\n      <td>B</td>\n      <td>12</td>\n      <td>8</td>\n    </tr>\n    <tr>\n      <th>35</th>\n      <td>B</td>\n      <td>28</td>\n      <td>23</td>\n    </tr>\n    <tr>\n      <th>36</th>\n      <td>B</td>\n      <td>45</td>\n      <td>45</td>\n    </tr>\n    <tr>\n      <th>37</th>\n      <td>A</td>\n      <td>20</td>\n      <td>8</td>\n    </tr>\n    <tr>\n      <th>38</th>\n      <td>B</td>\n      <td>4</td>\n      <td>3</td>\n    </tr>\n    <tr>\n      <th>39</th>\n      <td>B</td>\n      <td>18</td>\n      <td>18</td>\n    </tr>\n    <tr>\n      <th>40</th>\n      <td>A</td>\n      <td>39</td>\n      <td>36</td>\n    </tr>\n    <tr>\n      <th>41</th>\n      <td>A</td>\n      <td>13</td>\n      <td>8</td>\n    </tr>\n    <tr>\n      <th>42</th>\n      <td>B</td>\n      <td>4</td>\n      <td>2</td>\n    </tr>\n    <tr>\n      <th>43</th>\n      <td>B</td>\n      <td>5</td>\n      <td>0</td>\n    </tr>\n    <tr>\n      <th>44</th>\n      <td>B</td>\n      <td>23</td>\n      <td>19</td>\n    </tr>\n    <tr>\n      <th>45</th>\n      <td>B</td>\n      <td>25</td>\n      <td>25</td>\n    </tr>\n    <tr>\n      <th>46</th>\n      <td>B</td>\n      <td>11</td>\n      <td>3</td>\n    </tr>\n    <tr>\n      <th>47</th>\n      <td>B</td>\n      <td>11</td>\n      <td>11</td>\n    </tr>\n    <tr>\n      <th>48</th>\n      <td>B</td>\n      <td>17</td>\n      <td>17</td>\n    </tr>\n    <tr>\n      <th>49</th>\n      <td>B</td>\n      <td>17</td>\n      <td>18</td>\n    </tr>\n    <tr>\n      <th>50</th>\n      <td>B</td>\n      <td>10</td>\n      <td>5</td>\n    </tr>\n    <tr>\n      <th>51</th>\n      <td>B</td>\n      <td>20</td>\n      <td>14</td>\n    </tr>\n    <tr>\n      <th>52</th>\n      <td>A</td>\n      <td>12</td>\n      <td>0</td>\n    </tr>\n    <tr>\n      <th>53</th>\n      <td>A</td>\n      <td>5</td>\n      <td>3</td>\n    </tr>\n    <tr>\n      <th>54</th>\n      <td>A</td>\n      <td>25</td>\n      <td>22</td>\n    </tr>\n    <tr>\n      <th>55</th>\n      <td>A</td>\n      <td>2</td>\n      <td>0</td>\n    </tr>\n    <tr>\n      <th>56</th>\n      <td>A</td>\n      <td>10</td>\n      <td>8</td>\n    </tr>\n    <tr>\n      <th>57</th>\n      <td>A</td>\n      <td>3</td>\n      <td>1</td>\n    </tr>\n    <tr>\n      <th>58</th>\n      <td>B</td>\n      <td>36</td>\n      <td>26</td>\n    </tr>\n    <tr>\n      <th>59</th>\n      <td>B</td>\n      <td>12</td>\n      <td>10</td>\n    </tr>\n    <tr>\n      <th>60</th>\n      <td>B</td>\n      <td>3</td>\n      <td>3</td>\n    </tr>\n    <tr>\n      <th>61</th>\n      <td>B</td>\n      <td>13</td>\n      <td>10</td>\n    </tr>\n    <tr>\n      <th>62</th>\n      <td>B</td>\n      <td>14</td>\n      <td>7</td>\n    </tr>\n    <tr>\n      <th>63</th>\n      <td>A</td>\n      <td>29</td>\n      <td>27</td>\n    </tr>\n    <tr>\n      <th>64</th>\n      <td>A</td>\n      <td>26</td>\n      <td>24</td>\n    </tr>\n    <tr>\n      <th>65</th>\n      <td>A</td>\n      <td>36</td>\n      <td>19</td>\n    </tr>\n    <tr>\n      <th>66</th>\n      <td>A</td>\n      <td>7</td>\n      <td>6</td>\n    </tr>\n    <tr>\n      <th>67</th>\n      <td>A</td>\n      <td>17</td>\n      <td>11</td>\n    </tr>\n    <tr>\n      <th>68</th>\n      <td>A</td>\n      <td>4</td>\n      <td>2</td>\n    </tr>\n    <tr>\n      <th>69</th>\n      <td>A</td>\n      <td>28</td>\n      <td>7</td>\n    </tr>\n    <tr>\n      <th>70</th>\n      <td>A</td>\n      <td>8</td>\n      <td>3</td>\n    </tr>\n    <tr>\n      <th>71</th>\n      <td>B</td>\n      <td>12</td>\n      <td>9</td>\n    </tr>\n    <tr>\n      <th>72</th>\n      <td>B</td>\n      <td>24</td>\n      <td>15</td>\n    </tr>\n    <tr>\n      <th>73</th>\n      <td>B</td>\n      <td>18</td>\n      <td>10</td>\n    </tr>\n    <tr>\n      <th>74</th>\n      <td>B</td>\n      <td>19</td>\n      <td>6</td>\n    </tr>\n    <tr>\n      <th>75</th>\n      <td>B</td>\n      <td>17</td>\n      <td>17</td>\n    </tr>\n    <tr>\n      <th>76</th>\n      <td>A</td>\n      <td>28</td>\n      <td>14</td>\n    </tr>\n    <tr>\n      <th>77</th>\n      <td>A</td>\n      <td>23</td>\n      <td>15</td>\n    </tr>\n  </tbody>\n</table>\n</div>",
            "text/plain": "   discipline  phd  service\n0           B   56       49\n1           A   12        6\n2           A   23       20\n3           A   40       31\n4           B   20       18\n5           A   20       20\n6           A   20       17\n7           A   18       18\n8           A   29       19\n9           A   51       51\n10          B   39       33\n11          B   23       23\n12          B    1        0\n13          B   35       33\n14          B   25       19\n15          B   17        3\n16          B    8        3\n17          B    4        0\n18          A   19        7\n19          A   29       27\n20          B    4        4\n21          A   33       30\n22          A    4        2\n23          A    2        0\n24          A   30       23\n25          B   35       31\n26          A   38       19\n27          A   45       43\n28          B    7        2\n29          B   21       20\n30          B    9        7\n31          B   22       21\n32          A   27       19\n33          B   18       18\n34          B   12        8\n35          B   28       23\n36          B   45       45\n37          A   20        8\n38          B    4        3\n39          B   18       18\n40          A   39       36\n41          A   13        8\n42          B    4        2\n43          B    5        0\n44          B   23       19\n45          B   25       25\n46          B   11        3\n47          B   11       11\n48          B   17       17\n49          B   17       18\n50          B   10        5\n51          B   20       14\n52          A   12        0\n53          A    5        3\n54          A   25       22\n55          A    2        0\n56          A   10        8\n57          A    3        1\n58          B   36       26\n59          B   12       10\n60          B    3        3\n61          B   13       10\n62          B   14        7\n63          A   29       27\n64          A   26       24\n65          A   36       19\n66          A    7        6\n67          A   17       11\n68          A    4        2\n69          A   28        7\n70          A    8        3\n71          B   12        9\n72          B   24       15\n73          B   18       10\n74          B   19        6\n75          B   17       17\n76          A   28       14\n77          A   23       15"
          },
          "execution_count": 30,
          "metadata": {},
          "output_type": "execute_result"
        }
      ]
    },
    {
      "metadata": {
        "trusted": false
      },
      "id": "aa9c976b",
      "cell_type": "code",
      "source": "df.head(2)",
      "execution_count": 28,
      "outputs": [
        {
          "data": {
            "text/html": "<div>\n<style scoped>\n    .dataframe tbody tr th:only-of-type {\n        vertical-align: middle;\n    }\n\n    .dataframe tbody tr th {\n        vertical-align: top;\n    }\n\n    .dataframe thead th {\n        text-align: right;\n    }\n</style>\n<table border=\"1\" class=\"dataframe\">\n  <thead>\n    <tr style=\"text-align: right;\">\n      <th></th>\n      <th>rank</th>\n      <th>discipline</th>\n      <th>phd</th>\n      <th>service</th>\n      <th>sex</th>\n      <th>salary</th>\n    </tr>\n  </thead>\n  <tbody>\n    <tr>\n      <th>0</th>\n      <td>Prof</td>\n      <td>B</td>\n      <td>56</td>\n      <td>49</td>\n      <td>Male</td>\n      <td>186960</td>\n    </tr>\n    <tr>\n      <th>1</th>\n      <td>Prof</td>\n      <td>A</td>\n      <td>12</td>\n      <td>6</td>\n      <td>Male</td>\n      <td>93000</td>\n    </tr>\n  </tbody>\n</table>\n</div>",
            "text/plain": "   rank discipline  phd  service   sex  salary\n0  Prof          B   56       49  Male  186960\n1  Prof          A   12        6  Male   93000"
          },
          "execution_count": 28,
          "metadata": {},
          "output_type": "execute_result"
        }
      ]
    },
    {
      "metadata": {
        "trusted": false
      },
      "id": "bbf0e646",
      "cell_type": "code",
      "source": "#Extract values from 5th to 45 from phd, service , sex and salary column",
      "execution_count": 27,
      "outputs": []
    },
    {
      "metadata": {
        "trusted": false
      },
      "id": "e888c1f4",
      "cell_type": "code",
      "source": "df.loc[5:45,'phd':'salary']",
      "execution_count": 31,
      "outputs": [
        {
          "data": {
            "text/html": "<div>\n<style scoped>\n    .dataframe tbody tr th:only-of-type {\n        vertical-align: middle;\n    }\n\n    .dataframe tbody tr th {\n        vertical-align: top;\n    }\n\n    .dataframe thead th {\n        text-align: right;\n    }\n</style>\n<table border=\"1\" class=\"dataframe\">\n  <thead>\n    <tr style=\"text-align: right;\">\n      <th></th>\n      <th>phd</th>\n      <th>service</th>\n      <th>sex</th>\n      <th>salary</th>\n    </tr>\n  </thead>\n  <tbody>\n    <tr>\n      <th>5</th>\n      <td>20</td>\n      <td>20</td>\n      <td>Male</td>\n      <td>122400</td>\n    </tr>\n    <tr>\n      <th>6</th>\n      <td>20</td>\n      <td>17</td>\n      <td>Male</td>\n      <td>81285</td>\n    </tr>\n    <tr>\n      <th>7</th>\n      <td>18</td>\n      <td>18</td>\n      <td>Male</td>\n      <td>126300</td>\n    </tr>\n    <tr>\n      <th>8</th>\n      <td>29</td>\n      <td>19</td>\n      <td>Male</td>\n      <td>94350</td>\n    </tr>\n    <tr>\n      <th>9</th>\n      <td>51</td>\n      <td>51</td>\n      <td>Male</td>\n      <td>57800</td>\n    </tr>\n    <tr>\n      <th>10</th>\n      <td>39</td>\n      <td>33</td>\n      <td>Male</td>\n      <td>128250</td>\n    </tr>\n    <tr>\n      <th>11</th>\n      <td>23</td>\n      <td>23</td>\n      <td>Male</td>\n      <td>134778</td>\n    </tr>\n    <tr>\n      <th>12</th>\n      <td>1</td>\n      <td>0</td>\n      <td>Male</td>\n      <td>88000</td>\n    </tr>\n    <tr>\n      <th>13</th>\n      <td>35</td>\n      <td>33</td>\n      <td>Male</td>\n      <td>162200</td>\n    </tr>\n    <tr>\n      <th>14</th>\n      <td>25</td>\n      <td>19</td>\n      <td>Male</td>\n      <td>153750</td>\n    </tr>\n    <tr>\n      <th>15</th>\n      <td>17</td>\n      <td>3</td>\n      <td>Male</td>\n      <td>150480</td>\n    </tr>\n    <tr>\n      <th>16</th>\n      <td>8</td>\n      <td>3</td>\n      <td>Male</td>\n      <td>75044</td>\n    </tr>\n    <tr>\n      <th>17</th>\n      <td>4</td>\n      <td>0</td>\n      <td>Male</td>\n      <td>92000</td>\n    </tr>\n    <tr>\n      <th>18</th>\n      <td>19</td>\n      <td>7</td>\n      <td>Male</td>\n      <td>107300</td>\n    </tr>\n    <tr>\n      <th>19</th>\n      <td>29</td>\n      <td>27</td>\n      <td>Male</td>\n      <td>150500</td>\n    </tr>\n    <tr>\n      <th>20</th>\n      <td>4</td>\n      <td>4</td>\n      <td>Male</td>\n      <td>92000</td>\n    </tr>\n    <tr>\n      <th>21</th>\n      <td>33</td>\n      <td>30</td>\n      <td>Male</td>\n      <td>103106</td>\n    </tr>\n    <tr>\n      <th>22</th>\n      <td>4</td>\n      <td>2</td>\n      <td>Male</td>\n      <td>73000</td>\n    </tr>\n    <tr>\n      <th>23</th>\n      <td>2</td>\n      <td>0</td>\n      <td>Male</td>\n      <td>85000</td>\n    </tr>\n    <tr>\n      <th>24</th>\n      <td>30</td>\n      <td>23</td>\n      <td>Male</td>\n      <td>91100</td>\n    </tr>\n    <tr>\n      <th>25</th>\n      <td>35</td>\n      <td>31</td>\n      <td>Male</td>\n      <td>99418</td>\n    </tr>\n    <tr>\n      <th>26</th>\n      <td>38</td>\n      <td>19</td>\n      <td>Male</td>\n      <td>148750</td>\n    </tr>\n    <tr>\n      <th>27</th>\n      <td>45</td>\n      <td>43</td>\n      <td>Male</td>\n      <td>155865</td>\n    </tr>\n    <tr>\n      <th>28</th>\n      <td>7</td>\n      <td>2</td>\n      <td>Male</td>\n      <td>91300</td>\n    </tr>\n    <tr>\n      <th>29</th>\n      <td>21</td>\n      <td>20</td>\n      <td>Male</td>\n      <td>123683</td>\n    </tr>\n    <tr>\n      <th>30</th>\n      <td>9</td>\n      <td>7</td>\n      <td>Male</td>\n      <td>107008</td>\n    </tr>\n    <tr>\n      <th>31</th>\n      <td>22</td>\n      <td>21</td>\n      <td>Male</td>\n      <td>155750</td>\n    </tr>\n    <tr>\n      <th>32</th>\n      <td>27</td>\n      <td>19</td>\n      <td>Male</td>\n      <td>103275</td>\n    </tr>\n    <tr>\n      <th>33</th>\n      <td>18</td>\n      <td>18</td>\n      <td>Male</td>\n      <td>120000</td>\n    </tr>\n    <tr>\n      <th>34</th>\n      <td>12</td>\n      <td>8</td>\n      <td>Male</td>\n      <td>119800</td>\n    </tr>\n    <tr>\n      <th>35</th>\n      <td>28</td>\n      <td>23</td>\n      <td>Male</td>\n      <td>126933</td>\n    </tr>\n    <tr>\n      <th>36</th>\n      <td>45</td>\n      <td>45</td>\n      <td>Male</td>\n      <td>146856</td>\n    </tr>\n    <tr>\n      <th>37</th>\n      <td>20</td>\n      <td>8</td>\n      <td>Male</td>\n      <td>102000</td>\n    </tr>\n    <tr>\n      <th>38</th>\n      <td>4</td>\n      <td>3</td>\n      <td>Male</td>\n      <td>91000</td>\n    </tr>\n    <tr>\n      <th>39</th>\n      <td>18</td>\n      <td>18</td>\n      <td>Female</td>\n      <td>129000</td>\n    </tr>\n    <tr>\n      <th>40</th>\n      <td>39</td>\n      <td>36</td>\n      <td>Female</td>\n      <td>137000</td>\n    </tr>\n    <tr>\n      <th>41</th>\n      <td>13</td>\n      <td>8</td>\n      <td>Female</td>\n      <td>74830</td>\n    </tr>\n    <tr>\n      <th>42</th>\n      <td>4</td>\n      <td>2</td>\n      <td>Female</td>\n      <td>80225</td>\n    </tr>\n    <tr>\n      <th>43</th>\n      <td>5</td>\n      <td>0</td>\n      <td>Female</td>\n      <td>77000</td>\n    </tr>\n    <tr>\n      <th>44</th>\n      <td>23</td>\n      <td>19</td>\n      <td>Female</td>\n      <td>151768</td>\n    </tr>\n    <tr>\n      <th>45</th>\n      <td>25</td>\n      <td>25</td>\n      <td>Female</td>\n      <td>140096</td>\n    </tr>\n  </tbody>\n</table>\n</div>",
            "text/plain": "    phd  service     sex  salary\n5    20       20    Male  122400\n6    20       17    Male   81285\n7    18       18    Male  126300\n8    29       19    Male   94350\n9    51       51    Male   57800\n10   39       33    Male  128250\n11   23       23    Male  134778\n12    1        0    Male   88000\n13   35       33    Male  162200\n14   25       19    Male  153750\n15   17        3    Male  150480\n16    8        3    Male   75044\n17    4        0    Male   92000\n18   19        7    Male  107300\n19   29       27    Male  150500\n20    4        4    Male   92000\n21   33       30    Male  103106\n22    4        2    Male   73000\n23    2        0    Male   85000\n24   30       23    Male   91100\n25   35       31    Male   99418\n26   38       19    Male  148750\n27   45       43    Male  155865\n28    7        2    Male   91300\n29   21       20    Male  123683\n30    9        7    Male  107008\n31   22       21    Male  155750\n32   27       19    Male  103275\n33   18       18    Male  120000\n34   12        8    Male  119800\n35   28       23    Male  126933\n36   45       45    Male  146856\n37   20        8    Male  102000\n38    4        3    Male   91000\n39   18       18  Female  129000\n40   39       36  Female  137000\n41   13        8  Female   74830\n42    4        2  Female   80225\n43    5        0  Female   77000\n44   23       19  Female  151768\n45   25       25  Female  140096"
          },
          "execution_count": 31,
          "metadata": {},
          "output_type": "execute_result"
        }
      ]
    },
    {
      "metadata": {
        "trusted": false
      },
      "id": "2ef7f719",
      "cell_type": "code",
      "source": "df.iloc[5:46, 2:]",
      "execution_count": 32,
      "outputs": [
        {
          "data": {
            "text/html": "<div>\n<style scoped>\n    .dataframe tbody tr th:only-of-type {\n        vertical-align: middle;\n    }\n\n    .dataframe tbody tr th {\n        vertical-align: top;\n    }\n\n    .dataframe thead th {\n        text-align: right;\n    }\n</style>\n<table border=\"1\" class=\"dataframe\">\n  <thead>\n    <tr style=\"text-align: right;\">\n      <th></th>\n      <th>phd</th>\n      <th>service</th>\n      <th>sex</th>\n      <th>salary</th>\n    </tr>\n  </thead>\n  <tbody>\n    <tr>\n      <th>5</th>\n      <td>20</td>\n      <td>20</td>\n      <td>Male</td>\n      <td>122400</td>\n    </tr>\n    <tr>\n      <th>6</th>\n      <td>20</td>\n      <td>17</td>\n      <td>Male</td>\n      <td>81285</td>\n    </tr>\n    <tr>\n      <th>7</th>\n      <td>18</td>\n      <td>18</td>\n      <td>Male</td>\n      <td>126300</td>\n    </tr>\n    <tr>\n      <th>8</th>\n      <td>29</td>\n      <td>19</td>\n      <td>Male</td>\n      <td>94350</td>\n    </tr>\n    <tr>\n      <th>9</th>\n      <td>51</td>\n      <td>51</td>\n      <td>Male</td>\n      <td>57800</td>\n    </tr>\n    <tr>\n      <th>10</th>\n      <td>39</td>\n      <td>33</td>\n      <td>Male</td>\n      <td>128250</td>\n    </tr>\n    <tr>\n      <th>11</th>\n      <td>23</td>\n      <td>23</td>\n      <td>Male</td>\n      <td>134778</td>\n    </tr>\n    <tr>\n      <th>12</th>\n      <td>1</td>\n      <td>0</td>\n      <td>Male</td>\n      <td>88000</td>\n    </tr>\n    <tr>\n      <th>13</th>\n      <td>35</td>\n      <td>33</td>\n      <td>Male</td>\n      <td>162200</td>\n    </tr>\n    <tr>\n      <th>14</th>\n      <td>25</td>\n      <td>19</td>\n      <td>Male</td>\n      <td>153750</td>\n    </tr>\n    <tr>\n      <th>15</th>\n      <td>17</td>\n      <td>3</td>\n      <td>Male</td>\n      <td>150480</td>\n    </tr>\n    <tr>\n      <th>16</th>\n      <td>8</td>\n      <td>3</td>\n      <td>Male</td>\n      <td>75044</td>\n    </tr>\n    <tr>\n      <th>17</th>\n      <td>4</td>\n      <td>0</td>\n      <td>Male</td>\n      <td>92000</td>\n    </tr>\n    <tr>\n      <th>18</th>\n      <td>19</td>\n      <td>7</td>\n      <td>Male</td>\n      <td>107300</td>\n    </tr>\n    <tr>\n      <th>19</th>\n      <td>29</td>\n      <td>27</td>\n      <td>Male</td>\n      <td>150500</td>\n    </tr>\n    <tr>\n      <th>20</th>\n      <td>4</td>\n      <td>4</td>\n      <td>Male</td>\n      <td>92000</td>\n    </tr>\n    <tr>\n      <th>21</th>\n      <td>33</td>\n      <td>30</td>\n      <td>Male</td>\n      <td>103106</td>\n    </tr>\n    <tr>\n      <th>22</th>\n      <td>4</td>\n      <td>2</td>\n      <td>Male</td>\n      <td>73000</td>\n    </tr>\n    <tr>\n      <th>23</th>\n      <td>2</td>\n      <td>0</td>\n      <td>Male</td>\n      <td>85000</td>\n    </tr>\n    <tr>\n      <th>24</th>\n      <td>30</td>\n      <td>23</td>\n      <td>Male</td>\n      <td>91100</td>\n    </tr>\n    <tr>\n      <th>25</th>\n      <td>35</td>\n      <td>31</td>\n      <td>Male</td>\n      <td>99418</td>\n    </tr>\n    <tr>\n      <th>26</th>\n      <td>38</td>\n      <td>19</td>\n      <td>Male</td>\n      <td>148750</td>\n    </tr>\n    <tr>\n      <th>27</th>\n      <td>45</td>\n      <td>43</td>\n      <td>Male</td>\n      <td>155865</td>\n    </tr>\n    <tr>\n      <th>28</th>\n      <td>7</td>\n      <td>2</td>\n      <td>Male</td>\n      <td>91300</td>\n    </tr>\n    <tr>\n      <th>29</th>\n      <td>21</td>\n      <td>20</td>\n      <td>Male</td>\n      <td>123683</td>\n    </tr>\n    <tr>\n      <th>30</th>\n      <td>9</td>\n      <td>7</td>\n      <td>Male</td>\n      <td>107008</td>\n    </tr>\n    <tr>\n      <th>31</th>\n      <td>22</td>\n      <td>21</td>\n      <td>Male</td>\n      <td>155750</td>\n    </tr>\n    <tr>\n      <th>32</th>\n      <td>27</td>\n      <td>19</td>\n      <td>Male</td>\n      <td>103275</td>\n    </tr>\n    <tr>\n      <th>33</th>\n      <td>18</td>\n      <td>18</td>\n      <td>Male</td>\n      <td>120000</td>\n    </tr>\n    <tr>\n      <th>34</th>\n      <td>12</td>\n      <td>8</td>\n      <td>Male</td>\n      <td>119800</td>\n    </tr>\n    <tr>\n      <th>35</th>\n      <td>28</td>\n      <td>23</td>\n      <td>Male</td>\n      <td>126933</td>\n    </tr>\n    <tr>\n      <th>36</th>\n      <td>45</td>\n      <td>45</td>\n      <td>Male</td>\n      <td>146856</td>\n    </tr>\n    <tr>\n      <th>37</th>\n      <td>20</td>\n      <td>8</td>\n      <td>Male</td>\n      <td>102000</td>\n    </tr>\n    <tr>\n      <th>38</th>\n      <td>4</td>\n      <td>3</td>\n      <td>Male</td>\n      <td>91000</td>\n    </tr>\n    <tr>\n      <th>39</th>\n      <td>18</td>\n      <td>18</td>\n      <td>Female</td>\n      <td>129000</td>\n    </tr>\n    <tr>\n      <th>40</th>\n      <td>39</td>\n      <td>36</td>\n      <td>Female</td>\n      <td>137000</td>\n    </tr>\n    <tr>\n      <th>41</th>\n      <td>13</td>\n      <td>8</td>\n      <td>Female</td>\n      <td>74830</td>\n    </tr>\n    <tr>\n      <th>42</th>\n      <td>4</td>\n      <td>2</td>\n      <td>Female</td>\n      <td>80225</td>\n    </tr>\n    <tr>\n      <th>43</th>\n      <td>5</td>\n      <td>0</td>\n      <td>Female</td>\n      <td>77000</td>\n    </tr>\n    <tr>\n      <th>44</th>\n      <td>23</td>\n      <td>19</td>\n      <td>Female</td>\n      <td>151768</td>\n    </tr>\n    <tr>\n      <th>45</th>\n      <td>25</td>\n      <td>25</td>\n      <td>Female</td>\n      <td>140096</td>\n    </tr>\n  </tbody>\n</table>\n</div>",
            "text/plain": "    phd  service     sex  salary\n5    20       20    Male  122400\n6    20       17    Male   81285\n7    18       18    Male  126300\n8    29       19    Male   94350\n9    51       51    Male   57800\n10   39       33    Male  128250\n11   23       23    Male  134778\n12    1        0    Male   88000\n13   35       33    Male  162200\n14   25       19    Male  153750\n15   17        3    Male  150480\n16    8        3    Male   75044\n17    4        0    Male   92000\n18   19        7    Male  107300\n19   29       27    Male  150500\n20    4        4    Male   92000\n21   33       30    Male  103106\n22    4        2    Male   73000\n23    2        0    Male   85000\n24   30       23    Male   91100\n25   35       31    Male   99418\n26   38       19    Male  148750\n27   45       43    Male  155865\n28    7        2    Male   91300\n29   21       20    Male  123683\n30    9        7    Male  107008\n31   22       21    Male  155750\n32   27       19    Male  103275\n33   18       18    Male  120000\n34   12        8    Male  119800\n35   28       23    Male  126933\n36   45       45    Male  146856\n37   20        8    Male  102000\n38    4        3    Male   91000\n39   18       18  Female  129000\n40   39       36  Female  137000\n41   13        8  Female   74830\n42    4        2  Female   80225\n43    5        0  Female   77000\n44   23       19  Female  151768\n45   25       25  Female  140096"
          },
          "execution_count": 32,
          "metadata": {},
          "output_type": "execute_result"
        }
      ]
    },
    {
      "metadata": {
        "collapsed": true,
        "trusted": false
      },
      "id": "f33ab9dd",
      "cell_type": "code",
      "source": "df.iloc[:,1:4]",
      "execution_count": 26,
      "outputs": [
        {
          "data": {
            "text/html": "<div>\n<style scoped>\n    .dataframe tbody tr th:only-of-type {\n        vertical-align: middle;\n    }\n\n    .dataframe tbody tr th {\n        vertical-align: top;\n    }\n\n    .dataframe thead th {\n        text-align: right;\n    }\n</style>\n<table border=\"1\" class=\"dataframe\">\n  <thead>\n    <tr style=\"text-align: right;\">\n      <th></th>\n      <th>discipline</th>\n      <th>phd</th>\n      <th>service</th>\n    </tr>\n  </thead>\n  <tbody>\n    <tr>\n      <th>0</th>\n      <td>B</td>\n      <td>56</td>\n      <td>49</td>\n    </tr>\n    <tr>\n      <th>1</th>\n      <td>A</td>\n      <td>12</td>\n      <td>6</td>\n    </tr>\n    <tr>\n      <th>2</th>\n      <td>A</td>\n      <td>23</td>\n      <td>20</td>\n    </tr>\n    <tr>\n      <th>3</th>\n      <td>A</td>\n      <td>40</td>\n      <td>31</td>\n    </tr>\n    <tr>\n      <th>4</th>\n      <td>B</td>\n      <td>20</td>\n      <td>18</td>\n    </tr>\n    <tr>\n      <th>5</th>\n      <td>A</td>\n      <td>20</td>\n      <td>20</td>\n    </tr>\n    <tr>\n      <th>6</th>\n      <td>A</td>\n      <td>20</td>\n      <td>17</td>\n    </tr>\n    <tr>\n      <th>7</th>\n      <td>A</td>\n      <td>18</td>\n      <td>18</td>\n    </tr>\n    <tr>\n      <th>8</th>\n      <td>A</td>\n      <td>29</td>\n      <td>19</td>\n    </tr>\n    <tr>\n      <th>9</th>\n      <td>A</td>\n      <td>51</td>\n      <td>51</td>\n    </tr>\n    <tr>\n      <th>10</th>\n      <td>B</td>\n      <td>39</td>\n      <td>33</td>\n    </tr>\n    <tr>\n      <th>11</th>\n      <td>B</td>\n      <td>23</td>\n      <td>23</td>\n    </tr>\n    <tr>\n      <th>12</th>\n      <td>B</td>\n      <td>1</td>\n      <td>0</td>\n    </tr>\n    <tr>\n      <th>13</th>\n      <td>B</td>\n      <td>35</td>\n      <td>33</td>\n    </tr>\n    <tr>\n      <th>14</th>\n      <td>B</td>\n      <td>25</td>\n      <td>19</td>\n    </tr>\n    <tr>\n      <th>15</th>\n      <td>B</td>\n      <td>17</td>\n      <td>3</td>\n    </tr>\n    <tr>\n      <th>16</th>\n      <td>B</td>\n      <td>8</td>\n      <td>3</td>\n    </tr>\n    <tr>\n      <th>17</th>\n      <td>B</td>\n      <td>4</td>\n      <td>0</td>\n    </tr>\n    <tr>\n      <th>18</th>\n      <td>A</td>\n      <td>19</td>\n      <td>7</td>\n    </tr>\n    <tr>\n      <th>19</th>\n      <td>A</td>\n      <td>29</td>\n      <td>27</td>\n    </tr>\n    <tr>\n      <th>20</th>\n      <td>B</td>\n      <td>4</td>\n      <td>4</td>\n    </tr>\n    <tr>\n      <th>21</th>\n      <td>A</td>\n      <td>33</td>\n      <td>30</td>\n    </tr>\n    <tr>\n      <th>22</th>\n      <td>A</td>\n      <td>4</td>\n      <td>2</td>\n    </tr>\n    <tr>\n      <th>23</th>\n      <td>A</td>\n      <td>2</td>\n      <td>0</td>\n    </tr>\n    <tr>\n      <th>24</th>\n      <td>A</td>\n      <td>30</td>\n      <td>23</td>\n    </tr>\n    <tr>\n      <th>25</th>\n      <td>B</td>\n      <td>35</td>\n      <td>31</td>\n    </tr>\n    <tr>\n      <th>26</th>\n      <td>A</td>\n      <td>38</td>\n      <td>19</td>\n    </tr>\n    <tr>\n      <th>27</th>\n      <td>A</td>\n      <td>45</td>\n      <td>43</td>\n    </tr>\n    <tr>\n      <th>28</th>\n      <td>B</td>\n      <td>7</td>\n      <td>2</td>\n    </tr>\n    <tr>\n      <th>29</th>\n      <td>B</td>\n      <td>21</td>\n      <td>20</td>\n    </tr>\n    <tr>\n      <th>30</th>\n      <td>B</td>\n      <td>9</td>\n      <td>7</td>\n    </tr>\n    <tr>\n      <th>31</th>\n      <td>B</td>\n      <td>22</td>\n      <td>21</td>\n    </tr>\n    <tr>\n      <th>32</th>\n      <td>A</td>\n      <td>27</td>\n      <td>19</td>\n    </tr>\n    <tr>\n      <th>33</th>\n      <td>B</td>\n      <td>18</td>\n      <td>18</td>\n    </tr>\n    <tr>\n      <th>34</th>\n      <td>B</td>\n      <td>12</td>\n      <td>8</td>\n    </tr>\n    <tr>\n      <th>35</th>\n      <td>B</td>\n      <td>28</td>\n      <td>23</td>\n    </tr>\n    <tr>\n      <th>36</th>\n      <td>B</td>\n      <td>45</td>\n      <td>45</td>\n    </tr>\n    <tr>\n      <th>37</th>\n      <td>A</td>\n      <td>20</td>\n      <td>8</td>\n    </tr>\n    <tr>\n      <th>38</th>\n      <td>B</td>\n      <td>4</td>\n      <td>3</td>\n    </tr>\n    <tr>\n      <th>39</th>\n      <td>B</td>\n      <td>18</td>\n      <td>18</td>\n    </tr>\n    <tr>\n      <th>40</th>\n      <td>A</td>\n      <td>39</td>\n      <td>36</td>\n    </tr>\n    <tr>\n      <th>41</th>\n      <td>A</td>\n      <td>13</td>\n      <td>8</td>\n    </tr>\n    <tr>\n      <th>42</th>\n      <td>B</td>\n      <td>4</td>\n      <td>2</td>\n    </tr>\n    <tr>\n      <th>43</th>\n      <td>B</td>\n      <td>5</td>\n      <td>0</td>\n    </tr>\n    <tr>\n      <th>44</th>\n      <td>B</td>\n      <td>23</td>\n      <td>19</td>\n    </tr>\n    <tr>\n      <th>45</th>\n      <td>B</td>\n      <td>25</td>\n      <td>25</td>\n    </tr>\n    <tr>\n      <th>46</th>\n      <td>B</td>\n      <td>11</td>\n      <td>3</td>\n    </tr>\n    <tr>\n      <th>47</th>\n      <td>B</td>\n      <td>11</td>\n      <td>11</td>\n    </tr>\n    <tr>\n      <th>48</th>\n      <td>B</td>\n      <td>17</td>\n      <td>17</td>\n    </tr>\n    <tr>\n      <th>49</th>\n      <td>B</td>\n      <td>17</td>\n      <td>18</td>\n    </tr>\n    <tr>\n      <th>50</th>\n      <td>B</td>\n      <td>10</td>\n      <td>5</td>\n    </tr>\n    <tr>\n      <th>51</th>\n      <td>B</td>\n      <td>20</td>\n      <td>14</td>\n    </tr>\n    <tr>\n      <th>52</th>\n      <td>A</td>\n      <td>12</td>\n      <td>0</td>\n    </tr>\n    <tr>\n      <th>53</th>\n      <td>A</td>\n      <td>5</td>\n      <td>3</td>\n    </tr>\n    <tr>\n      <th>54</th>\n      <td>A</td>\n      <td>25</td>\n      <td>22</td>\n    </tr>\n    <tr>\n      <th>55</th>\n      <td>A</td>\n      <td>2</td>\n      <td>0</td>\n    </tr>\n    <tr>\n      <th>56</th>\n      <td>A</td>\n      <td>10</td>\n      <td>8</td>\n    </tr>\n    <tr>\n      <th>57</th>\n      <td>A</td>\n      <td>3</td>\n      <td>1</td>\n    </tr>\n    <tr>\n      <th>58</th>\n      <td>B</td>\n      <td>36</td>\n      <td>26</td>\n    </tr>\n    <tr>\n      <th>59</th>\n      <td>B</td>\n      <td>12</td>\n      <td>10</td>\n    </tr>\n    <tr>\n      <th>60</th>\n      <td>B</td>\n      <td>3</td>\n      <td>3</td>\n    </tr>\n    <tr>\n      <th>61</th>\n      <td>B</td>\n      <td>13</td>\n      <td>10</td>\n    </tr>\n    <tr>\n      <th>62</th>\n      <td>B</td>\n      <td>14</td>\n      <td>7</td>\n    </tr>\n    <tr>\n      <th>63</th>\n      <td>A</td>\n      <td>29</td>\n      <td>27</td>\n    </tr>\n    <tr>\n      <th>64</th>\n      <td>A</td>\n      <td>26</td>\n      <td>24</td>\n    </tr>\n    <tr>\n      <th>65</th>\n      <td>A</td>\n      <td>36</td>\n      <td>19</td>\n    </tr>\n    <tr>\n      <th>66</th>\n      <td>A</td>\n      <td>7</td>\n      <td>6</td>\n    </tr>\n    <tr>\n      <th>67</th>\n      <td>A</td>\n      <td>17</td>\n      <td>11</td>\n    </tr>\n    <tr>\n      <th>68</th>\n      <td>A</td>\n      <td>4</td>\n      <td>2</td>\n    </tr>\n    <tr>\n      <th>69</th>\n      <td>A</td>\n      <td>28</td>\n      <td>7</td>\n    </tr>\n    <tr>\n      <th>70</th>\n      <td>A</td>\n      <td>8</td>\n      <td>3</td>\n    </tr>\n    <tr>\n      <th>71</th>\n      <td>B</td>\n      <td>12</td>\n      <td>9</td>\n    </tr>\n    <tr>\n      <th>72</th>\n      <td>B</td>\n      <td>24</td>\n      <td>15</td>\n    </tr>\n    <tr>\n      <th>73</th>\n      <td>B</td>\n      <td>18</td>\n      <td>10</td>\n    </tr>\n    <tr>\n      <th>74</th>\n      <td>B</td>\n      <td>19</td>\n      <td>6</td>\n    </tr>\n    <tr>\n      <th>75</th>\n      <td>B</td>\n      <td>17</td>\n      <td>17</td>\n    </tr>\n    <tr>\n      <th>76</th>\n      <td>A</td>\n      <td>28</td>\n      <td>14</td>\n    </tr>\n    <tr>\n      <th>77</th>\n      <td>A</td>\n      <td>23</td>\n      <td>15</td>\n    </tr>\n  </tbody>\n</table>\n</div>",
            "text/plain": "   discipline  phd  service\n0           B   56       49\n1           A   12        6\n2           A   23       20\n3           A   40       31\n4           B   20       18\n5           A   20       20\n6           A   20       17\n7           A   18       18\n8           A   29       19\n9           A   51       51\n10          B   39       33\n11          B   23       23\n12          B    1        0\n13          B   35       33\n14          B   25       19\n15          B   17        3\n16          B    8        3\n17          B    4        0\n18          A   19        7\n19          A   29       27\n20          B    4        4\n21          A   33       30\n22          A    4        2\n23          A    2        0\n24          A   30       23\n25          B   35       31\n26          A   38       19\n27          A   45       43\n28          B    7        2\n29          B   21       20\n30          B    9        7\n31          B   22       21\n32          A   27       19\n33          B   18       18\n34          B   12        8\n35          B   28       23\n36          B   45       45\n37          A   20        8\n38          B    4        3\n39          B   18       18\n40          A   39       36\n41          A   13        8\n42          B    4        2\n43          B    5        0\n44          B   23       19\n45          B   25       25\n46          B   11        3\n47          B   11       11\n48          B   17       17\n49          B   17       18\n50          B   10        5\n51          B   20       14\n52          A   12        0\n53          A    5        3\n54          A   25       22\n55          A    2        0\n56          A   10        8\n57          A    3        1\n58          B   36       26\n59          B   12       10\n60          B    3        3\n61          B   13       10\n62          B   14        7\n63          A   29       27\n64          A   26       24\n65          A   36       19\n66          A    7        6\n67          A   17       11\n68          A    4        2\n69          A   28        7\n70          A    8        3\n71          B   12        9\n72          B   24       15\n73          B   18       10\n74          B   19        6\n75          B   17       17\n76          A   28       14\n77          A   23       15"
          },
          "execution_count": 26,
          "metadata": {},
          "output_type": "execute_result"
        }
      ]
    },
    {
      "metadata": {
        "trusted": false
      },
      "id": "98d8d78a",
      "cell_type": "code",
      "source": "df.head()",
      "execution_count": 34,
      "outputs": [
        {
          "data": {
            "text/html": "<div>\n<style scoped>\n    .dataframe tbody tr th:only-of-type {\n        vertical-align: middle;\n    }\n\n    .dataframe tbody tr th {\n        vertical-align: top;\n    }\n\n    .dataframe thead th {\n        text-align: right;\n    }\n</style>\n<table border=\"1\" class=\"dataframe\">\n  <thead>\n    <tr style=\"text-align: right;\">\n      <th></th>\n      <th>rank</th>\n      <th>discipline</th>\n      <th>phd</th>\n      <th>service</th>\n      <th>sex</th>\n      <th>salary</th>\n    </tr>\n  </thead>\n  <tbody>\n    <tr>\n      <th>0</th>\n      <td>Prof</td>\n      <td>B</td>\n      <td>56</td>\n      <td>49</td>\n      <td>Male</td>\n      <td>186960</td>\n    </tr>\n    <tr>\n      <th>1</th>\n      <td>Prof</td>\n      <td>A</td>\n      <td>12</td>\n      <td>6</td>\n      <td>Male</td>\n      <td>93000</td>\n    </tr>\n    <tr>\n      <th>2</th>\n      <td>Prof</td>\n      <td>A</td>\n      <td>23</td>\n      <td>20</td>\n      <td>Male</td>\n      <td>110515</td>\n    </tr>\n    <tr>\n      <th>3</th>\n      <td>Prof</td>\n      <td>A</td>\n      <td>40</td>\n      <td>31</td>\n      <td>Male</td>\n      <td>131205</td>\n    </tr>\n    <tr>\n      <th>4</th>\n      <td>Prof</td>\n      <td>B</td>\n      <td>20</td>\n      <td>18</td>\n      <td>Male</td>\n      <td>104800</td>\n    </tr>\n  </tbody>\n</table>\n</div>",
            "text/plain": "   rank discipline  phd  service   sex  salary\n0  Prof          B   56       49  Male  186960\n1  Prof          A   12        6  Male   93000\n2  Prof          A   23       20  Male  110515\n3  Prof          A   40       31  Male  131205\n4  Prof          B   20       18  Male  104800"
          },
          "execution_count": 34,
          "metadata": {},
          "output_type": "execute_result"
        }
      ]
    },
    {
      "metadata": {
        "trusted": false
      },
      "id": "4961847f",
      "cell_type": "code",
      "source": "#Value counts",
      "execution_count": 48,
      "outputs": []
    },
    {
      "metadata": {
        "trusted": false
      },
      "id": "7e796d23",
      "cell_type": "code",
      "source": "df['rank'].value_counts()",
      "execution_count": 35,
      "outputs": [
        {
          "data": {
            "text/plain": "Prof         46\nAsstProf     19\nAssocProf    13\nName: rank, dtype: int64"
          },
          "execution_count": 35,
          "metadata": {},
          "output_type": "execute_result"
        }
      ]
    },
    {
      "metadata": {
        "trusted": false
      },
      "id": "115bdb33",
      "cell_type": "code",
      "source": "df['salary'].nunique()",
      "execution_count": 36,
      "outputs": [
        {
          "data": {
            "text/plain": "73"
          },
          "execution_count": 36,
          "metadata": {},
          "output_type": "execute_result"
        }
      ]
    },
    {
      "metadata": {
        "trusted": false
      },
      "id": "13d60945",
      "cell_type": "code",
      "source": "df['rank'].unique()",
      "execution_count": 38,
      "outputs": [
        {
          "data": {
            "text/plain": "array(['Prof', 'AssocProf', 'AsstProf'], dtype=object)"
          },
          "execution_count": 38,
          "metadata": {},
          "output_type": "execute_result"
        }
      ]
    },
    {
      "metadata": {
        "trusted": false
      },
      "id": "eefba502",
      "cell_type": "code",
      "source": "df['rank'].nunique()",
      "execution_count": 39,
      "outputs": [
        {
          "data": {
            "text/plain": "3"
          },
          "execution_count": 39,
          "metadata": {},
          "output_type": "execute_result"
        }
      ]
    },
    {
      "metadata": {
        "trusted": false
      },
      "id": "5e27a692",
      "cell_type": "code",
      "source": "#Renaming column names",
      "execution_count": 6,
      "outputs": []
    },
    {
      "metadata": {
        "collapsed": true,
        "trusted": false
      },
      "id": "8a00bb7b",
      "cell_type": "code",
      "source": "df.rename(columns={'rank':'RANK',})",
      "execution_count": 40,
      "outputs": [
        {
          "data": {
            "text/html": "<div>\n<style scoped>\n    .dataframe tbody tr th:only-of-type {\n        vertical-align: middle;\n    }\n\n    .dataframe tbody tr th {\n        vertical-align: top;\n    }\n\n    .dataframe thead th {\n        text-align: right;\n    }\n</style>\n<table border=\"1\" class=\"dataframe\">\n  <thead>\n    <tr style=\"text-align: right;\">\n      <th></th>\n      <th>RANK</th>\n      <th>discipline</th>\n      <th>phd</th>\n      <th>service</th>\n      <th>sex</th>\n      <th>salary</th>\n    </tr>\n  </thead>\n  <tbody>\n    <tr>\n      <th>0</th>\n      <td>Prof</td>\n      <td>B</td>\n      <td>56</td>\n      <td>49</td>\n      <td>Male</td>\n      <td>186960</td>\n    </tr>\n    <tr>\n      <th>1</th>\n      <td>Prof</td>\n      <td>A</td>\n      <td>12</td>\n      <td>6</td>\n      <td>Male</td>\n      <td>93000</td>\n    </tr>\n    <tr>\n      <th>2</th>\n      <td>Prof</td>\n      <td>A</td>\n      <td>23</td>\n      <td>20</td>\n      <td>Male</td>\n      <td>110515</td>\n    </tr>\n    <tr>\n      <th>3</th>\n      <td>Prof</td>\n      <td>A</td>\n      <td>40</td>\n      <td>31</td>\n      <td>Male</td>\n      <td>131205</td>\n    </tr>\n    <tr>\n      <th>4</th>\n      <td>Prof</td>\n      <td>B</td>\n      <td>20</td>\n      <td>18</td>\n      <td>Male</td>\n      <td>104800</td>\n    </tr>\n    <tr>\n      <th>5</th>\n      <td>Prof</td>\n      <td>A</td>\n      <td>20</td>\n      <td>20</td>\n      <td>Male</td>\n      <td>122400</td>\n    </tr>\n    <tr>\n      <th>6</th>\n      <td>AssocProf</td>\n      <td>A</td>\n      <td>20</td>\n      <td>17</td>\n      <td>Male</td>\n      <td>81285</td>\n    </tr>\n    <tr>\n      <th>7</th>\n      <td>Prof</td>\n      <td>A</td>\n      <td>18</td>\n      <td>18</td>\n      <td>Male</td>\n      <td>126300</td>\n    </tr>\n    <tr>\n      <th>8</th>\n      <td>Prof</td>\n      <td>A</td>\n      <td>29</td>\n      <td>19</td>\n      <td>Male</td>\n      <td>94350</td>\n    </tr>\n    <tr>\n      <th>9</th>\n      <td>Prof</td>\n      <td>A</td>\n      <td>51</td>\n      <td>51</td>\n      <td>Male</td>\n      <td>57800</td>\n    </tr>\n    <tr>\n      <th>10</th>\n      <td>Prof</td>\n      <td>B</td>\n      <td>39</td>\n      <td>33</td>\n      <td>Male</td>\n      <td>128250</td>\n    </tr>\n    <tr>\n      <th>11</th>\n      <td>Prof</td>\n      <td>B</td>\n      <td>23</td>\n      <td>23</td>\n      <td>Male</td>\n      <td>134778</td>\n    </tr>\n    <tr>\n      <th>12</th>\n      <td>AsstProf</td>\n      <td>B</td>\n      <td>1</td>\n      <td>0</td>\n      <td>Male</td>\n      <td>88000</td>\n    </tr>\n    <tr>\n      <th>13</th>\n      <td>Prof</td>\n      <td>B</td>\n      <td>35</td>\n      <td>33</td>\n      <td>Male</td>\n      <td>162200</td>\n    </tr>\n    <tr>\n      <th>14</th>\n      <td>Prof</td>\n      <td>B</td>\n      <td>25</td>\n      <td>19</td>\n      <td>Male</td>\n      <td>153750</td>\n    </tr>\n    <tr>\n      <th>15</th>\n      <td>Prof</td>\n      <td>B</td>\n      <td>17</td>\n      <td>3</td>\n      <td>Male</td>\n      <td>150480</td>\n    </tr>\n    <tr>\n      <th>16</th>\n      <td>AsstProf</td>\n      <td>B</td>\n      <td>8</td>\n      <td>3</td>\n      <td>Male</td>\n      <td>75044</td>\n    </tr>\n    <tr>\n      <th>17</th>\n      <td>AsstProf</td>\n      <td>B</td>\n      <td>4</td>\n      <td>0</td>\n      <td>Male</td>\n      <td>92000</td>\n    </tr>\n    <tr>\n      <th>18</th>\n      <td>Prof</td>\n      <td>A</td>\n      <td>19</td>\n      <td>7</td>\n      <td>Male</td>\n      <td>107300</td>\n    </tr>\n    <tr>\n      <th>19</th>\n      <td>Prof</td>\n      <td>A</td>\n      <td>29</td>\n      <td>27</td>\n      <td>Male</td>\n      <td>150500</td>\n    </tr>\n    <tr>\n      <th>20</th>\n      <td>AsstProf</td>\n      <td>B</td>\n      <td>4</td>\n      <td>4</td>\n      <td>Male</td>\n      <td>92000</td>\n    </tr>\n    <tr>\n      <th>21</th>\n      <td>Prof</td>\n      <td>A</td>\n      <td>33</td>\n      <td>30</td>\n      <td>Male</td>\n      <td>103106</td>\n    </tr>\n    <tr>\n      <th>22</th>\n      <td>AsstProf</td>\n      <td>A</td>\n      <td>4</td>\n      <td>2</td>\n      <td>Male</td>\n      <td>73000</td>\n    </tr>\n    <tr>\n      <th>23</th>\n      <td>AsstProf</td>\n      <td>A</td>\n      <td>2</td>\n      <td>0</td>\n      <td>Male</td>\n      <td>85000</td>\n    </tr>\n    <tr>\n      <th>24</th>\n      <td>Prof</td>\n      <td>A</td>\n      <td>30</td>\n      <td>23</td>\n      <td>Male</td>\n      <td>91100</td>\n    </tr>\n    <tr>\n      <th>25</th>\n      <td>Prof</td>\n      <td>B</td>\n      <td>35</td>\n      <td>31</td>\n      <td>Male</td>\n      <td>99418</td>\n    </tr>\n    <tr>\n      <th>26</th>\n      <td>Prof</td>\n      <td>A</td>\n      <td>38</td>\n      <td>19</td>\n      <td>Male</td>\n      <td>148750</td>\n    </tr>\n    <tr>\n      <th>27</th>\n      <td>Prof</td>\n      <td>A</td>\n      <td>45</td>\n      <td>43</td>\n      <td>Male</td>\n      <td>155865</td>\n    </tr>\n    <tr>\n      <th>28</th>\n      <td>AsstProf</td>\n      <td>B</td>\n      <td>7</td>\n      <td>2</td>\n      <td>Male</td>\n      <td>91300</td>\n    </tr>\n    <tr>\n      <th>29</th>\n      <td>Prof</td>\n      <td>B</td>\n      <td>21</td>\n      <td>20</td>\n      <td>Male</td>\n      <td>123683</td>\n    </tr>\n    <tr>\n      <th>30</th>\n      <td>AssocProf</td>\n      <td>B</td>\n      <td>9</td>\n      <td>7</td>\n      <td>Male</td>\n      <td>107008</td>\n    </tr>\n    <tr>\n      <th>31</th>\n      <td>Prof</td>\n      <td>B</td>\n      <td>22</td>\n      <td>21</td>\n      <td>Male</td>\n      <td>155750</td>\n    </tr>\n    <tr>\n      <th>32</th>\n      <td>Prof</td>\n      <td>A</td>\n      <td>27</td>\n      <td>19</td>\n      <td>Male</td>\n      <td>103275</td>\n    </tr>\n    <tr>\n      <th>33</th>\n      <td>Prof</td>\n      <td>B</td>\n      <td>18</td>\n      <td>18</td>\n      <td>Male</td>\n      <td>120000</td>\n    </tr>\n    <tr>\n      <th>34</th>\n      <td>AssocProf</td>\n      <td>B</td>\n      <td>12</td>\n      <td>8</td>\n      <td>Male</td>\n      <td>119800</td>\n    </tr>\n    <tr>\n      <th>35</th>\n      <td>Prof</td>\n      <td>B</td>\n      <td>28</td>\n      <td>23</td>\n      <td>Male</td>\n      <td>126933</td>\n    </tr>\n    <tr>\n      <th>36</th>\n      <td>Prof</td>\n      <td>B</td>\n      <td>45</td>\n      <td>45</td>\n      <td>Male</td>\n      <td>146856</td>\n    </tr>\n    <tr>\n      <th>37</th>\n      <td>Prof</td>\n      <td>A</td>\n      <td>20</td>\n      <td>8</td>\n      <td>Male</td>\n      <td>102000</td>\n    </tr>\n    <tr>\n      <th>38</th>\n      <td>AsstProf</td>\n      <td>B</td>\n      <td>4</td>\n      <td>3</td>\n      <td>Male</td>\n      <td>91000</td>\n    </tr>\n    <tr>\n      <th>39</th>\n      <td>Prof</td>\n      <td>B</td>\n      <td>18</td>\n      <td>18</td>\n      <td>Female</td>\n      <td>129000</td>\n    </tr>\n    <tr>\n      <th>40</th>\n      <td>Prof</td>\n      <td>A</td>\n      <td>39</td>\n      <td>36</td>\n      <td>Female</td>\n      <td>137000</td>\n    </tr>\n    <tr>\n      <th>41</th>\n      <td>AssocProf</td>\n      <td>A</td>\n      <td>13</td>\n      <td>8</td>\n      <td>Female</td>\n      <td>74830</td>\n    </tr>\n    <tr>\n      <th>42</th>\n      <td>AsstProf</td>\n      <td>B</td>\n      <td>4</td>\n      <td>2</td>\n      <td>Female</td>\n      <td>80225</td>\n    </tr>\n    <tr>\n      <th>43</th>\n      <td>AsstProf</td>\n      <td>B</td>\n      <td>5</td>\n      <td>0</td>\n      <td>Female</td>\n      <td>77000</td>\n    </tr>\n    <tr>\n      <th>44</th>\n      <td>Prof</td>\n      <td>B</td>\n      <td>23</td>\n      <td>19</td>\n      <td>Female</td>\n      <td>151768</td>\n    </tr>\n    <tr>\n      <th>45</th>\n      <td>Prof</td>\n      <td>B</td>\n      <td>25</td>\n      <td>25</td>\n      <td>Female</td>\n      <td>140096</td>\n    </tr>\n    <tr>\n      <th>46</th>\n      <td>AsstProf</td>\n      <td>B</td>\n      <td>11</td>\n      <td>3</td>\n      <td>Female</td>\n      <td>74692</td>\n    </tr>\n    <tr>\n      <th>47</th>\n      <td>AssocProf</td>\n      <td>B</td>\n      <td>11</td>\n      <td>11</td>\n      <td>Female</td>\n      <td>103613</td>\n    </tr>\n    <tr>\n      <th>48</th>\n      <td>Prof</td>\n      <td>B</td>\n      <td>17</td>\n      <td>17</td>\n      <td>Female</td>\n      <td>111512</td>\n    </tr>\n    <tr>\n      <th>49</th>\n      <td>Prof</td>\n      <td>B</td>\n      <td>17</td>\n      <td>18</td>\n      <td>Female</td>\n      <td>122960</td>\n    </tr>\n    <tr>\n      <th>50</th>\n      <td>AsstProf</td>\n      <td>B</td>\n      <td>10</td>\n      <td>5</td>\n      <td>Female</td>\n      <td>97032</td>\n    </tr>\n    <tr>\n      <th>51</th>\n      <td>Prof</td>\n      <td>B</td>\n      <td>20</td>\n      <td>14</td>\n      <td>Female</td>\n      <td>127512</td>\n    </tr>\n    <tr>\n      <th>52</th>\n      <td>Prof</td>\n      <td>A</td>\n      <td>12</td>\n      <td>0</td>\n      <td>Female</td>\n      <td>105000</td>\n    </tr>\n    <tr>\n      <th>53</th>\n      <td>AsstProf</td>\n      <td>A</td>\n      <td>5</td>\n      <td>3</td>\n      <td>Female</td>\n      <td>73500</td>\n    </tr>\n    <tr>\n      <th>54</th>\n      <td>AssocProf</td>\n      <td>A</td>\n      <td>25</td>\n      <td>22</td>\n      <td>Female</td>\n      <td>62884</td>\n    </tr>\n    <tr>\n      <th>55</th>\n      <td>AsstProf</td>\n      <td>A</td>\n      <td>2</td>\n      <td>0</td>\n      <td>Female</td>\n      <td>72500</td>\n    </tr>\n    <tr>\n      <th>56</th>\n      <td>AssocProf</td>\n      <td>A</td>\n      <td>10</td>\n      <td>8</td>\n      <td>Female</td>\n      <td>77500</td>\n    </tr>\n    <tr>\n      <th>57</th>\n      <td>AsstProf</td>\n      <td>A</td>\n      <td>3</td>\n      <td>1</td>\n      <td>Female</td>\n      <td>72500</td>\n    </tr>\n    <tr>\n      <th>58</th>\n      <td>Prof</td>\n      <td>B</td>\n      <td>36</td>\n      <td>26</td>\n      <td>Female</td>\n      <td>144651</td>\n    </tr>\n    <tr>\n      <th>59</th>\n      <td>AssocProf</td>\n      <td>B</td>\n      <td>12</td>\n      <td>10</td>\n      <td>Female</td>\n      <td>103994</td>\n    </tr>\n    <tr>\n      <th>60</th>\n      <td>AsstProf</td>\n      <td>B</td>\n      <td>3</td>\n      <td>3</td>\n      <td>Female</td>\n      <td>92000</td>\n    </tr>\n    <tr>\n      <th>61</th>\n      <td>AssocProf</td>\n      <td>B</td>\n      <td>13</td>\n      <td>10</td>\n      <td>Female</td>\n      <td>103750</td>\n    </tr>\n    <tr>\n      <th>62</th>\n      <td>AssocProf</td>\n      <td>B</td>\n      <td>14</td>\n      <td>7</td>\n      <td>Female</td>\n      <td>109650</td>\n    </tr>\n    <tr>\n      <th>63</th>\n      <td>Prof</td>\n      <td>A</td>\n      <td>29</td>\n      <td>27</td>\n      <td>Female</td>\n      <td>91000</td>\n    </tr>\n    <tr>\n      <th>64</th>\n      <td>AssocProf</td>\n      <td>A</td>\n      <td>26</td>\n      <td>24</td>\n      <td>Female</td>\n      <td>73300</td>\n    </tr>\n    <tr>\n      <th>65</th>\n      <td>Prof</td>\n      <td>A</td>\n      <td>36</td>\n      <td>19</td>\n      <td>Female</td>\n      <td>117555</td>\n    </tr>\n    <tr>\n      <th>66</th>\n      <td>AsstProf</td>\n      <td>A</td>\n      <td>7</td>\n      <td>6</td>\n      <td>Female</td>\n      <td>63100</td>\n    </tr>\n    <tr>\n      <th>67</th>\n      <td>Prof</td>\n      <td>A</td>\n      <td>17</td>\n      <td>11</td>\n      <td>Female</td>\n      <td>90450</td>\n    </tr>\n    <tr>\n      <th>68</th>\n      <td>AsstProf</td>\n      <td>A</td>\n      <td>4</td>\n      <td>2</td>\n      <td>Female</td>\n      <td>77500</td>\n    </tr>\n    <tr>\n      <th>69</th>\n      <td>Prof</td>\n      <td>A</td>\n      <td>28</td>\n      <td>7</td>\n      <td>Female</td>\n      <td>116450</td>\n    </tr>\n    <tr>\n      <th>70</th>\n      <td>AsstProf</td>\n      <td>A</td>\n      <td>8</td>\n      <td>3</td>\n      <td>Female</td>\n      <td>78500</td>\n    </tr>\n    <tr>\n      <th>71</th>\n      <td>AssocProf</td>\n      <td>B</td>\n      <td>12</td>\n      <td>9</td>\n      <td>Female</td>\n      <td>71065</td>\n    </tr>\n    <tr>\n      <th>72</th>\n      <td>Prof</td>\n      <td>B</td>\n      <td>24</td>\n      <td>15</td>\n      <td>Female</td>\n      <td>161101</td>\n    </tr>\n    <tr>\n      <th>73</th>\n      <td>Prof</td>\n      <td>B</td>\n      <td>18</td>\n      <td>10</td>\n      <td>Female</td>\n      <td>105450</td>\n    </tr>\n    <tr>\n      <th>74</th>\n      <td>AssocProf</td>\n      <td>B</td>\n      <td>19</td>\n      <td>6</td>\n      <td>Female</td>\n      <td>104542</td>\n    </tr>\n    <tr>\n      <th>75</th>\n      <td>Prof</td>\n      <td>B</td>\n      <td>17</td>\n      <td>17</td>\n      <td>Female</td>\n      <td>124312</td>\n    </tr>\n    <tr>\n      <th>76</th>\n      <td>Prof</td>\n      <td>A</td>\n      <td>28</td>\n      <td>14</td>\n      <td>Female</td>\n      <td>109954</td>\n    </tr>\n    <tr>\n      <th>77</th>\n      <td>Prof</td>\n      <td>A</td>\n      <td>23</td>\n      <td>15</td>\n      <td>Female</td>\n      <td>109646</td>\n    </tr>\n  </tbody>\n</table>\n</div>",
            "text/plain": "         RANK discipline  phd  service     sex  salary\n0        Prof          B   56       49    Male  186960\n1        Prof          A   12        6    Male   93000\n2        Prof          A   23       20    Male  110515\n3        Prof          A   40       31    Male  131205\n4        Prof          B   20       18    Male  104800\n5        Prof          A   20       20    Male  122400\n6   AssocProf          A   20       17    Male   81285\n7        Prof          A   18       18    Male  126300\n8        Prof          A   29       19    Male   94350\n9        Prof          A   51       51    Male   57800\n10       Prof          B   39       33    Male  128250\n11       Prof          B   23       23    Male  134778\n12   AsstProf          B    1        0    Male   88000\n13       Prof          B   35       33    Male  162200\n14       Prof          B   25       19    Male  153750\n15       Prof          B   17        3    Male  150480\n16   AsstProf          B    8        3    Male   75044\n17   AsstProf          B    4        0    Male   92000\n18       Prof          A   19        7    Male  107300\n19       Prof          A   29       27    Male  150500\n20   AsstProf          B    4        4    Male   92000\n21       Prof          A   33       30    Male  103106\n22   AsstProf          A    4        2    Male   73000\n23   AsstProf          A    2        0    Male   85000\n24       Prof          A   30       23    Male   91100\n25       Prof          B   35       31    Male   99418\n26       Prof          A   38       19    Male  148750\n27       Prof          A   45       43    Male  155865\n28   AsstProf          B    7        2    Male   91300\n29       Prof          B   21       20    Male  123683\n30  AssocProf          B    9        7    Male  107008\n31       Prof          B   22       21    Male  155750\n32       Prof          A   27       19    Male  103275\n33       Prof          B   18       18    Male  120000\n34  AssocProf          B   12        8    Male  119800\n35       Prof          B   28       23    Male  126933\n36       Prof          B   45       45    Male  146856\n37       Prof          A   20        8    Male  102000\n38   AsstProf          B    4        3    Male   91000\n39       Prof          B   18       18  Female  129000\n40       Prof          A   39       36  Female  137000\n41  AssocProf          A   13        8  Female   74830\n42   AsstProf          B    4        2  Female   80225\n43   AsstProf          B    5        0  Female   77000\n44       Prof          B   23       19  Female  151768\n45       Prof          B   25       25  Female  140096\n46   AsstProf          B   11        3  Female   74692\n47  AssocProf          B   11       11  Female  103613\n48       Prof          B   17       17  Female  111512\n49       Prof          B   17       18  Female  122960\n50   AsstProf          B   10        5  Female   97032\n51       Prof          B   20       14  Female  127512\n52       Prof          A   12        0  Female  105000\n53   AsstProf          A    5        3  Female   73500\n54  AssocProf          A   25       22  Female   62884\n55   AsstProf          A    2        0  Female   72500\n56  AssocProf          A   10        8  Female   77500\n57   AsstProf          A    3        1  Female   72500\n58       Prof          B   36       26  Female  144651\n59  AssocProf          B   12       10  Female  103994\n60   AsstProf          B    3        3  Female   92000\n61  AssocProf          B   13       10  Female  103750\n62  AssocProf          B   14        7  Female  109650\n63       Prof          A   29       27  Female   91000\n64  AssocProf          A   26       24  Female   73300\n65       Prof          A   36       19  Female  117555\n66   AsstProf          A    7        6  Female   63100\n67       Prof          A   17       11  Female   90450\n68   AsstProf          A    4        2  Female   77500\n69       Prof          A   28        7  Female  116450\n70   AsstProf          A    8        3  Female   78500\n71  AssocProf          B   12        9  Female   71065\n72       Prof          B   24       15  Female  161101\n73       Prof          B   18       10  Female  105450\n74  AssocProf          B   19        6  Female  104542\n75       Prof          B   17       17  Female  124312\n76       Prof          A   28       14  Female  109954\n77       Prof          A   23       15  Female  109646"
          },
          "execution_count": 40,
          "metadata": {},
          "output_type": "execute_result"
        }
      ]
    },
    {
      "metadata": {
        "trusted": false
      },
      "id": "4d05887a",
      "cell_type": "code",
      "source": "df.head()",
      "execution_count": 41,
      "outputs": [
        {
          "data": {
            "text/html": "<div>\n<style scoped>\n    .dataframe tbody tr th:only-of-type {\n        vertical-align: middle;\n    }\n\n    .dataframe tbody tr th {\n        vertical-align: top;\n    }\n\n    .dataframe thead th {\n        text-align: right;\n    }\n</style>\n<table border=\"1\" class=\"dataframe\">\n  <thead>\n    <tr style=\"text-align: right;\">\n      <th></th>\n      <th>rank</th>\n      <th>discipline</th>\n      <th>phd</th>\n      <th>service</th>\n      <th>sex</th>\n      <th>salary</th>\n    </tr>\n  </thead>\n  <tbody>\n    <tr>\n      <th>0</th>\n      <td>Prof</td>\n      <td>B</td>\n      <td>56</td>\n      <td>49</td>\n      <td>Male</td>\n      <td>186960</td>\n    </tr>\n    <tr>\n      <th>1</th>\n      <td>Prof</td>\n      <td>A</td>\n      <td>12</td>\n      <td>6</td>\n      <td>Male</td>\n      <td>93000</td>\n    </tr>\n    <tr>\n      <th>2</th>\n      <td>Prof</td>\n      <td>A</td>\n      <td>23</td>\n      <td>20</td>\n      <td>Male</td>\n      <td>110515</td>\n    </tr>\n    <tr>\n      <th>3</th>\n      <td>Prof</td>\n      <td>A</td>\n      <td>40</td>\n      <td>31</td>\n      <td>Male</td>\n      <td>131205</td>\n    </tr>\n    <tr>\n      <th>4</th>\n      <td>Prof</td>\n      <td>B</td>\n      <td>20</td>\n      <td>18</td>\n      <td>Male</td>\n      <td>104800</td>\n    </tr>\n  </tbody>\n</table>\n</div>",
            "text/plain": "   rank discipline  phd  service   sex  salary\n0  Prof          B   56       49  Male  186960\n1  Prof          A   12        6  Male   93000\n2  Prof          A   23       20  Male  110515\n3  Prof          A   40       31  Male  131205\n4  Prof          B   20       18  Male  104800"
          },
          "execution_count": 41,
          "metadata": {},
          "output_type": "execute_result"
        }
      ]
    },
    {
      "metadata": {
        "trusted": false
      },
      "id": "e8ae7527",
      "cell_type": "code",
      "source": "df.rename(columns={'discipline':'DISCIPLINE','phd': 'PHD'})",
      "execution_count": 42,
      "outputs": [
        {
          "data": {
            "text/html": "<div>\n<style scoped>\n    .dataframe tbody tr th:only-of-type {\n        vertical-align: middle;\n    }\n\n    .dataframe tbody tr th {\n        vertical-align: top;\n    }\n\n    .dataframe thead th {\n        text-align: right;\n    }\n</style>\n<table border=\"1\" class=\"dataframe\">\n  <thead>\n    <tr style=\"text-align: right;\">\n      <th></th>\n      <th>rank</th>\n      <th>DISCIPLINE</th>\n      <th>PHD</th>\n      <th>service</th>\n      <th>sex</th>\n      <th>salary</th>\n    </tr>\n  </thead>\n  <tbody>\n    <tr>\n      <th>0</th>\n      <td>Prof</td>\n      <td>B</td>\n      <td>56</td>\n      <td>49</td>\n      <td>Male</td>\n      <td>186960</td>\n    </tr>\n    <tr>\n      <th>1</th>\n      <td>Prof</td>\n      <td>A</td>\n      <td>12</td>\n      <td>6</td>\n      <td>Male</td>\n      <td>93000</td>\n    </tr>\n    <tr>\n      <th>2</th>\n      <td>Prof</td>\n      <td>A</td>\n      <td>23</td>\n      <td>20</td>\n      <td>Male</td>\n      <td>110515</td>\n    </tr>\n    <tr>\n      <th>3</th>\n      <td>Prof</td>\n      <td>A</td>\n      <td>40</td>\n      <td>31</td>\n      <td>Male</td>\n      <td>131205</td>\n    </tr>\n    <tr>\n      <th>4</th>\n      <td>Prof</td>\n      <td>B</td>\n      <td>20</td>\n      <td>18</td>\n      <td>Male</td>\n      <td>104800</td>\n    </tr>\n    <tr>\n      <th>5</th>\n      <td>Prof</td>\n      <td>A</td>\n      <td>20</td>\n      <td>20</td>\n      <td>Male</td>\n      <td>122400</td>\n    </tr>\n    <tr>\n      <th>6</th>\n      <td>AssocProf</td>\n      <td>A</td>\n      <td>20</td>\n      <td>17</td>\n      <td>Male</td>\n      <td>81285</td>\n    </tr>\n    <tr>\n      <th>7</th>\n      <td>Prof</td>\n      <td>A</td>\n      <td>18</td>\n      <td>18</td>\n      <td>Male</td>\n      <td>126300</td>\n    </tr>\n    <tr>\n      <th>8</th>\n      <td>Prof</td>\n      <td>A</td>\n      <td>29</td>\n      <td>19</td>\n      <td>Male</td>\n      <td>94350</td>\n    </tr>\n    <tr>\n      <th>9</th>\n      <td>Prof</td>\n      <td>A</td>\n      <td>51</td>\n      <td>51</td>\n      <td>Male</td>\n      <td>57800</td>\n    </tr>\n    <tr>\n      <th>10</th>\n      <td>Prof</td>\n      <td>B</td>\n      <td>39</td>\n      <td>33</td>\n      <td>Male</td>\n      <td>128250</td>\n    </tr>\n    <tr>\n      <th>11</th>\n      <td>Prof</td>\n      <td>B</td>\n      <td>23</td>\n      <td>23</td>\n      <td>Male</td>\n      <td>134778</td>\n    </tr>\n    <tr>\n      <th>12</th>\n      <td>AsstProf</td>\n      <td>B</td>\n      <td>1</td>\n      <td>0</td>\n      <td>Male</td>\n      <td>88000</td>\n    </tr>\n    <tr>\n      <th>13</th>\n      <td>Prof</td>\n      <td>B</td>\n      <td>35</td>\n      <td>33</td>\n      <td>Male</td>\n      <td>162200</td>\n    </tr>\n    <tr>\n      <th>14</th>\n      <td>Prof</td>\n      <td>B</td>\n      <td>25</td>\n      <td>19</td>\n      <td>Male</td>\n      <td>153750</td>\n    </tr>\n    <tr>\n      <th>15</th>\n      <td>Prof</td>\n      <td>B</td>\n      <td>17</td>\n      <td>3</td>\n      <td>Male</td>\n      <td>150480</td>\n    </tr>\n    <tr>\n      <th>16</th>\n      <td>AsstProf</td>\n      <td>B</td>\n      <td>8</td>\n      <td>3</td>\n      <td>Male</td>\n      <td>75044</td>\n    </tr>\n    <tr>\n      <th>17</th>\n      <td>AsstProf</td>\n      <td>B</td>\n      <td>4</td>\n      <td>0</td>\n      <td>Male</td>\n      <td>92000</td>\n    </tr>\n    <tr>\n      <th>18</th>\n      <td>Prof</td>\n      <td>A</td>\n      <td>19</td>\n      <td>7</td>\n      <td>Male</td>\n      <td>107300</td>\n    </tr>\n    <tr>\n      <th>19</th>\n      <td>Prof</td>\n      <td>A</td>\n      <td>29</td>\n      <td>27</td>\n      <td>Male</td>\n      <td>150500</td>\n    </tr>\n    <tr>\n      <th>20</th>\n      <td>AsstProf</td>\n      <td>B</td>\n      <td>4</td>\n      <td>4</td>\n      <td>Male</td>\n      <td>92000</td>\n    </tr>\n    <tr>\n      <th>21</th>\n      <td>Prof</td>\n      <td>A</td>\n      <td>33</td>\n      <td>30</td>\n      <td>Male</td>\n      <td>103106</td>\n    </tr>\n    <tr>\n      <th>22</th>\n      <td>AsstProf</td>\n      <td>A</td>\n      <td>4</td>\n      <td>2</td>\n      <td>Male</td>\n      <td>73000</td>\n    </tr>\n    <tr>\n      <th>23</th>\n      <td>AsstProf</td>\n      <td>A</td>\n      <td>2</td>\n      <td>0</td>\n      <td>Male</td>\n      <td>85000</td>\n    </tr>\n    <tr>\n      <th>24</th>\n      <td>Prof</td>\n      <td>A</td>\n      <td>30</td>\n      <td>23</td>\n      <td>Male</td>\n      <td>91100</td>\n    </tr>\n    <tr>\n      <th>25</th>\n      <td>Prof</td>\n      <td>B</td>\n      <td>35</td>\n      <td>31</td>\n      <td>Male</td>\n      <td>99418</td>\n    </tr>\n    <tr>\n      <th>26</th>\n      <td>Prof</td>\n      <td>A</td>\n      <td>38</td>\n      <td>19</td>\n      <td>Male</td>\n      <td>148750</td>\n    </tr>\n    <tr>\n      <th>27</th>\n      <td>Prof</td>\n      <td>A</td>\n      <td>45</td>\n      <td>43</td>\n      <td>Male</td>\n      <td>155865</td>\n    </tr>\n    <tr>\n      <th>28</th>\n      <td>AsstProf</td>\n      <td>B</td>\n      <td>7</td>\n      <td>2</td>\n      <td>Male</td>\n      <td>91300</td>\n    </tr>\n    <tr>\n      <th>29</th>\n      <td>Prof</td>\n      <td>B</td>\n      <td>21</td>\n      <td>20</td>\n      <td>Male</td>\n      <td>123683</td>\n    </tr>\n    <tr>\n      <th>30</th>\n      <td>AssocProf</td>\n      <td>B</td>\n      <td>9</td>\n      <td>7</td>\n      <td>Male</td>\n      <td>107008</td>\n    </tr>\n    <tr>\n      <th>31</th>\n      <td>Prof</td>\n      <td>B</td>\n      <td>22</td>\n      <td>21</td>\n      <td>Male</td>\n      <td>155750</td>\n    </tr>\n    <tr>\n      <th>32</th>\n      <td>Prof</td>\n      <td>A</td>\n      <td>27</td>\n      <td>19</td>\n      <td>Male</td>\n      <td>103275</td>\n    </tr>\n    <tr>\n      <th>33</th>\n      <td>Prof</td>\n      <td>B</td>\n      <td>18</td>\n      <td>18</td>\n      <td>Male</td>\n      <td>120000</td>\n    </tr>\n    <tr>\n      <th>34</th>\n      <td>AssocProf</td>\n      <td>B</td>\n      <td>12</td>\n      <td>8</td>\n      <td>Male</td>\n      <td>119800</td>\n    </tr>\n    <tr>\n      <th>35</th>\n      <td>Prof</td>\n      <td>B</td>\n      <td>28</td>\n      <td>23</td>\n      <td>Male</td>\n      <td>126933</td>\n    </tr>\n    <tr>\n      <th>36</th>\n      <td>Prof</td>\n      <td>B</td>\n      <td>45</td>\n      <td>45</td>\n      <td>Male</td>\n      <td>146856</td>\n    </tr>\n    <tr>\n      <th>37</th>\n      <td>Prof</td>\n      <td>A</td>\n      <td>20</td>\n      <td>8</td>\n      <td>Male</td>\n      <td>102000</td>\n    </tr>\n    <tr>\n      <th>38</th>\n      <td>AsstProf</td>\n      <td>B</td>\n      <td>4</td>\n      <td>3</td>\n      <td>Male</td>\n      <td>91000</td>\n    </tr>\n    <tr>\n      <th>39</th>\n      <td>Prof</td>\n      <td>B</td>\n      <td>18</td>\n      <td>18</td>\n      <td>Female</td>\n      <td>129000</td>\n    </tr>\n    <tr>\n      <th>40</th>\n      <td>Prof</td>\n      <td>A</td>\n      <td>39</td>\n      <td>36</td>\n      <td>Female</td>\n      <td>137000</td>\n    </tr>\n    <tr>\n      <th>41</th>\n      <td>AssocProf</td>\n      <td>A</td>\n      <td>13</td>\n      <td>8</td>\n      <td>Female</td>\n      <td>74830</td>\n    </tr>\n    <tr>\n      <th>42</th>\n      <td>AsstProf</td>\n      <td>B</td>\n      <td>4</td>\n      <td>2</td>\n      <td>Female</td>\n      <td>80225</td>\n    </tr>\n    <tr>\n      <th>43</th>\n      <td>AsstProf</td>\n      <td>B</td>\n      <td>5</td>\n      <td>0</td>\n      <td>Female</td>\n      <td>77000</td>\n    </tr>\n    <tr>\n      <th>44</th>\n      <td>Prof</td>\n      <td>B</td>\n      <td>23</td>\n      <td>19</td>\n      <td>Female</td>\n      <td>151768</td>\n    </tr>\n    <tr>\n      <th>45</th>\n      <td>Prof</td>\n      <td>B</td>\n      <td>25</td>\n      <td>25</td>\n      <td>Female</td>\n      <td>140096</td>\n    </tr>\n    <tr>\n      <th>46</th>\n      <td>AsstProf</td>\n      <td>B</td>\n      <td>11</td>\n      <td>3</td>\n      <td>Female</td>\n      <td>74692</td>\n    </tr>\n    <tr>\n      <th>47</th>\n      <td>AssocProf</td>\n      <td>B</td>\n      <td>11</td>\n      <td>11</td>\n      <td>Female</td>\n      <td>103613</td>\n    </tr>\n    <tr>\n      <th>48</th>\n      <td>Prof</td>\n      <td>B</td>\n      <td>17</td>\n      <td>17</td>\n      <td>Female</td>\n      <td>111512</td>\n    </tr>\n    <tr>\n      <th>49</th>\n      <td>Prof</td>\n      <td>B</td>\n      <td>17</td>\n      <td>18</td>\n      <td>Female</td>\n      <td>122960</td>\n    </tr>\n    <tr>\n      <th>50</th>\n      <td>AsstProf</td>\n      <td>B</td>\n      <td>10</td>\n      <td>5</td>\n      <td>Female</td>\n      <td>97032</td>\n    </tr>\n    <tr>\n      <th>51</th>\n      <td>Prof</td>\n      <td>B</td>\n      <td>20</td>\n      <td>14</td>\n      <td>Female</td>\n      <td>127512</td>\n    </tr>\n    <tr>\n      <th>52</th>\n      <td>Prof</td>\n      <td>A</td>\n      <td>12</td>\n      <td>0</td>\n      <td>Female</td>\n      <td>105000</td>\n    </tr>\n    <tr>\n      <th>53</th>\n      <td>AsstProf</td>\n      <td>A</td>\n      <td>5</td>\n      <td>3</td>\n      <td>Female</td>\n      <td>73500</td>\n    </tr>\n    <tr>\n      <th>54</th>\n      <td>AssocProf</td>\n      <td>A</td>\n      <td>25</td>\n      <td>22</td>\n      <td>Female</td>\n      <td>62884</td>\n    </tr>\n    <tr>\n      <th>55</th>\n      <td>AsstProf</td>\n      <td>A</td>\n      <td>2</td>\n      <td>0</td>\n      <td>Female</td>\n      <td>72500</td>\n    </tr>\n    <tr>\n      <th>56</th>\n      <td>AssocProf</td>\n      <td>A</td>\n      <td>10</td>\n      <td>8</td>\n      <td>Female</td>\n      <td>77500</td>\n    </tr>\n    <tr>\n      <th>57</th>\n      <td>AsstProf</td>\n      <td>A</td>\n      <td>3</td>\n      <td>1</td>\n      <td>Female</td>\n      <td>72500</td>\n    </tr>\n    <tr>\n      <th>58</th>\n      <td>Prof</td>\n      <td>B</td>\n      <td>36</td>\n      <td>26</td>\n      <td>Female</td>\n      <td>144651</td>\n    </tr>\n    <tr>\n      <th>59</th>\n      <td>AssocProf</td>\n      <td>B</td>\n      <td>12</td>\n      <td>10</td>\n      <td>Female</td>\n      <td>103994</td>\n    </tr>\n    <tr>\n      <th>60</th>\n      <td>AsstProf</td>\n      <td>B</td>\n      <td>3</td>\n      <td>3</td>\n      <td>Female</td>\n      <td>92000</td>\n    </tr>\n    <tr>\n      <th>61</th>\n      <td>AssocProf</td>\n      <td>B</td>\n      <td>13</td>\n      <td>10</td>\n      <td>Female</td>\n      <td>103750</td>\n    </tr>\n    <tr>\n      <th>62</th>\n      <td>AssocProf</td>\n      <td>B</td>\n      <td>14</td>\n      <td>7</td>\n      <td>Female</td>\n      <td>109650</td>\n    </tr>\n    <tr>\n      <th>63</th>\n      <td>Prof</td>\n      <td>A</td>\n      <td>29</td>\n      <td>27</td>\n      <td>Female</td>\n      <td>91000</td>\n    </tr>\n    <tr>\n      <th>64</th>\n      <td>AssocProf</td>\n      <td>A</td>\n      <td>26</td>\n      <td>24</td>\n      <td>Female</td>\n      <td>73300</td>\n    </tr>\n    <tr>\n      <th>65</th>\n      <td>Prof</td>\n      <td>A</td>\n      <td>36</td>\n      <td>19</td>\n      <td>Female</td>\n      <td>117555</td>\n    </tr>\n    <tr>\n      <th>66</th>\n      <td>AsstProf</td>\n      <td>A</td>\n      <td>7</td>\n      <td>6</td>\n      <td>Female</td>\n      <td>63100</td>\n    </tr>\n    <tr>\n      <th>67</th>\n      <td>Prof</td>\n      <td>A</td>\n      <td>17</td>\n      <td>11</td>\n      <td>Female</td>\n      <td>90450</td>\n    </tr>\n    <tr>\n      <th>68</th>\n      <td>AsstProf</td>\n      <td>A</td>\n      <td>4</td>\n      <td>2</td>\n      <td>Female</td>\n      <td>77500</td>\n    </tr>\n    <tr>\n      <th>69</th>\n      <td>Prof</td>\n      <td>A</td>\n      <td>28</td>\n      <td>7</td>\n      <td>Female</td>\n      <td>116450</td>\n    </tr>\n    <tr>\n      <th>70</th>\n      <td>AsstProf</td>\n      <td>A</td>\n      <td>8</td>\n      <td>3</td>\n      <td>Female</td>\n      <td>78500</td>\n    </tr>\n    <tr>\n      <th>71</th>\n      <td>AssocProf</td>\n      <td>B</td>\n      <td>12</td>\n      <td>9</td>\n      <td>Female</td>\n      <td>71065</td>\n    </tr>\n    <tr>\n      <th>72</th>\n      <td>Prof</td>\n      <td>B</td>\n      <td>24</td>\n      <td>15</td>\n      <td>Female</td>\n      <td>161101</td>\n    </tr>\n    <tr>\n      <th>73</th>\n      <td>Prof</td>\n      <td>B</td>\n      <td>18</td>\n      <td>10</td>\n      <td>Female</td>\n      <td>105450</td>\n    </tr>\n    <tr>\n      <th>74</th>\n      <td>AssocProf</td>\n      <td>B</td>\n      <td>19</td>\n      <td>6</td>\n      <td>Female</td>\n      <td>104542</td>\n    </tr>\n    <tr>\n      <th>75</th>\n      <td>Prof</td>\n      <td>B</td>\n      <td>17</td>\n      <td>17</td>\n      <td>Female</td>\n      <td>124312</td>\n    </tr>\n    <tr>\n      <th>76</th>\n      <td>Prof</td>\n      <td>A</td>\n      <td>28</td>\n      <td>14</td>\n      <td>Female</td>\n      <td>109954</td>\n    </tr>\n    <tr>\n      <th>77</th>\n      <td>Prof</td>\n      <td>A</td>\n      <td>23</td>\n      <td>15</td>\n      <td>Female</td>\n      <td>109646</td>\n    </tr>\n  </tbody>\n</table>\n</div>",
            "text/plain": "         rank DISCIPLINE  PHD  service     sex  salary\n0        Prof          B   56       49    Male  186960\n1        Prof          A   12        6    Male   93000\n2        Prof          A   23       20    Male  110515\n3        Prof          A   40       31    Male  131205\n4        Prof          B   20       18    Male  104800\n5        Prof          A   20       20    Male  122400\n6   AssocProf          A   20       17    Male   81285\n7        Prof          A   18       18    Male  126300\n8        Prof          A   29       19    Male   94350\n9        Prof          A   51       51    Male   57800\n10       Prof          B   39       33    Male  128250\n11       Prof          B   23       23    Male  134778\n12   AsstProf          B    1        0    Male   88000\n13       Prof          B   35       33    Male  162200\n14       Prof          B   25       19    Male  153750\n15       Prof          B   17        3    Male  150480\n16   AsstProf          B    8        3    Male   75044\n17   AsstProf          B    4        0    Male   92000\n18       Prof          A   19        7    Male  107300\n19       Prof          A   29       27    Male  150500\n20   AsstProf          B    4        4    Male   92000\n21       Prof          A   33       30    Male  103106\n22   AsstProf          A    4        2    Male   73000\n23   AsstProf          A    2        0    Male   85000\n24       Prof          A   30       23    Male   91100\n25       Prof          B   35       31    Male   99418\n26       Prof          A   38       19    Male  148750\n27       Prof          A   45       43    Male  155865\n28   AsstProf          B    7        2    Male   91300\n29       Prof          B   21       20    Male  123683\n30  AssocProf          B    9        7    Male  107008\n31       Prof          B   22       21    Male  155750\n32       Prof          A   27       19    Male  103275\n33       Prof          B   18       18    Male  120000\n34  AssocProf          B   12        8    Male  119800\n35       Prof          B   28       23    Male  126933\n36       Prof          B   45       45    Male  146856\n37       Prof          A   20        8    Male  102000\n38   AsstProf          B    4        3    Male   91000\n39       Prof          B   18       18  Female  129000\n40       Prof          A   39       36  Female  137000\n41  AssocProf          A   13        8  Female   74830\n42   AsstProf          B    4        2  Female   80225\n43   AsstProf          B    5        0  Female   77000\n44       Prof          B   23       19  Female  151768\n45       Prof          B   25       25  Female  140096\n46   AsstProf          B   11        3  Female   74692\n47  AssocProf          B   11       11  Female  103613\n48       Prof          B   17       17  Female  111512\n49       Prof          B   17       18  Female  122960\n50   AsstProf          B   10        5  Female   97032\n51       Prof          B   20       14  Female  127512\n52       Prof          A   12        0  Female  105000\n53   AsstProf          A    5        3  Female   73500\n54  AssocProf          A   25       22  Female   62884\n55   AsstProf          A    2        0  Female   72500\n56  AssocProf          A   10        8  Female   77500\n57   AsstProf          A    3        1  Female   72500\n58       Prof          B   36       26  Female  144651\n59  AssocProf          B   12       10  Female  103994\n60   AsstProf          B    3        3  Female   92000\n61  AssocProf          B   13       10  Female  103750\n62  AssocProf          B   14        7  Female  109650\n63       Prof          A   29       27  Female   91000\n64  AssocProf          A   26       24  Female   73300\n65       Prof          A   36       19  Female  117555\n66   AsstProf          A    7        6  Female   63100\n67       Prof          A   17       11  Female   90450\n68   AsstProf          A    4        2  Female   77500\n69       Prof          A   28        7  Female  116450\n70   AsstProf          A    8        3  Female   78500\n71  AssocProf          B   12        9  Female   71065\n72       Prof          B   24       15  Female  161101\n73       Prof          B   18       10  Female  105450\n74  AssocProf          B   19        6  Female  104542\n75       Prof          B   17       17  Female  124312\n76       Prof          A   28       14  Female  109954\n77       Prof          A   23       15  Female  109646"
          },
          "execution_count": 42,
          "metadata": {},
          "output_type": "execute_result"
        }
      ]
    },
    {
      "metadata": {},
      "id": "371a9cc8",
      "cell_type": "markdown",
      "source": "# Filtering data\n- Filtering is widely used while working with the huge amount of data.\n- Filtering allows us to extract specific data from the huge dataset for analysis.\n- A common operation in data analysis is to filter values based on a condition or multiple conditions. "
    },
    {
      "metadata": {
        "trusted": false
      },
      "id": "4132a915",
      "cell_type": "code",
      "source": "df.head()",
      "execution_count": 43,
      "outputs": [
        {
          "data": {
            "text/html": "<div>\n<style scoped>\n    .dataframe tbody tr th:only-of-type {\n        vertical-align: middle;\n    }\n\n    .dataframe tbody tr th {\n        vertical-align: top;\n    }\n\n    .dataframe thead th {\n        text-align: right;\n    }\n</style>\n<table border=\"1\" class=\"dataframe\">\n  <thead>\n    <tr style=\"text-align: right;\">\n      <th></th>\n      <th>rank</th>\n      <th>discipline</th>\n      <th>phd</th>\n      <th>service</th>\n      <th>sex</th>\n      <th>salary</th>\n    </tr>\n  </thead>\n  <tbody>\n    <tr>\n      <th>0</th>\n      <td>Prof</td>\n      <td>B</td>\n      <td>56</td>\n      <td>49</td>\n      <td>Male</td>\n      <td>186960</td>\n    </tr>\n    <tr>\n      <th>1</th>\n      <td>Prof</td>\n      <td>A</td>\n      <td>12</td>\n      <td>6</td>\n      <td>Male</td>\n      <td>93000</td>\n    </tr>\n    <tr>\n      <th>2</th>\n      <td>Prof</td>\n      <td>A</td>\n      <td>23</td>\n      <td>20</td>\n      <td>Male</td>\n      <td>110515</td>\n    </tr>\n    <tr>\n      <th>3</th>\n      <td>Prof</td>\n      <td>A</td>\n      <td>40</td>\n      <td>31</td>\n      <td>Male</td>\n      <td>131205</td>\n    </tr>\n    <tr>\n      <th>4</th>\n      <td>Prof</td>\n      <td>B</td>\n      <td>20</td>\n      <td>18</td>\n      <td>Male</td>\n      <td>104800</td>\n    </tr>\n  </tbody>\n</table>\n</div>",
            "text/plain": "   rank discipline  phd  service   sex  salary\n0  Prof          B   56       49  Male  186960\n1  Prof          A   12        6  Male   93000\n2  Prof          A   23       20  Male  110515\n3  Prof          A   40       31  Male  131205\n4  Prof          B   20       18  Male  104800"
          },
          "execution_count": 43,
          "metadata": {},
          "output_type": "execute_result"
        }
      ]
    },
    {
      "metadata": {
        "trusted": false
      },
      "id": "48c0513e",
      "cell_type": "code",
      "source": "df['sex'].value_counts()",
      "execution_count": 44,
      "outputs": [
        {
          "data": {
            "text/plain": "Male      39\nFemale    39\nName: sex, dtype: int64"
          },
          "execution_count": 44,
          "metadata": {},
          "output_type": "execute_result"
        }
      ]
    },
    {
      "metadata": {
        "trusted": false
      },
      "id": "190f99a7",
      "cell_type": "code",
      "source": "df[df['salary']>150000]",
      "execution_count": 55,
      "outputs": [
        {
          "data": {
            "text/html": "<div>\n<style scoped>\n    .dataframe tbody tr th:only-of-type {\n        vertical-align: middle;\n    }\n\n    .dataframe tbody tr th {\n        vertical-align: top;\n    }\n\n    .dataframe thead th {\n        text-align: right;\n    }\n</style>\n<table border=\"1\" class=\"dataframe\">\n  <thead>\n    <tr style=\"text-align: right;\">\n      <th></th>\n      <th>rank</th>\n      <th>discipline</th>\n      <th>phd</th>\n      <th>service</th>\n      <th>sex</th>\n      <th>salary</th>\n    </tr>\n  </thead>\n  <tbody>\n    <tr>\n      <th>0</th>\n      <td>Prof</td>\n      <td>B</td>\n      <td>56</td>\n      <td>49</td>\n      <td>Male</td>\n      <td>186960</td>\n    </tr>\n    <tr>\n      <th>13</th>\n      <td>Prof</td>\n      <td>B</td>\n      <td>35</td>\n      <td>33</td>\n      <td>Male</td>\n      <td>162200</td>\n    </tr>\n    <tr>\n      <th>14</th>\n      <td>Prof</td>\n      <td>B</td>\n      <td>25</td>\n      <td>19</td>\n      <td>Male</td>\n      <td>153750</td>\n    </tr>\n    <tr>\n      <th>15</th>\n      <td>Prof</td>\n      <td>B</td>\n      <td>17</td>\n      <td>3</td>\n      <td>Male</td>\n      <td>150480</td>\n    </tr>\n    <tr>\n      <th>19</th>\n      <td>Prof</td>\n      <td>A</td>\n      <td>29</td>\n      <td>27</td>\n      <td>Male</td>\n      <td>150500</td>\n    </tr>\n    <tr>\n      <th>27</th>\n      <td>Prof</td>\n      <td>A</td>\n      <td>45</td>\n      <td>43</td>\n      <td>Male</td>\n      <td>155865</td>\n    </tr>\n    <tr>\n      <th>31</th>\n      <td>Prof</td>\n      <td>B</td>\n      <td>22</td>\n      <td>21</td>\n      <td>Male</td>\n      <td>155750</td>\n    </tr>\n    <tr>\n      <th>44</th>\n      <td>Prof</td>\n      <td>B</td>\n      <td>23</td>\n      <td>19</td>\n      <td>Female</td>\n      <td>151768</td>\n    </tr>\n    <tr>\n      <th>72</th>\n      <td>Prof</td>\n      <td>B</td>\n      <td>24</td>\n      <td>15</td>\n      <td>Female</td>\n      <td>161101</td>\n    </tr>\n  </tbody>\n</table>\n</div>",
            "text/plain": "    rank discipline  phd  service     sex  salary\n0   Prof          B   56       49    Male  186960\n13  Prof          B   35       33    Male  162200\n14  Prof          B   25       19    Male  153750\n15  Prof          B   17        3    Male  150480\n19  Prof          A   29       27    Male  150500\n27  Prof          A   45       43    Male  155865\n31  Prof          B   22       21    Male  155750\n44  Prof          B   23       19  Female  151768\n72  Prof          B   24       15  Female  161101"
          },
          "execution_count": 55,
          "metadata": {},
          "output_type": "execute_result"
        }
      ]
    },
    {
      "metadata": {
        "trusted": false
      },
      "id": "56fa6ae7",
      "cell_type": "code",
      "source": "#Gender is female and salary is greater than 150000",
      "execution_count": 56,
      "outputs": []
    },
    {
      "metadata": {
        "trusted": false
      },
      "id": "00c82939",
      "cell_type": "code",
      "source": "df[(df['sex']=='Female') & (df['salary']>150000)]",
      "execution_count": 59,
      "outputs": [
        {
          "data": {
            "text/html": "<div>\n<style scoped>\n    .dataframe tbody tr th:only-of-type {\n        vertical-align: middle;\n    }\n\n    .dataframe tbody tr th {\n        vertical-align: top;\n    }\n\n    .dataframe thead th {\n        text-align: right;\n    }\n</style>\n<table border=\"1\" class=\"dataframe\">\n  <thead>\n    <tr style=\"text-align: right;\">\n      <th></th>\n      <th>rank</th>\n      <th>discipline</th>\n      <th>phd</th>\n      <th>service</th>\n      <th>sex</th>\n      <th>salary</th>\n    </tr>\n  </thead>\n  <tbody>\n    <tr>\n      <th>44</th>\n      <td>Prof</td>\n      <td>B</td>\n      <td>23</td>\n      <td>19</td>\n      <td>Female</td>\n      <td>151768</td>\n    </tr>\n    <tr>\n      <th>72</th>\n      <td>Prof</td>\n      <td>B</td>\n      <td>24</td>\n      <td>15</td>\n      <td>Female</td>\n      <td>161101</td>\n    </tr>\n  </tbody>\n</table>\n</div>",
            "text/plain": "    rank discipline  phd  service     sex  salary\n44  Prof          B   23       19  Female  151768\n72  Prof          B   24       15  Female  161101"
          },
          "execution_count": 59,
          "metadata": {},
          "output_type": "execute_result"
        }
      ]
    },
    {
      "metadata": {
        "trusted": false
      },
      "id": "ff2a9551",
      "cell_type": "code",
      "source": "df['phd'].mean()",
      "execution_count": 62,
      "outputs": [
        {
          "data": {
            "text/plain": "19.705128205128204"
          },
          "execution_count": 62,
          "metadata": {},
          "output_type": "execute_result"
        }
      ]
    },
    {
      "metadata": {
        "trusted": false
      },
      "id": "9b0d4478",
      "cell_type": "code",
      "source": "#What is the average salary of females?",
      "execution_count": 83,
      "outputs": []
    },
    {
      "metadata": {
        "trusted": false
      },
      "id": "4566b316",
      "cell_type": "code",
      "source": "df[df['sex']=='Female']['salary'].mean()\n\navg_salary_f = df[df['sex']=='Female']['salary'].mean()\n\nprint('The average salary of females is: ',avg_salary_f )",
      "execution_count": 64,
      "outputs": [
        {
          "name": "stdout",
          "output_type": "stream",
          "text": "The average salary of females is:  101002.41025641025\n"
        }
      ]
    },
    {
      "metadata": {
        "trusted": false
      },
      "id": "1e95d046",
      "cell_type": "code",
      "source": "#What is the average salary of rank prof?",
      "execution_count": 84,
      "outputs": []
    },
    {
      "metadata": {
        "trusted": false
      },
      "id": "7425c4fa",
      "cell_type": "code",
      "source": "df[df['rank'] == 'Prof']['salary'].mean()",
      "execution_count": 65,
      "outputs": [
        {
          "data": {
            "text/plain": "123624.80434782608"
          },
          "execution_count": 65,
          "metadata": {},
          "output_type": "execute_result"
        }
      ]
    },
    {
      "metadata": {
        "trusted": false
      },
      "id": "2b665d68",
      "cell_type": "code",
      "source": "#What is the average salary of rank prof and discipline is A?",
      "execution_count": 85,
      "outputs": []
    },
    {
      "metadata": {
        "trusted": false
      },
      "id": "05806d3e",
      "cell_type": "code",
      "source": "df[(df['rank']=='Prof') & (df['discipline'] == 'A')]['salary'].mean()",
      "execution_count": 67,
      "outputs": [
        {
          "data": {
            "text/plain": "111935.69565217392"
          },
          "execution_count": 67,
          "metadata": {},
          "output_type": "execute_result"
        }
      ]
    },
    {
      "metadata": {
        "trusted": false
      },
      "id": "8b07d6ce",
      "cell_type": "code",
      "source": "#What is the average salary of rank prof?",
      "execution_count": 72,
      "outputs": []
    },
    {
      "metadata": {
        "trusted": false
      },
      "id": "d004a845",
      "cell_type": "code",
      "source": "df['rank'].unique()",
      "execution_count": 71,
      "outputs": [
        {
          "data": {
            "text/plain": "array(['Prof', 'AssocProf', 'AsstProf'], dtype=object)"
          },
          "execution_count": 71,
          "metadata": {},
          "output_type": "execute_result"
        }
      ]
    },
    {
      "metadata": {
        "trusted": false
      },
      "id": "433f3901",
      "cell_type": "code",
      "source": "df[df['rank']=='AssocProf']['salary'].mean()",
      "execution_count": 72,
      "outputs": [
        {
          "data": {
            "text/plain": "91786.23076923077"
          },
          "execution_count": 72,
          "metadata": {},
          "output_type": "execute_result"
        }
      ]
    },
    {
      "metadata": {
        "trusted": false
      },
      "id": "2a35174a",
      "cell_type": "code",
      "source": "#What is the average salary of rank Associate Prof?",
      "execution_count": 75,
      "outputs": []
    },
    {
      "metadata": {
        "trusted": false
      },
      "id": "801460b5",
      "cell_type": "code",
      "source": "#What is the average salary of rank Assistant Prof?",
      "execution_count": 76,
      "outputs": []
    },
    {
      "metadata": {
        "trusted": false
      },
      "id": "d26e9681",
      "cell_type": "code",
      "source": "df[df['rank']=='AsstProf']['salary'].mean()",
      "execution_count": 74,
      "outputs": [
        {
          "data": {
            "text/plain": "81362.78947368421"
          },
          "execution_count": 74,
          "metadata": {},
          "output_type": "execute_result"
        }
      ]
    },
    {
      "metadata": {},
      "id": "e9a30ab8",
      "cell_type": "markdown",
      "source": "**Groupby function**\n- Instead of calculating average salaries separately, we can use pandas groupby method."
    },
    {
      "metadata": {
        "trusted": false
      },
      "id": "b2fb8d8a",
      "cell_type": "code",
      "source": "df.groupby('rank')['salary'].mean()",
      "execution_count": 77,
      "outputs": [
        {
          "data": {
            "text/plain": "rank\nAssocProf     91786.230769\nAsstProf      81362.789474\nProf         123624.804348\nName: salary, dtype: float64"
          },
          "execution_count": 77,
          "metadata": {},
          "output_type": "execute_result"
        }
      ]
    },
    {
      "metadata": {
        "trusted": false
      },
      "id": "71c71c71",
      "cell_type": "code",
      "source": "#Grouby aggregate method",
      "execution_count": 78,
      "outputs": []
    },
    {
      "metadata": {
        "trusted": false
      },
      "id": "8362cd76",
      "cell_type": "code",
      "source": "#min,max,mean,median",
      "execution_count": 78,
      "outputs": []
    },
    {
      "metadata": {
        "trusted": false
      },
      "id": "81425e23",
      "cell_type": "code",
      "source": "df.groupby('rank')['salary'].agg({'min','max','mean','median'})",
      "execution_count": 81,
      "outputs": [
        {
          "data": {
            "text/html": "<div>\n<style scoped>\n    .dataframe tbody tr th:only-of-type {\n        vertical-align: middle;\n    }\n\n    .dataframe tbody tr th {\n        vertical-align: top;\n    }\n\n    .dataframe thead th {\n        text-align: right;\n    }\n</style>\n<table border=\"1\" class=\"dataframe\">\n  <thead>\n    <tr style=\"text-align: right;\">\n      <th></th>\n      <th>max</th>\n      <th>median</th>\n      <th>min</th>\n      <th>mean</th>\n    </tr>\n    <tr>\n      <th>rank</th>\n      <th></th>\n      <th></th>\n      <th></th>\n      <th></th>\n    </tr>\n  </thead>\n  <tbody>\n    <tr>\n      <th>AssocProf</th>\n      <td>119800</td>\n      <td>103613.0</td>\n      <td>62884</td>\n      <td>91786.230769</td>\n    </tr>\n    <tr>\n      <th>AsstProf</th>\n      <td>97032</td>\n      <td>78500.0</td>\n      <td>63100</td>\n      <td>81362.789474</td>\n    </tr>\n    <tr>\n      <th>Prof</th>\n      <td>186960</td>\n      <td>123321.5</td>\n      <td>57800</td>\n      <td>123624.804348</td>\n    </tr>\n  </tbody>\n</table>\n</div>",
            "text/plain": "              max    median    min           mean\nrank                                             \nAssocProf  119800  103613.0  62884   91786.230769\nAsstProf    97032   78500.0  63100   81362.789474\nProf       186960  123321.5  57800  123624.804348"
          },
          "execution_count": 81,
          "metadata": {},
          "output_type": "execute_result"
        }
      ]
    },
    {
      "metadata": {
        "trusted": false
      },
      "id": "9335dc53",
      "cell_type": "code",
      "source": "",
      "execution_count": null,
      "outputs": []
    }
  ],
  "metadata": {
    "kernelspec": {
      "name": "python3",
      "display_name": "Python 3 (ipykernel)",
      "language": "python"
    },
    "language_info": {
      "name": "python",
      "version": "3.9.13",
      "mimetype": "text/x-python",
      "codemirror_mode": {
        "name": "ipython",
        "version": 3
      },
      "pygments_lexer": "ipython3",
      "nbconvert_exporter": "python",
      "file_extension": ".py"
    },
    "gist": {
      "id": "",
      "data": {
        "description": "ExcelR/Pandas.ipynb",
        "public": true
      }
    }
  },
  "nbformat": 4,
  "nbformat_minor": 5
}